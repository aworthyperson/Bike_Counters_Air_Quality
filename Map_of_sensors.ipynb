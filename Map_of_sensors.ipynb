{
 "cells": [
  {
   "cell_type": "markdown",
   "id": "77c97e6f-59a0-4963-a8ca-a8215888e18d",
   "metadata": {},
   "source": [
    "## Map of Sensors "
   ]
  },
  {
   "cell_type": "code",
   "execution_count": null,
   "id": "fd47ab03-57ac-4013-b1f2-759f3e727ec1",
   "metadata": {},
   "outputs": [],
   "source": [
    "!pip install selenium"
   ]
  },
  {
   "cell_type": "code",
   "execution_count": null,
   "id": "9e90bcc8-e8d8-4945-b32b-0c070de88494",
   "metadata": {},
   "outputs": [],
   "source": [
    "import geopandas\n",
    "import contextily as cx\n",
    "import pandas as pd\n",
    "import numpy as np\n",
    "\n",
    "import matplotlib.pyplot as plt\n",
    "#%matplotlib inline\n",
    "from folium.features import DivIcon\n",
    "import folium\n",
    "import folium\n",
    "from folium import plugins\n",
    "from folium.plugins import HeatMap\n",
    "from folium.plugins import MarkerCluster\n",
    "\n",
    "import io\n",
    "from PIL import Image\n",
    "\n",
    "import seaborn as sn\n"
   ]
  },
  {
   "cell_type": "markdown",
   "id": "bada828b-d3cc-4641-9c0a-1bf84d31e5fd",
   "metadata": {},
   "source": [
    "### Locations of the AQ monitering sites: \n",
    "\n",
    "10th & Weller: 47.597222, -122.319722, 42\n",
    "\n",
    "Beacon Hill: 47.568214, -122.308619, 334\n",
    "\n",
    "### Locations of the Bike Counters: \n",
    "\n",
    "Freemont: 47.648137, -122.349868\n",
    "\n",
    "Spokane Street Bridge: 47.571379, -122.347458\n",
    "\n",
    "### Locations of the SEA Weather Data: \n",
    "LATITUDE: 47.44472\n",
    "\n",
    "LONGITUDE: -122.31361\n"
   ]
  },
  {
   "cell_type": "code",
   "execution_count": null,
   "id": "bba6f7ab-7d46-4411-b604-f74904466f64",
   "metadata": {},
   "outputs": [],
   "source": [
    "df = pd.read_csv('Sensors_AQ.csv')\n",
    "df"
   ]
  },
  {
   "cell_type": "code",
   "execution_count": null,
   "id": "693df394-38ef-4270-951b-e4fba28446bd",
   "metadata": {},
   "outputs": [],
   "source": [
    "map1 = folium.Map(location=[47.553538, -122.307672],\n",
    "                        zoom_start=10.5, tiles=\"openstreetmap\", zoom_control=True ) \n",
    "#stamenwatercolor, stamenterrain, openstreetmap\n",
    "             \n",
    "    \n",
    "for i in df.index:\n",
    "    lat = df.Latitude[i]\n",
    "    long = df.Longitude[i]\n",
    "    name = df.Sensor[i]\n",
    "    folium.map.Marker(\n",
    "    [lat, long],\n",
    "    icon=DivIcon(\n",
    "        icon_size=(60,30),\n",
    "        icon_anchor=(20,),\n",
    "        html='<div style=\"font-size: 8pt\"><b>{}</div>'.format(name),\n",
    "        )\n",
    "    ).add_to(map1)\n",
    "    marker = folium.Marker([lat, long]).add_to(map1)\n",
    "   # marker = folium.CircleMarker([lat, long], fill_color='red').add_to(map1)\n",
    "    \n",
    "map1"
   ]
  },
  {
   "cell_type": "code",
   "execution_count": null,
   "id": "4f1bc444-73e4-4955-a2a4-72c44172d2cc",
   "metadata": {},
   "outputs": [],
   "source": [
    "import selenium.webdriver\n",
    "import time\n",
    "\n",
    "from selenium import webdriver\n",
    "\n",
    "img_data = map1._to_png(30)\n",
    "img = Image.open(io.BytesIO(img_data))\n",
    "img.save('map_zoomAQ.png')"
   ]
  },
  {
   "cell_type": "code",
   "execution_count": null,
   "id": "d08056f9-e0cf-4825-94a9-d3186303d532",
   "metadata": {},
   "outputs": [],
   "source": [
    "map2 = folium.Map(location=[35.553538, -120.307672],\n",
    "                        zoom_start=3.5, tiles=\"stamenterrain\", zoom_control=True ) \n",
    "#stamenwatercolor, stamenterrain, openstreetmap\n",
    "             \n",
    "    \n",
    "for i in df.index:\n",
    "    lat = df.Latitude[i]\n",
    "    long = df.Longitude[i]\n",
    "    name = df.Sensor[i]\n",
    "    marker = folium.Marker([lat, long]).add_to(map2)\n",
    "   # marker = folium.CircleMarker([lat, long], fill_color='red').add_to(map1)\n",
    "    \n",
    "map2"
   ]
  },
  {
   "cell_type": "code",
   "execution_count": null,
   "id": "e5f7d1c5-2c24-465e-94d7-a900f67ce1e9",
   "metadata": {},
   "outputs": [],
   "source": [
    "img_data = map2._to_png(10)\n",
    "img = Image.open(io.BytesIO(img_data))\n",
    "img.save('map_outAQ.png')"
   ]
  },
  {
   "cell_type": "code",
   "execution_count": null,
   "id": "03497a25-fb55-4d28-b5aa-9095d9403747",
   "metadata": {},
   "outputs": [],
   "source": []
  }
 ],
 "metadata": {
  "kernelspec": {
   "display_name": "Python 3 (ipykernel)",
   "language": "python",
   "name": "python3"
  },
  "language_info": {
   "codemirror_mode": {
    "name": "ipython",
    "version": 3
   },
   "file_extension": ".py",
   "mimetype": "text/x-python",
   "name": "python",
   "nbconvert_exporter": "python",
   "pygments_lexer": "ipython3",
   "version": "3.9.12"
  }
 },
 "nbformat": 4,
 "nbformat_minor": 5
}
