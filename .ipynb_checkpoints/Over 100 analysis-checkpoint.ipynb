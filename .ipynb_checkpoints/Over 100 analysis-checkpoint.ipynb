{
 "cells": [
  {
   "cell_type": "code",
   "execution_count": 3,
   "id": "7c503918",
   "metadata": {},
   "outputs": [
    {
     "name": "stderr",
     "output_type": "stream",
     "text": [
      "Updating HTML index of packages in '.Library'\n",
      "Making 'packages.html' ... done\n"
     ]
    },
    {
     "ename": "ERROR",
     "evalue": "Error: package or namespace load failed for ‘ggplot2’ in loadNamespace(j <- i[[1L]], c(lib.loc, .libPaths()), versionCheck = vI[[j]]):\n there is no package called ‘tibble’\n",
     "output_type": "error",
     "traceback": [
      "Error: package or namespace load failed for ‘ggplot2’ in loadNamespace(j <- i[[1L]], c(lib.loc, .libPaths()), versionCheck = vI[[j]]):\n there is no package called ‘tibble’\nTraceback:\n",
      "1. library(ggplot2)",
      "2. tryCatch({\n .     attr(package, \"LibPath\") <- which.lib.loc\n .     ns <- loadNamespace(package, lib.loc)\n .     env <- attachNamespace(ns, pos = pos, deps, exclude, include.only)\n . }, error = function(e) {\n .     P <- if (!is.null(cc <- conditionCall(e))) \n .         paste(\" in\", deparse(cc)[1L])\n .     else \"\"\n .     msg <- gettextf(\"package or namespace load failed for %s%s:\\n %s\", \n .         sQuote(package), P, conditionMessage(e))\n .     if (logical.return) \n .         message(paste(\"Error:\", msg), domain = NA)\n .     else stop(msg, call. = FALSE, domain = NA)\n . })",
      "3. tryCatchList(expr, classes, parentenv, handlers)",
      "4. tryCatchOne(expr, names, parentenv, handlers[[1L]])",
      "5. value[[3L]](cond)",
      "6. stop(msg, call. = FALSE, domain = NA)"
     ]
    }
   ],
   "source": [
    "install.packages('corrplot')\n",
    "library(corrplot)\n",
    "library(data.table)\n",
    "library(lubridate)\n",
    "library(ggplot2)\n",
    "library(reshape2)\n",
    "library(scales)\n",
    "library(zoo)\n",
    "library(plyr)\n",
    "library(readr)\n",
    "library(stats)\n",
    "library(quantmod)\n",
    "library(dplyr)\n",
    "library(readxl)\n",
    "library(ggplot2)\n",
    "library(tidyverse)\n",
    "library(data.table)\n",
    "library(lubridate)\n",
    "library(ggplot2)\n",
    "library(reshape2)\n",
    "library(scales)\n",
    "library(zoo)\n",
    "library(plyr)\n",
    "library(readr)\n",
    "library(lubridate)\n",
    "library(reshape2)\n",
    "library(scales)\n",
    "library(broom)\n",
    "invisible(1:13) # hides it\n",
    "library(repr)\n",
    "#library(tibble)\n",
    "\n",
    "options(repr.plot.width=8, repr.plot.height=6) #controls plot size in jupyter"
   ]
  },
  {
   "cell_type": "code",
   "execution_count": null,
   "id": "29a1c7ab",
   "metadata": {},
   "outputs": [],
   "source": [
    "#import dataset \n",
    "df<- read.csv(\"Data/Bike_AQI_Weather.csv\")\n",
    "head(df)\n",
    "colnames(df)\n",
    "\n",
    "df$Date= as.Date(df$Date)\n",
    "df$DOY= as.Date(df$DOY)\n",
    "df"
   ]
  }
 ],
 "metadata": {
  "kernelspec": {
   "display_name": "R",
   "language": "R",
   "name": "ir"
  },
  "language_info": {
   "codemirror_mode": "r",
   "file_extension": ".r",
   "mimetype": "text/x-r-source",
   "name": "R",
   "pygments_lexer": "r",
   "version": "3.6.1"
  }
 },
 "nbformat": 4,
 "nbformat_minor": 5
}
