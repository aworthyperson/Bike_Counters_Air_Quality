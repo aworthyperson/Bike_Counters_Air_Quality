{
 "cells": [
  {
   "cell_type": "markdown",
   "id": "62dcc160",
   "metadata": {},
   "source": [
    "## Amanda Worthy's Bike AQ project notebook in R"
   ]
  },
  {
   "cell_type": "markdown",
   "id": "413936d2",
   "metadata": {},
   "source": [
    "## Load packages"
   ]
  },
  {
   "cell_type": "code",
   "execution_count": 54,
   "id": "4b55a431",
   "metadata": {},
   "outputs": [],
   "source": [
    "library(data.table)\n",
    "library(lubridate)\n",
    "library(ggplot2)\n",
    "library(reshape2)\n",
    "library(scales)\n",
    "library(zoo)\n",
    "library(plyr)\n",
    "library(readr)\n",
    "library(stats)\n",
    "library(quantmod)\n",
    "library(dplyr)\n",
    "library(readxl)\n",
    "library(ggplot2)\n",
    "library(tidyverse)\n",
    "library(data.table)\n",
    "library(lubridate)\n",
    "library(ggplot2)\n",
    "library(reshape2)\n",
    "library(scales)\n",
    "library(zoo)\n",
    "library(plyr)\n",
    "library(readr)\n",
    "library(lubridate)\n",
    "library(reshape2)\n",
    "library(scales)\n",
    "library(broom)\n",
    "invisible(1:13) # hides it\n",
    "library(repr)\n",
    "library(tibble)\n",
    "\n",
    "options(repr.plot.width=5, repr.plot.height=4) #controls plot size in jupyter"
   ]
  },
  {
   "cell_type": "markdown",
   "id": "82b65b36",
   "metadata": {},
   "source": [
    "# Air Quality Dataset "
   ]
  },
  {
   "cell_type": "markdown",
   "id": "971ab2c9",
   "metadata": {},
   "source": [
    "Locations of the AQ monitering sites: \n",
    "\n",
    "10th & Weller: 47.597222, -122.319722, 42\n",
    "Beacon Hill: 47.568214, -122.308619, 334"
   ]
  },
  {
   "cell_type": "markdown",
   "id": "8c5663ff",
   "metadata": {},
   "source": [
    "Locations of the Bike Counters: \n",
    "\n",
    "10th & Weller: 47.597222, -122.319722, 42\n",
    "Beacon Hill: 47.568214, -122.308619, 334"
   ]
  },
  {
   "cell_type": "code",
   "execution_count": null,
   "id": "813225d8",
   "metadata": {},
   "outputs": [],
   "source": []
  },
  {
   "cell_type": "code",
   "execution_count": 55,
   "id": "ea8ca31a",
   "metadata": {},
   "outputs": [
    {
     "data": {
      "text/html": [
       "<table>\n",
       "<thead><tr><th scope=col>Site</th><th scope=col>Date</th><th scope=col>ParameterType</th><th scope=col>ParameterName</th><th scope=col>Units</th><th scope=col>UnitsFull</th><th scope=col>Value</th></tr></thead>\n",
       "<tbody>\n",
       "\t<tr><td>Seattle 10th &amp; Weller </td><td>6/11/14 4:00              </td><td>CO                        </td><td>Carbon Monoxide (Trace CO)</td><td>ppb                       </td><td>Parts per Million         </td><td>250.1                     </td></tr>\n",
       "\t<tr><td>Seattle 10th &amp; Weller </td><td>6/11/14 5:00              </td><td>CO                        </td><td>Carbon Monoxide (Trace CO)</td><td>ppb                       </td><td>Parts per Million         </td><td>399.0                     </td></tr>\n",
       "\t<tr><td>Seattle 10th &amp; Weller </td><td>6/11/14 6:00              </td><td>CO                        </td><td>Carbon Monoxide (Trace CO)</td><td>ppb                       </td><td>Parts per Million         </td><td>637.3                     </td></tr>\n",
       "\t<tr><td>Seattle 10th &amp; Weller </td><td>6/11/14 7:00              </td><td>CO                        </td><td>Carbon Monoxide (Trace CO)</td><td>ppb                       </td><td>Parts per Million         </td><td>722.8                     </td></tr>\n",
       "\t<tr><td>Seattle 10th &amp; Weller </td><td>6/11/14 8:00              </td><td>CO                        </td><td>Carbon Monoxide (Trace CO)</td><td>ppb                       </td><td>Parts per Million         </td><td>673.2                     </td></tr>\n",
       "\t<tr><td>Seattle 10th &amp; Weller </td><td>6/11/14 9:00              </td><td>CO                        </td><td>Carbon Monoxide (Trace CO)</td><td>ppb                       </td><td>Parts per Million         </td><td>594.3                     </td></tr>\n",
       "</tbody>\n",
       "</table>\n"
      ],
      "text/latex": [
       "\\begin{tabular}{r|lllllll}\n",
       " Site & Date & ParameterType & ParameterName & Units & UnitsFull & Value\\\\\n",
       "\\hline\n",
       "\t Seattle 10th \\& Weller    & 6/11/14 4:00               & CO                         & Carbon Monoxide (Trace CO) & ppb                        & Parts per Million          & 250.1                     \\\\\n",
       "\t Seattle 10th \\& Weller    & 6/11/14 5:00               & CO                         & Carbon Monoxide (Trace CO) & ppb                        & Parts per Million          & 399.0                     \\\\\n",
       "\t Seattle 10th \\& Weller    & 6/11/14 6:00               & CO                         & Carbon Monoxide (Trace CO) & ppb                        & Parts per Million          & 637.3                     \\\\\n",
       "\t Seattle 10th \\& Weller    & 6/11/14 7:00               & CO                         & Carbon Monoxide (Trace CO) & ppb                        & Parts per Million          & 722.8                     \\\\\n",
       "\t Seattle 10th \\& Weller    & 6/11/14 8:00               & CO                         & Carbon Monoxide (Trace CO) & ppb                        & Parts per Million          & 673.2                     \\\\\n",
       "\t Seattle 10th \\& Weller    & 6/11/14 9:00               & CO                         & Carbon Monoxide (Trace CO) & ppb                        & Parts per Million          & 594.3                     \\\\\n",
       "\\end{tabular}\n"
      ],
      "text/markdown": [
       "\n",
       "| Site | Date | ParameterType | ParameterName | Units | UnitsFull | Value |\n",
       "|---|---|---|---|---|---|---|\n",
       "| Seattle 10th & Weller      | 6/11/14 4:00               | CO                         | Carbon Monoxide (Trace CO) | ppb                        | Parts per Million          | 250.1                      |\n",
       "| Seattle 10th & Weller      | 6/11/14 5:00               | CO                         | Carbon Monoxide (Trace CO) | ppb                        | Parts per Million          | 399.0                      |\n",
       "| Seattle 10th & Weller      | 6/11/14 6:00               | CO                         | Carbon Monoxide (Trace CO) | ppb                        | Parts per Million          | 637.3                      |\n",
       "| Seattle 10th & Weller      | 6/11/14 7:00               | CO                         | Carbon Monoxide (Trace CO) | ppb                        | Parts per Million          | 722.8                      |\n",
       "| Seattle 10th & Weller      | 6/11/14 8:00               | CO                         | Carbon Monoxide (Trace CO) | ppb                        | Parts per Million          | 673.2                      |\n",
       "| Seattle 10th & Weller      | 6/11/14 9:00               | CO                         | Carbon Monoxide (Trace CO) | ppb                        | Parts per Million          | 594.3                      |\n",
       "\n"
      ],
      "text/plain": [
       "  Site                  Date         ParameterType ParameterName             \n",
       "1 Seattle 10th & Weller 6/11/14 4:00 CO            Carbon Monoxide (Trace CO)\n",
       "2 Seattle 10th & Weller 6/11/14 5:00 CO            Carbon Monoxide (Trace CO)\n",
       "3 Seattle 10th & Weller 6/11/14 6:00 CO            Carbon Monoxide (Trace CO)\n",
       "4 Seattle 10th & Weller 6/11/14 7:00 CO            Carbon Monoxide (Trace CO)\n",
       "5 Seattle 10th & Weller 6/11/14 8:00 CO            Carbon Monoxide (Trace CO)\n",
       "6 Seattle 10th & Weller 6/11/14 9:00 CO            Carbon Monoxide (Trace CO)\n",
       "  Units UnitsFull         Value\n",
       "1 ppb   Parts per Million 250.1\n",
       "2 ppb   Parts per Million 399.0\n",
       "3 ppb   Parts per Million 637.3\n",
       "4 ppb   Parts per Million 722.8\n",
       "5 ppb   Parts per Million 673.2\n",
       "6 ppb   Parts per Million 594.3"
      ]
     },
     "metadata": {},
     "output_type": "display_data"
    },
    {
     "data": {
      "text/html": [
       "<ol class=list-inline>\n",
       "\t<li>'Site'</li>\n",
       "\t<li>'Date'</li>\n",
       "\t<li>'ParameterType'</li>\n",
       "\t<li>'ParameterName'</li>\n",
       "\t<li>'Units'</li>\n",
       "\t<li>'UnitsFull'</li>\n",
       "\t<li>'Value'</li>\n",
       "</ol>\n"
      ],
      "text/latex": [
       "\\begin{enumerate*}\n",
       "\\item 'Site'\n",
       "\\item 'Date'\n",
       "\\item 'ParameterType'\n",
       "\\item 'ParameterName'\n",
       "\\item 'Units'\n",
       "\\item 'UnitsFull'\n",
       "\\item 'Value'\n",
       "\\end{enumerate*}\n"
      ],
      "text/markdown": [
       "1. 'Site'\n",
       "2. 'Date'\n",
       "3. 'ParameterType'\n",
       "4. 'ParameterName'\n",
       "5. 'Units'\n",
       "6. 'UnitsFull'\n",
       "7. 'Value'\n",
       "\n",
       "\n"
      ],
      "text/plain": [
       "[1] \"Site\"          \"Date\"          \"ParameterType\" \"ParameterName\"\n",
       "[5] \"Units\"         \"UnitsFull\"     \"Value\"        "
      ]
     },
     "metadata": {},
     "output_type": "display_data"
    }
   ],
   "source": [
    "#import dataset \n",
    "df<- read.csv(\"Data/AW_DataDownload_11_14_22.csv\")\n",
    "head(df)\n",
    "colnames(df)"
   ]
  },
  {
   "cell_type": "code",
   "execution_count": 56,
   "id": "bb6a3597",
   "metadata": {},
   "outputs": [
    {
     "data": {
      "text/html": [
       "<ol class=list-inline>\n",
       "\t<li>CO</li>\n",
       "\t<li>NO2</li>\n",
       "\t<li>Pm25</li>\n",
       "\t<li>Temperature</li>\n",
       "\t<li>WindDirection</li>\n",
       "\t<li>WindSpeed</li>\n",
       "\t<li>Ozone</li>\n",
       "\t<li>SO2</li>\n",
       "\t<li>RelativeHumidity</li>\n",
       "</ol>\n",
       "\n",
       "<details>\n",
       "\t<summary style=display:list-item;cursor:pointer>\n",
       "\t\t<strong>Levels</strong>:\n",
       "\t</summary>\n",
       "\t<ol class=list-inline>\n",
       "\t\t<li>'CO'</li>\n",
       "\t\t<li>'NO2'</li>\n",
       "\t\t<li>'Ozone'</li>\n",
       "\t\t<li>'Pm25'</li>\n",
       "\t\t<li>'RelativeHumidity'</li>\n",
       "\t\t<li>'SO2'</li>\n",
       "\t\t<li>'Temperature'</li>\n",
       "\t\t<li>'WindDirection'</li>\n",
       "\t\t<li>'WindSpeed'</li>\n",
       "\t</ol>\n",
       "</details>"
      ],
      "text/latex": [
       "\\begin{enumerate*}\n",
       "\\item CO\n",
       "\\item NO2\n",
       "\\item Pm25\n",
       "\\item Temperature\n",
       "\\item WindDirection\n",
       "\\item WindSpeed\n",
       "\\item Ozone\n",
       "\\item SO2\n",
       "\\item RelativeHumidity\n",
       "\\end{enumerate*}\n",
       "\n",
       "\\emph{Levels}: \\begin{enumerate*}\n",
       "\\item 'CO'\n",
       "\\item 'NO2'\n",
       "\\item 'Ozone'\n",
       "\\item 'Pm25'\n",
       "\\item 'RelativeHumidity'\n",
       "\\item 'SO2'\n",
       "\\item 'Temperature'\n",
       "\\item 'WindDirection'\n",
       "\\item 'WindSpeed'\n",
       "\\end{enumerate*}\n"
      ],
      "text/markdown": [
       "1. CO\n",
       "2. NO2\n",
       "3. Pm25\n",
       "4. Temperature\n",
       "5. WindDirection\n",
       "6. WindSpeed\n",
       "7. Ozone\n",
       "8. SO2\n",
       "9. RelativeHumidity\n",
       "\n",
       "\n",
       "\n",
       "**Levels**: 1. 'CO'\n",
       "2. 'NO2'\n",
       "3. 'Ozone'\n",
       "4. 'Pm25'\n",
       "5. 'RelativeHumidity'\n",
       "6. 'SO2'\n",
       "7. 'Temperature'\n",
       "8. 'WindDirection'\n",
       "9. 'WindSpeed'\n",
       "\n",
       "\n"
      ],
      "text/plain": [
       "[1] CO               NO2              Pm25             Temperature     \n",
       "[5] WindDirection    WindSpeed        Ozone            SO2             \n",
       "[9] RelativeHumidity\n",
       "9 Levels: CO NO2 Ozone Pm25 RelativeHumidity SO2 Temperature ... WindSpeed"
      ]
     },
     "metadata": {},
     "output_type": "display_data"
    }
   ],
   "source": [
    "unique(df$ParameterType)"
   ]
  },
  {
   "cell_type": "code",
   "execution_count": 57,
   "id": "103a742f",
   "metadata": {},
   "outputs": [
    {
     "data": {
      "text/html": [
       "<ol class=list-inline>\n",
       "\t<li>Carbon Monoxide (Trace CO)</li>\n",
       "\t<li>Nitrogen Dioxide (NO2)</li>\n",
       "\t<li>Pm2.5 MetOne Bam</li>\n",
       "\t<li>Pm2.5 Teom FEM</li>\n",
       "\t<li>Temperature 10 m</li>\n",
       "\t<li>Wind Direction Sonic</li>\n",
       "\t<li>Wind Speed Sonic</li>\n",
       "\t<li>Nitrogen Dioxide(NO2_CAPS)</li>\n",
       "\t<li>Ozone (uv abs)</li>\n",
       "\t<li>Sulfur Dioxide (Trace SO2)</li>\n",
       "\t<li>Relative Humidity</li>\n",
       "\t<li>Temperature</li>\n",
       "\t<li>Wind Direction Vane</li>\n",
       "\t<li>Wind Speed Propeller</li>\n",
       "</ol>\n",
       "\n",
       "<details>\n",
       "\t<summary style=display:list-item;cursor:pointer>\n",
       "\t\t<strong>Levels</strong>:\n",
       "\t</summary>\n",
       "\t<ol class=list-inline>\n",
       "\t\t<li>'Carbon Monoxide (Trace CO)'</li>\n",
       "\t\t<li>'Nitrogen Dioxide (NO2)'</li>\n",
       "\t\t<li>'Nitrogen Dioxide(NO2_CAPS)'</li>\n",
       "\t\t<li>'Ozone (uv abs)'</li>\n",
       "\t\t<li>'Pm2.5 MetOne Bam'</li>\n",
       "\t\t<li>'Pm2.5 Teom FEM'</li>\n",
       "\t\t<li>'Relative Humidity'</li>\n",
       "\t\t<li>'Sulfur Dioxide (Trace SO2)'</li>\n",
       "\t\t<li>'Temperature'</li>\n",
       "\t\t<li>'Temperature 10 m'</li>\n",
       "\t\t<li>'Wind Direction Sonic'</li>\n",
       "\t\t<li>'Wind Direction Vane'</li>\n",
       "\t\t<li>'Wind Speed Propeller'</li>\n",
       "\t\t<li>'Wind Speed Sonic'</li>\n",
       "\t</ol>\n",
       "</details>"
      ],
      "text/latex": [
       "\\begin{enumerate*}\n",
       "\\item Carbon Monoxide (Trace CO)\n",
       "\\item Nitrogen Dioxide (NO2)\n",
       "\\item Pm2.5 MetOne Bam\n",
       "\\item Pm2.5 Teom FEM\n",
       "\\item Temperature 10 m\n",
       "\\item Wind Direction Sonic\n",
       "\\item Wind Speed Sonic\n",
       "\\item Nitrogen Dioxide(NO2\\_CAPS)\n",
       "\\item Ozone (uv abs)\n",
       "\\item Sulfur Dioxide (Trace SO2)\n",
       "\\item Relative Humidity\n",
       "\\item Temperature\n",
       "\\item Wind Direction Vane\n",
       "\\item Wind Speed Propeller\n",
       "\\end{enumerate*}\n",
       "\n",
       "\\emph{Levels}: \\begin{enumerate*}\n",
       "\\item 'Carbon Monoxide (Trace CO)'\n",
       "\\item 'Nitrogen Dioxide (NO2)'\n",
       "\\item 'Nitrogen Dioxide(NO2\\_CAPS)'\n",
       "\\item 'Ozone (uv abs)'\n",
       "\\item 'Pm2.5 MetOne Bam'\n",
       "\\item 'Pm2.5 Teom FEM'\n",
       "\\item 'Relative Humidity'\n",
       "\\item 'Sulfur Dioxide (Trace SO2)'\n",
       "\\item 'Temperature'\n",
       "\\item 'Temperature 10 m'\n",
       "\\item 'Wind Direction Sonic'\n",
       "\\item 'Wind Direction Vane'\n",
       "\\item 'Wind Speed Propeller'\n",
       "\\item 'Wind Speed Sonic'\n",
       "\\end{enumerate*}\n"
      ],
      "text/markdown": [
       "1. Carbon Monoxide (Trace CO)\n",
       "2. Nitrogen Dioxide (NO2)\n",
       "3. Pm2.5 MetOne Bam\n",
       "4. Pm2.5 Teom FEM\n",
       "5. Temperature 10 m\n",
       "6. Wind Direction Sonic\n",
       "7. Wind Speed Sonic\n",
       "8. Nitrogen Dioxide(NO2_CAPS)\n",
       "9. Ozone (uv abs)\n",
       "10. Sulfur Dioxide (Trace SO2)\n",
       "11. Relative Humidity\n",
       "12. Temperature\n",
       "13. Wind Direction Vane\n",
       "14. Wind Speed Propeller\n",
       "\n",
       "\n",
       "\n",
       "**Levels**: 1. 'Carbon Monoxide (Trace CO)'\n",
       "2. 'Nitrogen Dioxide (NO2)'\n",
       "3. 'Nitrogen Dioxide(NO2_CAPS)'\n",
       "4. 'Ozone (uv abs)'\n",
       "5. 'Pm2.5 MetOne Bam'\n",
       "6. 'Pm2.5 Teom FEM'\n",
       "7. 'Relative Humidity'\n",
       "8. 'Sulfur Dioxide (Trace SO2)'\n",
       "9. 'Temperature'\n",
       "10. 'Temperature 10 m'\n",
       "11. 'Wind Direction Sonic'\n",
       "12. 'Wind Direction Vane'\n",
       "13. 'Wind Speed Propeller'\n",
       "14. 'Wind Speed Sonic'\n",
       "\n",
       "\n"
      ],
      "text/plain": [
       " [1] Carbon Monoxide (Trace CO) Nitrogen Dioxide (NO2)    \n",
       " [3] Pm2.5 MetOne Bam           Pm2.5 Teom FEM            \n",
       " [5] Temperature 10 m           Wind Direction Sonic      \n",
       " [7] Wind Speed Sonic           Nitrogen Dioxide(NO2_CAPS)\n",
       " [9] Ozone (uv abs)             Sulfur Dioxide (Trace SO2)\n",
       "[11] Relative Humidity          Temperature               \n",
       "[13] Wind Direction Vane        Wind Speed Propeller      \n",
       "14 Levels: Carbon Monoxide (Trace CO) ... Wind Speed Sonic"
      ]
     },
     "metadata": {},
     "output_type": "display_data"
    }
   ],
   "source": [
    "unique(df$ParameterName)"
   ]
  },
  {
   "cell_type": "code",
   "execution_count": 58,
   "id": "2f70529e",
   "metadata": {},
   "outputs": [
    {
     "data": {
      "text/html": [
       "<table>\n",
       "<thead><tr><th scope=col>Site</th><th scope=col>Date</th><th scope=col>ParameterName</th><th scope=col>Value</th></tr></thead>\n",
       "<tbody>\n",
       "\t<tr><td>Seattle 10th &amp; Weller </td><td>6/11/14 4:00              </td><td>Carbon Monoxide (Trace CO)</td><td>250.1                     </td></tr>\n",
       "\t<tr><td>Seattle 10th &amp; Weller </td><td>6/11/14 5:00              </td><td>Carbon Monoxide (Trace CO)</td><td>399.0                     </td></tr>\n",
       "\t<tr><td>Seattle 10th &amp; Weller </td><td>6/11/14 6:00              </td><td>Carbon Monoxide (Trace CO)</td><td>637.3                     </td></tr>\n",
       "\t<tr><td>Seattle 10th &amp; Weller </td><td>6/11/14 7:00              </td><td>Carbon Monoxide (Trace CO)</td><td>722.8                     </td></tr>\n",
       "\t<tr><td>Seattle 10th &amp; Weller </td><td>6/11/14 8:00              </td><td>Carbon Monoxide (Trace CO)</td><td>673.2                     </td></tr>\n",
       "\t<tr><td>Seattle 10th &amp; Weller </td><td>6/11/14 9:00              </td><td>Carbon Monoxide (Trace CO)</td><td>594.3                     </td></tr>\n",
       "</tbody>\n",
       "</table>\n"
      ],
      "text/latex": [
       "\\begin{tabular}{r|llll}\n",
       " Site & Date & ParameterName & Value\\\\\n",
       "\\hline\n",
       "\t Seattle 10th \\& Weller    & 6/11/14 4:00               & Carbon Monoxide (Trace CO) & 250.1                     \\\\\n",
       "\t Seattle 10th \\& Weller    & 6/11/14 5:00               & Carbon Monoxide (Trace CO) & 399.0                     \\\\\n",
       "\t Seattle 10th \\& Weller    & 6/11/14 6:00               & Carbon Monoxide (Trace CO) & 637.3                     \\\\\n",
       "\t Seattle 10th \\& Weller    & 6/11/14 7:00               & Carbon Monoxide (Trace CO) & 722.8                     \\\\\n",
       "\t Seattle 10th \\& Weller    & 6/11/14 8:00               & Carbon Monoxide (Trace CO) & 673.2                     \\\\\n",
       "\t Seattle 10th \\& Weller    & 6/11/14 9:00               & Carbon Monoxide (Trace CO) & 594.3                     \\\\\n",
       "\\end{tabular}\n"
      ],
      "text/markdown": [
       "\n",
       "| Site | Date | ParameterName | Value |\n",
       "|---|---|---|---|\n",
       "| Seattle 10th & Weller      | 6/11/14 4:00               | Carbon Monoxide (Trace CO) | 250.1                      |\n",
       "| Seattle 10th & Weller      | 6/11/14 5:00               | Carbon Monoxide (Trace CO) | 399.0                      |\n",
       "| Seattle 10th & Weller      | 6/11/14 6:00               | Carbon Monoxide (Trace CO) | 637.3                      |\n",
       "| Seattle 10th & Weller      | 6/11/14 7:00               | Carbon Monoxide (Trace CO) | 722.8                      |\n",
       "| Seattle 10th & Weller      | 6/11/14 8:00               | Carbon Monoxide (Trace CO) | 673.2                      |\n",
       "| Seattle 10th & Weller      | 6/11/14 9:00               | Carbon Monoxide (Trace CO) | 594.3                      |\n",
       "\n"
      ],
      "text/plain": [
       "  Site                  Date         ParameterName              Value\n",
       "1 Seattle 10th & Weller 6/11/14 4:00 Carbon Monoxide (Trace CO) 250.1\n",
       "2 Seattle 10th & Weller 6/11/14 5:00 Carbon Monoxide (Trace CO) 399.0\n",
       "3 Seattle 10th & Weller 6/11/14 6:00 Carbon Monoxide (Trace CO) 637.3\n",
       "4 Seattle 10th & Weller 6/11/14 7:00 Carbon Monoxide (Trace CO) 722.8\n",
       "5 Seattle 10th & Weller 6/11/14 8:00 Carbon Monoxide (Trace CO) 673.2\n",
       "6 Seattle 10th & Weller 6/11/14 9:00 Carbon Monoxide (Trace CO) 594.3"
      ]
     },
     "metadata": {},
     "output_type": "display_data"
    }
   ],
   "source": [
    "df2= df %>% select(Site, Date, ParameterName, Value)\n",
    "head(df2)"
   ]
  },
  {
   "cell_type": "code",
   "execution_count": 59,
   "id": "56c02f9b",
   "metadata": {
    "scrolled": false
   },
   "outputs": [
    {
     "data": {
      "text/html": [
       "<table>\n",
       "<thead><tr><th></th><th scope=col>Site</th><th scope=col>Date</th><th scope=col>Carbon Monoxide (Trace CO)</th><th scope=col>Nitrogen Dioxide (NO2)</th><th scope=col>Nitrogen Dioxide(NO2_CAPS)</th><th scope=col>Ozone (uv abs)</th><th scope=col>Pm2.5 MetOne Bam</th><th scope=col>Pm2.5 Teom FEM</th><th scope=col>Relative Humidity</th><th scope=col>Sulfur Dioxide (Trace SO2)</th><th scope=col>Temperature</th><th scope=col>Temperature 10 m</th><th scope=col>Wind Direction Sonic</th><th scope=col>Wind Direction Vane</th><th scope=col>Wind Speed Propeller</th><th scope=col>Wind Speed Sonic</th></tr></thead>\n",
       "<tbody>\n",
       "\t<tr><th scope=row>167592</th><td>Seattle Beacon Hill</td><td>9/9/22 4:00        </td><td>108.3              </td><td>NA                 </td><td>5.192              </td><td>0.016              </td><td>4                  </td><td>NA                 </td><td>NA                 </td><td>13.2               </td><td>NA                 </td><td>57                 </td><td>31                 </td><td>NA                 </td><td>NA                 </td><td>NA                 </td></tr>\n",
       "\t<tr><th scope=row>167593</th><td>Seattle Beacon Hill</td><td>9/9/22 5:00        </td><td>131.7              </td><td>NA                 </td><td>6.896              </td><td>0.013              </td><td>4                  </td><td>NA                 </td><td>NA                 </td><td> 0.7               </td><td>NA                 </td><td>57                 </td><td>25                 </td><td>NA                 </td><td>NA                 </td><td>NA                 </td></tr>\n",
       "\t<tr><th scope=row>167594</th><td>Seattle Beacon Hill</td><td>9/9/22 6:00        </td><td>148.7              </td><td>NA                 </td><td>7.855              </td><td>0.013              </td><td>5                  </td><td>NA                 </td><td>NA                 </td><td> 0.8               </td><td>NA                 </td><td>57                 </td><td>26                 </td><td>NA                 </td><td>NA                 </td><td>NA                 </td></tr>\n",
       "\t<tr><th scope=row>167595</th><td>Seattle Beacon Hill</td><td>9/9/22 7:00        </td><td>151.5              </td><td>NA                 </td><td>8.191              </td><td>0.013              </td><td>6                  </td><td>NA                 </td><td>NA                 </td><td> 0.7               </td><td>NA                 </td><td>59                 </td><td>27                 </td><td>NA                 </td><td>NA                 </td><td>NA                 </td></tr>\n",
       "\t<tr><th scope=row>167596</th><td>Seattle Beacon Hill</td><td>9/9/22 8:00        </td><td>162.4              </td><td>NA                 </td><td>8.066              </td><td>0.013              </td><td>4                  </td><td>NA                 </td><td>NA                 </td><td> 0.6               </td><td>NA                 </td><td>61                 </td><td>30                 </td><td>NA                 </td><td>NA                 </td><td>NA                 </td></tr>\n",
       "\t<tr><th scope=row>167597</th><td>Seattle Beacon Hill</td><td>9/9/22 9:00        </td><td>167.7              </td><td>NA                 </td><td>6.780              </td><td>0.015              </td><td>4                  </td><td>NA                 </td><td>NA                 </td><td> 0.6               </td><td>NA                 </td><td>64                 </td><td>36                 </td><td>NA                 </td><td>NA                 </td><td>NA                 </td></tr>\n",
       "</tbody>\n",
       "</table>\n"
      ],
      "text/latex": [
       "\\begin{tabular}{r|llllllllllllllll}\n",
       "  & Site & Date & Carbon Monoxide (Trace CO) & Nitrogen Dioxide (NO2) & Nitrogen Dioxide(NO2\\_CAPS) & Ozone (uv abs) & Pm2.5 MetOne Bam & Pm2.5 Teom FEM & Relative Humidity & Sulfur Dioxide (Trace SO2) & Temperature & Temperature 10 m & Wind Direction Sonic & Wind Direction Vane & Wind Speed Propeller & Wind Speed Sonic\\\\\n",
       "\\hline\n",
       "\t167592 & Seattle Beacon Hill & 9/9/22 4:00         & 108.3               & NA                  & 5.192               & 0.016               & 4                   & NA                  & NA                  & 13.2                & NA                  & 57                  & 31                  & NA                  & NA                  & NA                 \\\\\n",
       "\t167593 & Seattle Beacon Hill & 9/9/22 5:00         & 131.7               & NA                  & 6.896               & 0.013               & 4                   & NA                  & NA                  &  0.7                & NA                  & 57                  & 25                  & NA                  & NA                  & NA                 \\\\\n",
       "\t167594 & Seattle Beacon Hill & 9/9/22 6:00         & 148.7               & NA                  & 7.855               & 0.013               & 5                   & NA                  & NA                  &  0.8                & NA                  & 57                  & 26                  & NA                  & NA                  & NA                 \\\\\n",
       "\t167595 & Seattle Beacon Hill & 9/9/22 7:00         & 151.5               & NA                  & 8.191               & 0.013               & 6                   & NA                  & NA                  &  0.7                & NA                  & 59                  & 27                  & NA                  & NA                  & NA                 \\\\\n",
       "\t167596 & Seattle Beacon Hill & 9/9/22 8:00         & 162.4               & NA                  & 8.066               & 0.013               & 4                   & NA                  & NA                  &  0.6                & NA                  & 61                  & 30                  & NA                  & NA                  & NA                 \\\\\n",
       "\t167597 & Seattle Beacon Hill & 9/9/22 9:00         & 167.7               & NA                  & 6.780               & 0.015               & 4                   & NA                  & NA                  &  0.6                & NA                  & 64                  & 36                  & NA                  & NA                  & NA                 \\\\\n",
       "\\end{tabular}\n"
      ],
      "text/markdown": [
       "\n",
       "| <!--/--> | Site | Date | Carbon Monoxide (Trace CO) | Nitrogen Dioxide (NO2) | Nitrogen Dioxide(NO2_CAPS) | Ozone (uv abs) | Pm2.5 MetOne Bam | Pm2.5 Teom FEM | Relative Humidity | Sulfur Dioxide (Trace SO2) | Temperature | Temperature 10 m | Wind Direction Sonic | Wind Direction Vane | Wind Speed Propeller | Wind Speed Sonic |\n",
       "|---|---|---|---|---|---|---|---|---|---|---|---|---|---|---|---|---|\n",
       "| 167592 | Seattle Beacon Hill | 9/9/22 4:00         | 108.3               | NA                  | 5.192               | 0.016               | 4                   | NA                  | NA                  | 13.2                | NA                  | 57                  | 31                  | NA                  | NA                  | NA                  |\n",
       "| 167593 | Seattle Beacon Hill | 9/9/22 5:00         | 131.7               | NA                  | 6.896               | 0.013               | 4                   | NA                  | NA                  |  0.7                | NA                  | 57                  | 25                  | NA                  | NA                  | NA                  |\n",
       "| 167594 | Seattle Beacon Hill | 9/9/22 6:00         | 148.7               | NA                  | 7.855               | 0.013               | 5                   | NA                  | NA                  |  0.8                | NA                  | 57                  | 26                  | NA                  | NA                  | NA                  |\n",
       "| 167595 | Seattle Beacon Hill | 9/9/22 7:00         | 151.5               | NA                  | 8.191               | 0.013               | 6                   | NA                  | NA                  |  0.7                | NA                  | 59                  | 27                  | NA                  | NA                  | NA                  |\n",
       "| 167596 | Seattle Beacon Hill | 9/9/22 8:00         | 162.4               | NA                  | 8.066               | 0.013               | 4                   | NA                  | NA                  |  0.6                | NA                  | 61                  | 30                  | NA                  | NA                  | NA                  |\n",
       "| 167597 | Seattle Beacon Hill | 9/9/22 9:00         | 167.7               | NA                  | 6.780               | 0.015               | 4                   | NA                  | NA                  |  0.6                | NA                  | 64                  | 36                  | NA                  | NA                  | NA                  |\n",
       "\n"
      ],
      "text/plain": [
       "       Site                Date        Carbon Monoxide (Trace CO)\n",
       "167592 Seattle Beacon Hill 9/9/22 4:00 108.3                     \n",
       "167593 Seattle Beacon Hill 9/9/22 5:00 131.7                     \n",
       "167594 Seattle Beacon Hill 9/9/22 6:00 148.7                     \n",
       "167595 Seattle Beacon Hill 9/9/22 7:00 151.5                     \n",
       "167596 Seattle Beacon Hill 9/9/22 8:00 162.4                     \n",
       "167597 Seattle Beacon Hill 9/9/22 9:00 167.7                     \n",
       "       Nitrogen Dioxide (NO2) Nitrogen Dioxide(NO2_CAPS) Ozone (uv abs)\n",
       "167592 NA                     5.192                      0.016         \n",
       "167593 NA                     6.896                      0.013         \n",
       "167594 NA                     7.855                      0.013         \n",
       "167595 NA                     8.191                      0.013         \n",
       "167596 NA                     8.066                      0.013         \n",
       "167597 NA                     6.780                      0.015         \n",
       "       Pm2.5 MetOne Bam Pm2.5 Teom FEM Relative Humidity\n",
       "167592 4                NA             NA               \n",
       "167593 4                NA             NA               \n",
       "167594 5                NA             NA               \n",
       "167595 6                NA             NA               \n",
       "167596 4                NA             NA               \n",
       "167597 4                NA             NA               \n",
       "       Sulfur Dioxide (Trace SO2) Temperature Temperature 10 m\n",
       "167592 13.2                       NA          57              \n",
       "167593  0.7                       NA          57              \n",
       "167594  0.8                       NA          57              \n",
       "167595  0.7                       NA          59              \n",
       "167596  0.6                       NA          61              \n",
       "167597  0.6                       NA          64              \n",
       "       Wind Direction Sonic Wind Direction Vane Wind Speed Propeller\n",
       "167592 31                   NA                  NA                  \n",
       "167593 25                   NA                  NA                  \n",
       "167594 26                   NA                  NA                  \n",
       "167595 27                   NA                  NA                  \n",
       "167596 30                   NA                  NA                  \n",
       "167597 36                   NA                  NA                  \n",
       "       Wind Speed Sonic\n",
       "167592 NA              \n",
       "167593 NA              \n",
       "167594 NA              \n",
       "167595 NA              \n",
       "167596 NA              \n",
       "167597 NA              "
      ]
     },
     "metadata": {},
     "output_type": "display_data"
    }
   ],
   "source": [
    "wide = df2 %>% \n",
    "    spread(ParameterName, Value)\n",
    "tail(wide)"
   ]
  },
  {
   "cell_type": "markdown",
   "id": "3bcf68f5",
   "metadata": {},
   "source": [
    "# subset weller data (closer to freemont) \n"
   ]
  },
  {
   "cell_type": "code",
   "execution_count": 109,
   "id": "35423396",
   "metadata": {},
   "outputs": [
    {
     "data": {
      "text/html": [
       "<table>\n",
       "<thead><tr><th scope=col>Site</th><th scope=col>Date</th><th scope=col>Carbon Monoxide (Trace CO)</th><th scope=col>Nitrogen Dioxide (NO2)</th><th scope=col>Pm2.5 MetOne Bam</th><th scope=col>Pm2.5 Teom FEM</th><th scope=col>Temperature 10 m</th><th scope=col>Wind Direction Sonic</th><th scope=col>Wind Speed Sonic</th></tr></thead>\n",
       "<tbody>\n",
       "\t<tr><td>Seattle 10th &amp; Weller</td><td>2014-12-31 16:00:00      </td><td> 699.3                   </td><td>27.864                   </td><td>NA                       </td><td>25.5                     </td><td>32                       </td><td> 26                      </td><td>2.8                      </td></tr>\n",
       "\t<tr><td>Seattle 10th &amp; Weller</td><td>2014-12-31 16:00:00      </td><td> 572.9                   </td><td>13.055                   </td><td>NA                       </td><td> 8.6                     </td><td>34                       </td><td>106                      </td><td>2.9                      </td></tr>\n",
       "\t<tr><td>Seattle 10th &amp; Weller</td><td>2014-12-31 16:00:00      </td><td> 738.8                   </td><td>20.254                   </td><td>NA                       </td><td>12.8                     </td><td>37                       </td><td>127                      </td><td>2.9                      </td></tr>\n",
       "\t<tr><td>Seattle 10th &amp; Weller</td><td>2014-12-31 16:00:00      </td><td>1055.1                   </td><td>31.137                   </td><td>NA                       </td><td>19.8                     </td><td>39                       </td><td>221                      </td><td>3.0                      </td></tr>\n",
       "\t<tr><td>Seattle 10th &amp; Weller</td><td>2014-12-31 16:00:00      </td><td> 989.5                   </td><td>34.179                   </td><td>NA                       </td><td>16.3                     </td><td>41                       </td><td>226                      </td><td>3.2                      </td></tr>\n",
       "\t<tr><td>Seattle 10th &amp; Weller</td><td>2014-12-31 16:00:00      </td><td> 992.7                   </td><td>31.015                   </td><td>NA                       </td><td>15.3                     </td><td>42                       </td><td>225                      </td><td>3.0                      </td></tr>\n",
       "</tbody>\n",
       "</table>\n"
      ],
      "text/latex": [
       "\\begin{tabular}{r|lllllllll}\n",
       " Site & Date & Carbon Monoxide (Trace CO) & Nitrogen Dioxide (NO2) & Pm2.5 MetOne Bam & Pm2.5 Teom FEM & Temperature 10 m & Wind Direction Sonic & Wind Speed Sonic\\\\\n",
       "\\hline\n",
       "\t Seattle 10th \\& Weller & 2014-12-31 16:00:00     &  699.3                  & 27.864                  & NA                      & 25.5                    & 32                      &  26                     & 2.8                    \\\\\n",
       "\t Seattle 10th \\& Weller & 2014-12-31 16:00:00     &  572.9                  & 13.055                  & NA                      &  8.6                    & 34                      & 106                     & 2.9                    \\\\\n",
       "\t Seattle 10th \\& Weller & 2014-12-31 16:00:00     &  738.8                  & 20.254                  & NA                      & 12.8                    & 37                      & 127                     & 2.9                    \\\\\n",
       "\t Seattle 10th \\& Weller & 2014-12-31 16:00:00     & 1055.1                  & 31.137                  & NA                      & 19.8                    & 39                      & 221                     & 3.0                    \\\\\n",
       "\t Seattle 10th \\& Weller & 2014-12-31 16:00:00     &  989.5                  & 34.179                  & NA                      & 16.3                    & 41                      & 226                     & 3.2                    \\\\\n",
       "\t Seattle 10th \\& Weller & 2014-12-31 16:00:00     &  992.7                  & 31.015                  & NA                      & 15.3                    & 42                      & 225                     & 3.0                    \\\\\n",
       "\\end{tabular}\n"
      ],
      "text/markdown": [
       "\n",
       "| Site | Date | Carbon Monoxide (Trace CO) | Nitrogen Dioxide (NO2) | Pm2.5 MetOne Bam | Pm2.5 Teom FEM | Temperature 10 m | Wind Direction Sonic | Wind Speed Sonic |\n",
       "|---|---|---|---|---|---|---|---|---|\n",
       "| Seattle 10th & Weller | 2014-12-31 16:00:00   |  699.3                | 27.864                | NA                    | 25.5                  | 32                    |  26                   | 2.8                   |\n",
       "| Seattle 10th & Weller | 2014-12-31 16:00:00   |  572.9                | 13.055                | NA                    |  8.6                  | 34                    | 106                   | 2.9                   |\n",
       "| Seattle 10th & Weller | 2014-12-31 16:00:00   |  738.8                | 20.254                | NA                    | 12.8                  | 37                    | 127                   | 2.9                   |\n",
       "| Seattle 10th & Weller | 2014-12-31 16:00:00   | 1055.1                | 31.137                | NA                    | 19.8                  | 39                    | 221                   | 3.0                   |\n",
       "| Seattle 10th & Weller | 2014-12-31 16:00:00   |  989.5                | 34.179                | NA                    | 16.3                  | 41                    | 226                   | 3.2                   |\n",
       "| Seattle 10th & Weller | 2014-12-31 16:00:00   |  992.7                | 31.015                | NA                    | 15.3                  | 42                    | 225                   | 3.0                   |\n",
       "\n"
      ],
      "text/plain": [
       "  Site                  Date                Carbon Monoxide (Trace CO)\n",
       "1 Seattle 10th & Weller 2014-12-31 16:00:00  699.3                    \n",
       "2 Seattle 10th & Weller 2014-12-31 16:00:00  572.9                    \n",
       "3 Seattle 10th & Weller 2014-12-31 16:00:00  738.8                    \n",
       "4 Seattle 10th & Weller 2014-12-31 16:00:00 1055.1                    \n",
       "5 Seattle 10th & Weller 2014-12-31 16:00:00  989.5                    \n",
       "6 Seattle 10th & Weller 2014-12-31 16:00:00  992.7                    \n",
       "  Nitrogen Dioxide (NO2) Pm2.5 MetOne Bam Pm2.5 Teom FEM Temperature 10 m\n",
       "1 27.864                 NA               25.5           32              \n",
       "2 13.055                 NA                8.6           34              \n",
       "3 20.254                 NA               12.8           37              \n",
       "4 31.137                 NA               19.8           39              \n",
       "5 34.179                 NA               16.3           41              \n",
       "6 31.015                 NA               15.3           42              \n",
       "  Wind Direction Sonic Wind Speed Sonic\n",
       "1  26                  2.8             \n",
       "2 106                  2.9             \n",
       "3 127                  2.9             \n",
       "4 221                  3.0             \n",
       "5 226                  3.2             \n",
       "6 225                  3.0             "
      ]
     },
     "metadata": {},
     "output_type": "display_data"
    }
   ],
   "source": [
    "weller <-subset(wide, Site == 'Seattle 10th & Weller')\n",
    "weller= weller %>% select_if(~ !all(is.na(.)))\n",
    "\n",
    "weller$Date<- as.Date(weller$Date, format = \"%m/%d/%y\")\n",
    "weller$Date= as.POSIXct(weller$Date, format = \"%Y-%m-%d %H:%M:%S\")\n",
    "head(weller)"
   ]
  },
  {
   "cell_type": "code",
   "execution_count": 110,
   "id": "0d6dfea8",
   "metadata": {},
   "outputs": [
    {
     "data": {
      "text/html": [
       "<ol class=list-inline>\n",
       "\t<li>'Date'</li>\n",
       "\t<li>'Fremont.Bridge.Total'</li>\n",
       "\t<li>'Fremont.Bridge.East.Sidewalk'</li>\n",
       "\t<li>'Fremont.Bridge.West.Sidewalk'</li>\n",
       "</ol>\n"
      ],
      "text/latex": [
       "\\begin{enumerate*}\n",
       "\\item 'Date'\n",
       "\\item 'Fremont.Bridge.Total'\n",
       "\\item 'Fremont.Bridge.East.Sidewalk'\n",
       "\\item 'Fremont.Bridge.West.Sidewalk'\n",
       "\\end{enumerate*}\n"
      ],
      "text/markdown": [
       "1. 'Date'\n",
       "2. 'Fremont.Bridge.Total'\n",
       "3. 'Fremont.Bridge.East.Sidewalk'\n",
       "4. 'Fremont.Bridge.West.Sidewalk'\n",
       "\n",
       "\n"
      ],
      "text/plain": [
       "[1] \"Date\"                         \"Fremont.Bridge.Total\"        \n",
       "[3] \"Fremont.Bridge.East.Sidewalk\" \"Fremont.Bridge.West.Sidewalk\""
      ]
     },
     "metadata": {},
     "output_type": "display_data"
    },
    {
     "data": {
      "text/html": [
       "<table>\n",
       "<thead><tr><th scope=col>Date</th><th scope=col>Fremont.Bridge.Total</th><th scope=col>Fremont.Bridge.East.Sidewalk</th><th scope=col>Fremont.Bridge.West.Sidewalk</th></tr></thead>\n",
       "<tbody>\n",
       "\t<tr><td>2020-07-31 17:00:00</td><td>23                 </td><td>7                  </td><td>16                 </td></tr>\n",
       "\t<tr><td>2020-07-31 17:00:00</td><td>12                 </td><td>5                  </td><td> 7                 </td></tr>\n",
       "\t<tr><td>2020-07-31 17:00:00</td><td> 3                 </td><td>0                  </td><td> 3                 </td></tr>\n",
       "\t<tr><td>2020-07-31 17:00:00</td><td> 5                 </td><td>2                  </td><td> 3                 </td></tr>\n",
       "\t<tr><td>2020-07-31 17:00:00</td><td>10                 </td><td>2                  </td><td> 8                 </td></tr>\n",
       "\t<tr><td>2020-07-31 17:00:00</td><td>27                 </td><td>5                  </td><td>22                 </td></tr>\n",
       "</tbody>\n",
       "</table>\n"
      ],
      "text/latex": [
       "\\begin{tabular}{r|llll}\n",
       " Date & Fremont.Bridge.Total & Fremont.Bridge.East.Sidewalk & Fremont.Bridge.West.Sidewalk\\\\\n",
       "\\hline\n",
       "\t 2020-07-31 17:00:00 & 23                  & 7                   & 16                 \\\\\n",
       "\t 2020-07-31 17:00:00 & 12                  & 5                   &  7                 \\\\\n",
       "\t 2020-07-31 17:00:00 &  3                  & 0                   &  3                 \\\\\n",
       "\t 2020-07-31 17:00:00 &  5                  & 2                   &  3                 \\\\\n",
       "\t 2020-07-31 17:00:00 & 10                  & 2                   &  8                 \\\\\n",
       "\t 2020-07-31 17:00:00 & 27                  & 5                   & 22                 \\\\\n",
       "\\end{tabular}\n"
      ],
      "text/markdown": [
       "\n",
       "| Date | Fremont.Bridge.Total | Fremont.Bridge.East.Sidewalk | Fremont.Bridge.West.Sidewalk |\n",
       "|---|---|---|---|\n",
       "| 2020-07-31 17:00:00 | 23                  | 7                   | 16                  |\n",
       "| 2020-07-31 17:00:00 | 12                  | 5                   |  7                  |\n",
       "| 2020-07-31 17:00:00 |  3                  | 0                   |  3                  |\n",
       "| 2020-07-31 17:00:00 |  5                  | 2                   |  3                  |\n",
       "| 2020-07-31 17:00:00 | 10                  | 2                   |  8                  |\n",
       "| 2020-07-31 17:00:00 | 27                  | 5                   | 22                  |\n",
       "\n"
      ],
      "text/plain": [
       "  Date                Fremont.Bridge.Total Fremont.Bridge.East.Sidewalk\n",
       "1 2020-07-31 17:00:00 23                   7                           \n",
       "2 2020-07-31 17:00:00 12                   5                           \n",
       "3 2020-07-31 17:00:00  3                   0                           \n",
       "4 2020-07-31 17:00:00  5                   2                           \n",
       "5 2020-07-31 17:00:00 10                   2                           \n",
       "6 2020-07-31 17:00:00 27                   5                           \n",
       "  Fremont.Bridge.West.Sidewalk\n",
       "1 16                          \n",
       "2  7                          \n",
       "3  3                          \n",
       "4  3                          \n",
       "5  8                          \n",
       "6 22                          "
      ]
     },
     "metadata": {},
     "output_type": "display_data"
    }
   ],
   "source": [
    "#Import Freemont Bike Dataset \n",
    "\n",
    "fbike<- read.csv(\"Data/Fremont_Bridge_Bicycle_Counter.csv\")\n",
    "colnames(fbike)\n",
    "\n",
    "fbike$Date<- as.Date(fbike$Date,format = \"%m/%d/%y\")\n",
    "\n",
    "fbike$Date= as.POSIXct(fbike$Date, format = \"%Y-%m-%d %H:%M:%S\")\n",
    "head(fbike)"
   ]
  },
  {
   "cell_type": "markdown",
   "id": "44e63eb3",
   "metadata": {},
   "source": [
    "# Freemont Bridge and AQ in FAQ"
   ]
  },
  {
   "cell_type": "code",
   "execution_count": 113,
   "id": "08543d06",
   "metadata": {},
   "outputs": [
    {
     "data": {
      "text/html": [
       "<table>\n",
       "<thead><tr><th scope=col>Date</th><th scope=col>Fremont.Bridge.Total</th><th scope=col>Fremont.Bridge.East.Sidewalk</th><th scope=col>Fremont.Bridge.West.Sidewalk</th><th scope=col>Site</th><th scope=col>Carbon Monoxide (Trace CO)</th><th scope=col>Nitrogen Dioxide (NO2)</th><th scope=col>Pm2.5 MetOne Bam</th><th scope=col>Pm2.5 Teom FEM</th><th scope=col>Temperature 10 m</th><th scope=col>Wind Direction Sonic</th><th scope=col>Wind Speed Sonic</th></tr></thead>\n",
       "<tbody>\n",
       "\t<tr><td>2019-12-31 16:00:00      </td><td>19                       </td><td>5                        </td><td>14                       </td><td>Seattle 10th &amp; Weller</td><td>328.7                    </td><td>13.501                   </td><td>0                        </td><td>NA                       </td><td>53                       </td><td>201                      </td><td>6.3                      </td></tr>\n",
       "\t<tr><td>2019-12-31 16:00:00      </td><td>19                       </td><td>5                        </td><td>14                       </td><td>Seattle 10th &amp; Weller</td><td>312.0                    </td><td>17.655                   </td><td>8                        </td><td>NA                       </td><td>50                       </td><td>217                      </td><td>7.5                      </td></tr>\n",
       "\t<tr><td>2019-12-31 16:00:00      </td><td>19                       </td><td>5                        </td><td>14                       </td><td>Seattle 10th &amp; Weller</td><td>184.2                    </td><td> 5.140                   </td><td>1                        </td><td>NA                       </td><td>51                       </td><td>251                      </td><td>6.9                      </td></tr>\n",
       "\t<tr><td>2019-12-31 16:00:00      </td><td>19                       </td><td>5                        </td><td>14                       </td><td>Seattle 10th &amp; Weller</td><td>187.1                    </td><td> 4.574                   </td><td>4                        </td><td>NA                       </td><td>43                       </td><td> 82                      </td><td>2.2                      </td></tr>\n",
       "\t<tr><td>2019-12-31 16:00:00      </td><td>19                       </td><td>5                        </td><td>14                       </td><td>Seattle 10th &amp; Weller</td><td>389.5                    </td><td>20.895                   </td><td>5                        </td><td>NA                       </td><td>48                       </td><td>209                      </td><td>5.6                      </td></tr>\n",
       "\t<tr><td>2019-12-31 16:00:00      </td><td>19                       </td><td>5                        </td><td>14                       </td><td>Seattle 10th &amp; Weller</td><td>372.7                    </td><td>18.053                   </td><td>5                        </td><td>NA                       </td><td>49                       </td><td>214                      </td><td>6.5                      </td></tr>\n",
       "</tbody>\n",
       "</table>\n"
      ],
      "text/latex": [
       "\\begin{tabular}{r|llllllllllll}\n",
       " Date & Fremont.Bridge.Total & Fremont.Bridge.East.Sidewalk & Fremont.Bridge.West.Sidewalk & Site & Carbon Monoxide (Trace CO) & Nitrogen Dioxide (NO2) & Pm2.5 MetOne Bam & Pm2.5 Teom FEM & Temperature 10 m & Wind Direction Sonic & Wind Speed Sonic\\\\\n",
       "\\hline\n",
       "\t 2019-12-31 16:00:00     & 19                      & 5                       & 14                      & Seattle 10th \\& Weller & 328.7                   & 13.501                  & 0                       & NA                      & 53                      & 201                     & 6.3                    \\\\\n",
       "\t 2019-12-31 16:00:00     & 19                      & 5                       & 14                      & Seattle 10th \\& Weller & 312.0                   & 17.655                  & 8                       & NA                      & 50                      & 217                     & 7.5                    \\\\\n",
       "\t 2019-12-31 16:00:00     & 19                      & 5                       & 14                      & Seattle 10th \\& Weller & 184.2                   &  5.140                  & 1                       & NA                      & 51                      & 251                     & 6.9                    \\\\\n",
       "\t 2019-12-31 16:00:00     & 19                      & 5                       & 14                      & Seattle 10th \\& Weller & 187.1                   &  4.574                  & 4                       & NA                      & 43                      &  82                     & 2.2                    \\\\\n",
       "\t 2019-12-31 16:00:00     & 19                      & 5                       & 14                      & Seattle 10th \\& Weller & 389.5                   & 20.895                  & 5                       & NA                      & 48                      & 209                     & 5.6                    \\\\\n",
       "\t 2019-12-31 16:00:00     & 19                      & 5                       & 14                      & Seattle 10th \\& Weller & 372.7                   & 18.053                  & 5                       & NA                      & 49                      & 214                     & 6.5                    \\\\\n",
       "\\end{tabular}\n"
      ],
      "text/markdown": [
       "\n",
       "| Date | Fremont.Bridge.Total | Fremont.Bridge.East.Sidewalk | Fremont.Bridge.West.Sidewalk | Site | Carbon Monoxide (Trace CO) | Nitrogen Dioxide (NO2) | Pm2.5 MetOne Bam | Pm2.5 Teom FEM | Temperature 10 m | Wind Direction Sonic | Wind Speed Sonic |\n",
       "|---|---|---|---|---|---|---|---|---|---|---|---|\n",
       "| 2019-12-31 16:00:00   | 19                    | 5                     | 14                    | Seattle 10th & Weller | 328.7                 | 13.501                | 0                     | NA                    | 53                    | 201                   | 6.3                   |\n",
       "| 2019-12-31 16:00:00   | 19                    | 5                     | 14                    | Seattle 10th & Weller | 312.0                 | 17.655                | 8                     | NA                    | 50                    | 217                   | 7.5                   |\n",
       "| 2019-12-31 16:00:00   | 19                    | 5                     | 14                    | Seattle 10th & Weller | 184.2                 |  5.140                | 1                     | NA                    | 51                    | 251                   | 6.9                   |\n",
       "| 2019-12-31 16:00:00   | 19                    | 5                     | 14                    | Seattle 10th & Weller | 187.1                 |  4.574                | 4                     | NA                    | 43                    |  82                   | 2.2                   |\n",
       "| 2019-12-31 16:00:00   | 19                    | 5                     | 14                    | Seattle 10th & Weller | 389.5                 | 20.895                | 5                     | NA                    | 48                    | 209                   | 5.6                   |\n",
       "| 2019-12-31 16:00:00   | 19                    | 5                     | 14                    | Seattle 10th & Weller | 372.7                 | 18.053                | 5                     | NA                    | 49                    | 214                   | 6.5                   |\n",
       "\n"
      ],
      "text/plain": [
       "  Date                Fremont.Bridge.Total Fremont.Bridge.East.Sidewalk\n",
       "1 2019-12-31 16:00:00 19                   5                           \n",
       "2 2019-12-31 16:00:00 19                   5                           \n",
       "3 2019-12-31 16:00:00 19                   5                           \n",
       "4 2019-12-31 16:00:00 19                   5                           \n",
       "5 2019-12-31 16:00:00 19                   5                           \n",
       "6 2019-12-31 16:00:00 19                   5                           \n",
       "  Fremont.Bridge.West.Sidewalk Site                  Carbon Monoxide (Trace CO)\n",
       "1 14                           Seattle 10th & Weller 328.7                     \n",
       "2 14                           Seattle 10th & Weller 312.0                     \n",
       "3 14                           Seattle 10th & Weller 184.2                     \n",
       "4 14                           Seattle 10th & Weller 187.1                     \n",
       "5 14                           Seattle 10th & Weller 389.5                     \n",
       "6 14                           Seattle 10th & Weller 372.7                     \n",
       "  Nitrogen Dioxide (NO2) Pm2.5 MetOne Bam Pm2.5 Teom FEM Temperature 10 m\n",
       "1 13.501                 0                NA             53              \n",
       "2 17.655                 8                NA             50              \n",
       "3  5.140                 1                NA             51              \n",
       "4  4.574                 4                NA             43              \n",
       "5 20.895                 5                NA             48              \n",
       "6 18.053                 5                NA             49              \n",
       "  Wind Direction Sonic Wind Speed Sonic\n",
       "1 201                  6.3             \n",
       "2 217                  7.5             \n",
       "3 251                  6.9             \n",
       "4  82                  2.2             \n",
       "5 209                  5.6             \n",
       "6 214                  6.5             "
      ]
     },
     "metadata": {},
     "output_type": "display_data"
    }
   ],
   "source": [
    "# Merge Bike and Weather Data for Freemont\n",
    "\n",
    "faq <- merge(fbike,weller, by=\"Date\")\n",
    "head(faq)"
   ]
  },
  {
   "cell_type": "code",
   "execution_count": null,
   "id": "e2035cfb",
   "metadata": {},
   "outputs": [],
   "source": []
  },
  {
   "cell_type": "code",
   "execution_count": null,
   "id": "f1fa6bb2",
   "metadata": {},
   "outputs": [],
   "source": []
  },
  {
   "cell_type": "markdown",
   "id": "000ebf77",
   "metadata": {},
   "source": [
    "# subset beacon data (closer to SS) \n"
   ]
  },
  {
   "cell_type": "code",
   "execution_count": 114,
   "id": "73a1a5e1",
   "metadata": {},
   "outputs": [
    {
     "data": {
      "text/html": [
       "<table>\n",
       "<thead><tr><th></th><th scope=col>Site</th><th scope=col>Date</th><th scope=col>Carbon Monoxide (Trace CO)</th><th scope=col>Nitrogen Dioxide(NO2_CAPS)</th><th scope=col>Ozone (uv abs)</th><th scope=col>Pm2.5 MetOne Bam</th><th scope=col>Pm2.5 Teom FEM</th><th scope=col>Relative Humidity</th><th scope=col>Sulfur Dioxide (Trace SO2)</th><th scope=col>Temperature</th><th scope=col>Temperature 10 m</th><th scope=col>Wind Direction Sonic</th><th scope=col>Wind Direction Vane</th><th scope=col>Wind Speed Propeller</th><th scope=col>Wind Speed Sonic</th></tr></thead>\n",
       "<tbody>\n",
       "\t<tr><th scope=row>73523</th><td>Seattle Beacon Hill</td><td>2011-12-31 16:00:00</td><td>NA                 </td><td>NA                 </td><td>0.014              </td><td>NA                 </td><td>10.3               </td><td>71                 </td><td>NA                 </td><td>40                 </td><td>NA                 </td><td>NA                 </td><td>114                </td><td>3.0                </td><td>NA                 </td></tr>\n",
       "\t<tr><th scope=row>73524</th><td>Seattle Beacon Hill</td><td>2011-12-31 16:00:00</td><td>NA                 </td><td>NA                 </td><td>0.004              </td><td>NA                 </td><td> 6.9               </td><td>69                 </td><td>NA                 </td><td>46                 </td><td>NA                 </td><td>NA                 </td><td>318                </td><td>2.4                </td><td>NA                 </td></tr>\n",
       "\t<tr><th scope=row>73525</th><td>Seattle Beacon Hill</td><td>2011-12-31 16:00:00</td><td>NA                 </td><td>NA                 </td><td>0.004              </td><td>NA                 </td><td> 5.1               </td><td>67                 </td><td>NA                 </td><td>47                 </td><td>NA                 </td><td>NA                 </td><td>314                </td><td>3.6                </td><td>NA                 </td></tr>\n",
       "\t<tr><th scope=row>73526</th><td>Seattle Beacon Hill</td><td>2011-12-31 16:00:00</td><td>NA                 </td><td>NA                 </td><td>0.007              </td><td>NA                 </td><td> 5.4               </td><td>58                 </td><td>NA                 </td><td>50                 </td><td>NA                 </td><td>NA                 </td><td>306                </td><td>3.4                </td><td>NA                 </td></tr>\n",
       "\t<tr><th scope=row>73527</th><td>Seattle Beacon Hill</td><td>2011-12-31 16:00:00</td><td>NA                 </td><td>NA                 </td><td>0.011              </td><td>NA                 </td><td> 3.9               </td><td>51                 </td><td>NA                 </td><td>53                 </td><td>NA                 </td><td>NA                 </td><td>354                </td><td>1.7                </td><td>NA                 </td></tr>\n",
       "\t<tr><th scope=row>73528</th><td>Seattle Beacon Hill</td><td>2011-12-31 16:00:00</td><td>NA                 </td><td>NA                 </td><td>0.009              </td><td>NA                 </td><td> 3.5               </td><td>51                 </td><td>NA                 </td><td>53                 </td><td>NA                 </td><td>NA                 </td><td>350                </td><td>1.8                </td><td>NA                 </td></tr>\n",
       "</tbody>\n",
       "</table>\n"
      ],
      "text/latex": [
       "\\begin{tabular}{r|lllllllllllllll}\n",
       "  & Site & Date & Carbon Monoxide (Trace CO) & Nitrogen Dioxide(NO2\\_CAPS) & Ozone (uv abs) & Pm2.5 MetOne Bam & Pm2.5 Teom FEM & Relative Humidity & Sulfur Dioxide (Trace SO2) & Temperature & Temperature 10 m & Wind Direction Sonic & Wind Direction Vane & Wind Speed Propeller & Wind Speed Sonic\\\\\n",
       "\\hline\n",
       "\t73523 & Seattle Beacon Hill & 2011-12-31 16:00:00 & NA                  & NA                  & 0.014               & NA                  & 10.3                & 71                  & NA                  & 40                  & NA                  & NA                  & 114                 & 3.0                 & NA                 \\\\\n",
       "\t73524 & Seattle Beacon Hill & 2011-12-31 16:00:00 & NA                  & NA                  & 0.004               & NA                  &  6.9                & 69                  & NA                  & 46                  & NA                  & NA                  & 318                 & 2.4                 & NA                 \\\\\n",
       "\t73525 & Seattle Beacon Hill & 2011-12-31 16:00:00 & NA                  & NA                  & 0.004               & NA                  &  5.1                & 67                  & NA                  & 47                  & NA                  & NA                  & 314                 & 3.6                 & NA                 \\\\\n",
       "\t73526 & Seattle Beacon Hill & 2011-12-31 16:00:00 & NA                  & NA                  & 0.007               & NA                  &  5.4                & 58                  & NA                  & 50                  & NA                  & NA                  & 306                 & 3.4                 & NA                 \\\\\n",
       "\t73527 & Seattle Beacon Hill & 2011-12-31 16:00:00 & NA                  & NA                  & 0.011               & NA                  &  3.9                & 51                  & NA                  & 53                  & NA                  & NA                  & 354                 & 1.7                 & NA                 \\\\\n",
       "\t73528 & Seattle Beacon Hill & 2011-12-31 16:00:00 & NA                  & NA                  & 0.009               & NA                  &  3.5                & 51                  & NA                  & 53                  & NA                  & NA                  & 350                 & 1.8                 & NA                 \\\\\n",
       "\\end{tabular}\n"
      ],
      "text/markdown": [
       "\n",
       "| <!--/--> | Site | Date | Carbon Monoxide (Trace CO) | Nitrogen Dioxide(NO2_CAPS) | Ozone (uv abs) | Pm2.5 MetOne Bam | Pm2.5 Teom FEM | Relative Humidity | Sulfur Dioxide (Trace SO2) | Temperature | Temperature 10 m | Wind Direction Sonic | Wind Direction Vane | Wind Speed Propeller | Wind Speed Sonic |\n",
       "|---|---|---|---|---|---|---|---|---|---|---|---|---|---|---|---|\n",
       "| 73523 | Seattle Beacon Hill | 2011-12-31 16:00:00 | NA                  | NA                  | 0.014               | NA                  | 10.3                | 71                  | NA                  | 40                  | NA                  | NA                  | 114                 | 3.0                 | NA                  |\n",
       "| 73524 | Seattle Beacon Hill | 2011-12-31 16:00:00 | NA                  | NA                  | 0.004               | NA                  |  6.9                | 69                  | NA                  | 46                  | NA                  | NA                  | 318                 | 2.4                 | NA                  |\n",
       "| 73525 | Seattle Beacon Hill | 2011-12-31 16:00:00 | NA                  | NA                  | 0.004               | NA                  |  5.1                | 67                  | NA                  | 47                  | NA                  | NA                  | 314                 | 3.6                 | NA                  |\n",
       "| 73526 | Seattle Beacon Hill | 2011-12-31 16:00:00 | NA                  | NA                  | 0.007               | NA                  |  5.4                | 58                  | NA                  | 50                  | NA                  | NA                  | 306                 | 3.4                 | NA                  |\n",
       "| 73527 | Seattle Beacon Hill | 2011-12-31 16:00:00 | NA                  | NA                  | 0.011               | NA                  |  3.9                | 51                  | NA                  | 53                  | NA                  | NA                  | 354                 | 1.7                 | NA                  |\n",
       "| 73528 | Seattle Beacon Hill | 2011-12-31 16:00:00 | NA                  | NA                  | 0.009               | NA                  |  3.5                | 51                  | NA                  | 53                  | NA                  | NA                  | 350                 | 1.8                 | NA                  |\n",
       "\n"
      ],
      "text/plain": [
       "      Site                Date                Carbon Monoxide (Trace CO)\n",
       "73523 Seattle Beacon Hill 2011-12-31 16:00:00 NA                        \n",
       "73524 Seattle Beacon Hill 2011-12-31 16:00:00 NA                        \n",
       "73525 Seattle Beacon Hill 2011-12-31 16:00:00 NA                        \n",
       "73526 Seattle Beacon Hill 2011-12-31 16:00:00 NA                        \n",
       "73527 Seattle Beacon Hill 2011-12-31 16:00:00 NA                        \n",
       "73528 Seattle Beacon Hill 2011-12-31 16:00:00 NA                        \n",
       "      Nitrogen Dioxide(NO2_CAPS) Ozone (uv abs) Pm2.5 MetOne Bam Pm2.5 Teom FEM\n",
       "73523 NA                         0.014          NA               10.3          \n",
       "73524 NA                         0.004          NA                6.9          \n",
       "73525 NA                         0.004          NA                5.1          \n",
       "73526 NA                         0.007          NA                5.4          \n",
       "73527 NA                         0.011          NA                3.9          \n",
       "73528 NA                         0.009          NA                3.5          \n",
       "      Relative Humidity Sulfur Dioxide (Trace SO2) Temperature Temperature 10 m\n",
       "73523 71                NA                         40          NA              \n",
       "73524 69                NA                         46          NA              \n",
       "73525 67                NA                         47          NA              \n",
       "73526 58                NA                         50          NA              \n",
       "73527 51                NA                         53          NA              \n",
       "73528 51                NA                         53          NA              \n",
       "      Wind Direction Sonic Wind Direction Vane Wind Speed Propeller\n",
       "73523 NA                   114                 3.0                 \n",
       "73524 NA                   318                 2.4                 \n",
       "73525 NA                   314                 3.6                 \n",
       "73526 NA                   306                 3.4                 \n",
       "73527 NA                   354                 1.7                 \n",
       "73528 NA                   350                 1.8                 \n",
       "      Wind Speed Sonic\n",
       "73523 NA              \n",
       "73524 NA              \n",
       "73525 NA              \n",
       "73526 NA              \n",
       "73527 NA              \n",
       "73528 NA              "
      ]
     },
     "metadata": {},
     "output_type": "display_data"
    }
   ],
   "source": [
    "beacon <-subset(wide, Site == 'Seattle Beacon Hill')\n",
    "beacon= beacon %>% select_if(~ !all(is.na(.)))\n",
    "beacon$Date<- as.Date(beacon$Date, format = \"%m/%d/%y\")\n",
    "beacon$Date= as.POSIXct(beacon$Date, format = \"%Y-%m-%d %H:%M:%S\")\n",
    "\n",
    "head(beacon)"
   ]
  },
  {
   "cell_type": "code",
   "execution_count": 115,
   "id": "4a0b2fa9",
   "metadata": {},
   "outputs": [
    {
     "data": {
      "text/html": [
       "<table>\n",
       "<thead><tr><th scope=col>Date</th><th scope=col>Spokane.St..Bridge.Total</th><th scope=col>West</th><th scope=col>East</th></tr></thead>\n",
       "<tbody>\n",
       "\t<tr><td>2020-05-31 17:00:00</td><td> 2                 </td><td>2                  </td><td> 0                 </td></tr>\n",
       "\t<tr><td>2020-05-31 17:00:00</td><td> 1                 </td><td>0                  </td><td> 1                 </td></tr>\n",
       "\t<tr><td>2020-05-31 17:00:00</td><td> 2                 </td><td>2                  </td><td> 0                 </td></tr>\n",
       "\t<tr><td>2020-05-31 17:00:00</td><td> 1                 </td><td>0                  </td><td> 1                 </td></tr>\n",
       "\t<tr><td>2020-05-31 17:00:00</td><td> 3                 </td><td>1                  </td><td> 2                 </td></tr>\n",
       "\t<tr><td>2020-05-31 17:00:00</td><td>36                 </td><td>5                  </td><td>31                 </td></tr>\n",
       "</tbody>\n",
       "</table>\n"
      ],
      "text/latex": [
       "\\begin{tabular}{r|llll}\n",
       " Date & Spokane.St..Bridge.Total & West & East\\\\\n",
       "\\hline\n",
       "\t 2020-05-31 17:00:00 &  2                  & 2                   &  0                 \\\\\n",
       "\t 2020-05-31 17:00:00 &  1                  & 0                   &  1                 \\\\\n",
       "\t 2020-05-31 17:00:00 &  2                  & 2                   &  0                 \\\\\n",
       "\t 2020-05-31 17:00:00 &  1                  & 0                   &  1                 \\\\\n",
       "\t 2020-05-31 17:00:00 &  3                  & 1                   &  2                 \\\\\n",
       "\t 2020-05-31 17:00:00 & 36                  & 5                   & 31                 \\\\\n",
       "\\end{tabular}\n"
      ],
      "text/markdown": [
       "\n",
       "| Date | Spokane.St..Bridge.Total | West | East |\n",
       "|---|---|---|---|\n",
       "| 2020-05-31 17:00:00 |  2                  | 2                   |  0                  |\n",
       "| 2020-05-31 17:00:00 |  1                  | 0                   |  1                  |\n",
       "| 2020-05-31 17:00:00 |  2                  | 2                   |  0                  |\n",
       "| 2020-05-31 17:00:00 |  1                  | 0                   |  1                  |\n",
       "| 2020-05-31 17:00:00 |  3                  | 1                   |  2                  |\n",
       "| 2020-05-31 17:00:00 | 36                  | 5                   | 31                  |\n",
       "\n"
      ],
      "text/plain": [
       "  Date                Spokane.St..Bridge.Total West East\n",
       "1 2020-05-31 17:00:00  2                       2     0  \n",
       "2 2020-05-31 17:00:00  1                       0     1  \n",
       "3 2020-05-31 17:00:00  2                       2     0  \n",
       "4 2020-05-31 17:00:00  1                       0     1  \n",
       "5 2020-05-31 17:00:00  3                       1     2  \n",
       "6 2020-05-31 17:00:00 36                       5    31  "
      ]
     },
     "metadata": {},
     "output_type": "display_data"
    },
    {
     "data": {
      "text/html": [
       "<ol class=list-inline>\n",
       "\t<li>'Date'</li>\n",
       "\t<li>'Spokane.St..Bridge.Total'</li>\n",
       "\t<li>'West'</li>\n",
       "\t<li>'East'</li>\n",
       "</ol>\n"
      ],
      "text/latex": [
       "\\begin{enumerate*}\n",
       "\\item 'Date'\n",
       "\\item 'Spokane.St..Bridge.Total'\n",
       "\\item 'West'\n",
       "\\item 'East'\n",
       "\\end{enumerate*}\n"
      ],
      "text/markdown": [
       "1. 'Date'\n",
       "2. 'Spokane.St..Bridge.Total'\n",
       "3. 'West'\n",
       "4. 'East'\n",
       "\n",
       "\n"
      ],
      "text/plain": [
       "[1] \"Date\"                     \"Spokane.St..Bridge.Total\"\n",
       "[3] \"West\"                     \"East\"                    "
      ]
     },
     "metadata": {},
     "output_type": "display_data"
    }
   ],
   "source": [
    "#Import Spokane Street Bike Dataset \n",
    "\n",
    "ssbike<- read.csv(\"Data/Spokane_St_Bridge_Bicycle_Counter.csv\")\n",
    "ssbike$Date<- as.Date(ssbike$Date, format = \"%m/%d/%y\")\n",
    "ssbike$Date= as.POSIXct(ssbike$Date, format = \"%Y-%m-%d %H:%M:%S\")\n",
    "\n",
    "head(ssbike)\n",
    "colnames(ssbike)\n"
   ]
  },
  {
   "cell_type": "markdown",
   "id": "599703c0",
   "metadata": {},
   "source": [
    "# Spoakane Bridge and AQ in SAQ"
   ]
  },
  {
   "cell_type": "code",
   "execution_count": 147,
   "id": "710a56a6",
   "metadata": {},
   "outputs": [
    {
     "data": {
      "text/html": [
       "<table>\n",
       "<thead><tr><th scope=col>Date</th><th scope=col>Spokane.St..Bridge.Total</th><th scope=col>West</th><th scope=col>East</th><th scope=col>Site</th><th scope=col>Carbon Monoxide (Trace CO)</th><th scope=col>Nitrogen Dioxide(NO2_CAPS)</th><th scope=col>Ozone (uv abs)</th><th scope=col>Pm2.5 MetOne Bam</th><th scope=col>Pm2.5 Teom FEM</th><th scope=col>Relative Humidity</th><th scope=col>Sulfur Dioxide (Trace SO2)</th><th scope=col>Temperature</th><th scope=col>Temperature 10 m</th><th scope=col>Wind Direction Sonic</th><th scope=col>Wind Direction Vane</th><th scope=col>Wind Speed Propeller</th><th scope=col>Wind Speed Sonic</th></tr></thead>\n",
       "<tbody>\n",
       "\t<tr><td>2019-12-31 16:00:00</td><td>7                  </td><td>3                  </td><td>4                  </td><td>Seattle Beacon Hill</td><td>119.3              </td><td>2.521              </td><td>0.036              </td><td>9                  </td><td> 0.9               </td><td>92                 </td><td>0.4                </td><td>NA                 </td><td>50                 </td><td>118                </td><td>NA                 </td><td>NA                 </td><td>NA                 </td></tr>\n",
       "\t<tr><td>2019-12-31 16:00:00</td><td>7                  </td><td>3                  </td><td>4                  </td><td>Seattle Beacon Hill</td><td>120.2              </td><td>1.444              </td><td>0.037              </td><td>8                  </td><td> 2.1               </td><td>91                 </td><td>0.3                </td><td>NA                 </td><td>50                 </td><td> 84                </td><td>NA                 </td><td>NA                 </td><td>NA                 </td></tr>\n",
       "\t<tr><td>2019-12-31 16:00:00</td><td>7                  </td><td>3                  </td><td>4                  </td><td>Seattle Beacon Hill</td><td>132.6              </td><td>1.860              </td><td>0.036              </td><td>9                  </td><td> 1.8               </td><td>95                 </td><td>0.2                </td><td>NA                 </td><td>42                 </td><td>343                </td><td>NA                 </td><td>NA                 </td><td>NA                 </td></tr>\n",
       "\t<tr><td>2019-12-31 16:00:00</td><td>7                  </td><td>3                  </td><td>4                  </td><td>Seattle Beacon Hill</td><td>131.2              </td><td>2.003              </td><td>0.036              </td><td>7                  </td><td> 2.5               </td><td>88                 </td><td>0.3                </td><td>NA                 </td><td>50                 </td><td> 96                </td><td>NA                 </td><td>NA                 </td><td>NA                 </td></tr>\n",
       "\t<tr><td>2019-12-31 16:00:00</td><td>7                  </td><td>3                  </td><td>4                  </td><td>Seattle Beacon Hill</td><td>115.0              </td><td>1.448              </td><td>0.037              </td><td>8                  </td><td> 2.5               </td><td>89                 </td><td>0.2                </td><td>NA                 </td><td>50                 </td><td> 87                </td><td>NA                 </td><td>NA                 </td><td>NA                 </td></tr>\n",
       "\t<tr><td>2019-12-31 16:00:00</td><td>7                  </td><td>3                  </td><td>4                  </td><td>Seattle Beacon Hill</td><td>115.4              </td><td>2.667              </td><td>0.036              </td><td>9                  </td><td>-2.5               </td><td>91                 </td><td>0.6                </td><td>NA                 </td><td>51                 </td><td>124                </td><td>NA                 </td><td>NA                 </td><td>NA                 </td></tr>\n",
       "</tbody>\n",
       "</table>\n"
      ],
      "text/latex": [
       "\\begin{tabular}{r|llllllllllllllllll}\n",
       " Date & Spokane.St..Bridge.Total & West & East & Site & Carbon Monoxide (Trace CO) & Nitrogen Dioxide(NO2\\_CAPS) & Ozone (uv abs) & Pm2.5 MetOne Bam & Pm2.5 Teom FEM & Relative Humidity & Sulfur Dioxide (Trace SO2) & Temperature & Temperature 10 m & Wind Direction Sonic & Wind Direction Vane & Wind Speed Propeller & Wind Speed Sonic\\\\\n",
       "\\hline\n",
       "\t 2019-12-31 16:00:00 & 7                   & 3                   & 4                   & Seattle Beacon Hill & 119.3               & 2.521               & 0.036               & 9                   &  0.9                & 92                  & 0.4                 & NA                  & 50                  & 118                 & NA                  & NA                  & NA                 \\\\\n",
       "\t 2019-12-31 16:00:00 & 7                   & 3                   & 4                   & Seattle Beacon Hill & 120.2               & 1.444               & 0.037               & 8                   &  2.1                & 91                  & 0.3                 & NA                  & 50                  &  84                 & NA                  & NA                  & NA                 \\\\\n",
       "\t 2019-12-31 16:00:00 & 7                   & 3                   & 4                   & Seattle Beacon Hill & 132.6               & 1.860               & 0.036               & 9                   &  1.8                & 95                  & 0.2                 & NA                  & 42                  & 343                 & NA                  & NA                  & NA                 \\\\\n",
       "\t 2019-12-31 16:00:00 & 7                   & 3                   & 4                   & Seattle Beacon Hill & 131.2               & 2.003               & 0.036               & 7                   &  2.5                & 88                  & 0.3                 & NA                  & 50                  &  96                 & NA                  & NA                  & NA                 \\\\\n",
       "\t 2019-12-31 16:00:00 & 7                   & 3                   & 4                   & Seattle Beacon Hill & 115.0               & 1.448               & 0.037               & 8                   &  2.5                & 89                  & 0.2                 & NA                  & 50                  &  87                 & NA                  & NA                  & NA                 \\\\\n",
       "\t 2019-12-31 16:00:00 & 7                   & 3                   & 4                   & Seattle Beacon Hill & 115.4               & 2.667               & 0.036               & 9                   & -2.5                & 91                  & 0.6                 & NA                  & 51                  & 124                 & NA                  & NA                  & NA                 \\\\\n",
       "\\end{tabular}\n"
      ],
      "text/markdown": [
       "\n",
       "| Date | Spokane.St..Bridge.Total | West | East | Site | Carbon Monoxide (Trace CO) | Nitrogen Dioxide(NO2_CAPS) | Ozone (uv abs) | Pm2.5 MetOne Bam | Pm2.5 Teom FEM | Relative Humidity | Sulfur Dioxide (Trace SO2) | Temperature | Temperature 10 m | Wind Direction Sonic | Wind Direction Vane | Wind Speed Propeller | Wind Speed Sonic |\n",
       "|---|---|---|---|---|---|---|---|---|---|---|---|---|---|---|---|---|---|\n",
       "| 2019-12-31 16:00:00 | 7                   | 3                   | 4                   | Seattle Beacon Hill | 119.3               | 2.521               | 0.036               | 9                   |  0.9                | 92                  | 0.4                 | NA                  | 50                  | 118                 | NA                  | NA                  | NA                  |\n",
       "| 2019-12-31 16:00:00 | 7                   | 3                   | 4                   | Seattle Beacon Hill | 120.2               | 1.444               | 0.037               | 8                   |  2.1                | 91                  | 0.3                 | NA                  | 50                  |  84                 | NA                  | NA                  | NA                  |\n",
       "| 2019-12-31 16:00:00 | 7                   | 3                   | 4                   | Seattle Beacon Hill | 132.6               | 1.860               | 0.036               | 9                   |  1.8                | 95                  | 0.2                 | NA                  | 42                  | 343                 | NA                  | NA                  | NA                  |\n",
       "| 2019-12-31 16:00:00 | 7                   | 3                   | 4                   | Seattle Beacon Hill | 131.2               | 2.003               | 0.036               | 7                   |  2.5                | 88                  | 0.3                 | NA                  | 50                  |  96                 | NA                  | NA                  | NA                  |\n",
       "| 2019-12-31 16:00:00 | 7                   | 3                   | 4                   | Seattle Beacon Hill | 115.0               | 1.448               | 0.037               | 8                   |  2.5                | 89                  | 0.2                 | NA                  | 50                  |  87                 | NA                  | NA                  | NA                  |\n",
       "| 2019-12-31 16:00:00 | 7                   | 3                   | 4                   | Seattle Beacon Hill | 115.4               | 2.667               | 0.036               | 9                   | -2.5                | 91                  | 0.6                 | NA                  | 51                  | 124                 | NA                  | NA                  | NA                  |\n",
       "\n"
      ],
      "text/plain": [
       "  Date                Spokane.St..Bridge.Total West East Site               \n",
       "1 2019-12-31 16:00:00 7                        3    4    Seattle Beacon Hill\n",
       "2 2019-12-31 16:00:00 7                        3    4    Seattle Beacon Hill\n",
       "3 2019-12-31 16:00:00 7                        3    4    Seattle Beacon Hill\n",
       "4 2019-12-31 16:00:00 7                        3    4    Seattle Beacon Hill\n",
       "5 2019-12-31 16:00:00 7                        3    4    Seattle Beacon Hill\n",
       "6 2019-12-31 16:00:00 7                        3    4    Seattle Beacon Hill\n",
       "  Carbon Monoxide (Trace CO) Nitrogen Dioxide(NO2_CAPS) Ozone (uv abs)\n",
       "1 119.3                      2.521                      0.036         \n",
       "2 120.2                      1.444                      0.037         \n",
       "3 132.6                      1.860                      0.036         \n",
       "4 131.2                      2.003                      0.036         \n",
       "5 115.0                      1.448                      0.037         \n",
       "6 115.4                      2.667                      0.036         \n",
       "  Pm2.5 MetOne Bam Pm2.5 Teom FEM Relative Humidity Sulfur Dioxide (Trace SO2)\n",
       "1 9                 0.9           92                0.4                       \n",
       "2 8                 2.1           91                0.3                       \n",
       "3 9                 1.8           95                0.2                       \n",
       "4 7                 2.5           88                0.3                       \n",
       "5 8                 2.5           89                0.2                       \n",
       "6 9                -2.5           91                0.6                       \n",
       "  Temperature Temperature 10 m Wind Direction Sonic Wind Direction Vane\n",
       "1 NA          50               118                  NA                 \n",
       "2 NA          50                84                  NA                 \n",
       "3 NA          42               343                  NA                 \n",
       "4 NA          50                96                  NA                 \n",
       "5 NA          50                87                  NA                 \n",
       "6 NA          51               124                  NA                 \n",
       "  Wind Speed Propeller Wind Speed Sonic\n",
       "1 NA                   NA              \n",
       "2 NA                   NA              \n",
       "3 NA                   NA              \n",
       "4 NA                   NA              \n",
       "5 NA                   NA              \n",
       "6 NA                   NA              "
      ]
     },
     "metadata": {},
     "output_type": "display_data"
    },
    {
     "data": {
      "text/html": [
       "<ol class=list-inline>\n",
       "\t<li>'Date'</li>\n",
       "\t<li>'Spokane.St..Bridge.Total'</li>\n",
       "\t<li>'West'</li>\n",
       "\t<li>'East'</li>\n",
       "\t<li>'Site'</li>\n",
       "\t<li>'Carbon Monoxide (Trace CO)'</li>\n",
       "\t<li>'Nitrogen Dioxide(NO2_CAPS)'</li>\n",
       "\t<li>'Ozone (uv abs)'</li>\n",
       "\t<li>'Pm2.5 MetOne Bam'</li>\n",
       "\t<li>'Pm2.5 Teom FEM'</li>\n",
       "\t<li>'Relative Humidity'</li>\n",
       "\t<li>'Sulfur Dioxide (Trace SO2)'</li>\n",
       "\t<li>'Temperature'</li>\n",
       "\t<li>'Temperature 10 m'</li>\n",
       "\t<li>'Wind Direction Sonic'</li>\n",
       "\t<li>'Wind Direction Vane'</li>\n",
       "\t<li>'Wind Speed Propeller'</li>\n",
       "\t<li>'Wind Speed Sonic'</li>\n",
       "</ol>\n"
      ],
      "text/latex": [
       "\\begin{enumerate*}\n",
       "\\item 'Date'\n",
       "\\item 'Spokane.St..Bridge.Total'\n",
       "\\item 'West'\n",
       "\\item 'East'\n",
       "\\item 'Site'\n",
       "\\item 'Carbon Monoxide (Trace CO)'\n",
       "\\item 'Nitrogen Dioxide(NO2\\_CAPS)'\n",
       "\\item 'Ozone (uv abs)'\n",
       "\\item 'Pm2.5 MetOne Bam'\n",
       "\\item 'Pm2.5 Teom FEM'\n",
       "\\item 'Relative Humidity'\n",
       "\\item 'Sulfur Dioxide (Trace SO2)'\n",
       "\\item 'Temperature'\n",
       "\\item 'Temperature 10 m'\n",
       "\\item 'Wind Direction Sonic'\n",
       "\\item 'Wind Direction Vane'\n",
       "\\item 'Wind Speed Propeller'\n",
       "\\item 'Wind Speed Sonic'\n",
       "\\end{enumerate*}\n"
      ],
      "text/markdown": [
       "1. 'Date'\n",
       "2. 'Spokane.St..Bridge.Total'\n",
       "3. 'West'\n",
       "4. 'East'\n",
       "5. 'Site'\n",
       "6. 'Carbon Monoxide (Trace CO)'\n",
       "7. 'Nitrogen Dioxide(NO2_CAPS)'\n",
       "8. 'Ozone (uv abs)'\n",
       "9. 'Pm2.5 MetOne Bam'\n",
       "10. 'Pm2.5 Teom FEM'\n",
       "11. 'Relative Humidity'\n",
       "12. 'Sulfur Dioxide (Trace SO2)'\n",
       "13. 'Temperature'\n",
       "14. 'Temperature 10 m'\n",
       "15. 'Wind Direction Sonic'\n",
       "16. 'Wind Direction Vane'\n",
       "17. 'Wind Speed Propeller'\n",
       "18. 'Wind Speed Sonic'\n",
       "\n",
       "\n"
      ],
      "text/plain": [
       " [1] \"Date\"                       \"Spokane.St..Bridge.Total\"  \n",
       " [3] \"West\"                       \"East\"                      \n",
       " [5] \"Site\"                       \"Carbon Monoxide (Trace CO)\"\n",
       " [7] \"Nitrogen Dioxide(NO2_CAPS)\" \"Ozone (uv abs)\"            \n",
       " [9] \"Pm2.5 MetOne Bam\"           \"Pm2.5 Teom FEM\"            \n",
       "[11] \"Relative Humidity\"          \"Sulfur Dioxide (Trace SO2)\"\n",
       "[13] \"Temperature\"                \"Temperature 10 m\"          \n",
       "[15] \"Wind Direction Sonic\"       \"Wind Direction Vane\"       \n",
       "[17] \"Wind Speed Propeller\"       \"Wind Speed Sonic\"          "
      ]
     },
     "metadata": {},
     "output_type": "display_data"
    }
   ],
   "source": [
    "saq <- merge(ssbike,beacon, by=\"Date\")\n",
    "head(saq)\n",
    "colnames(saq)"
   ]
  },
  {
   "cell_type": "code",
   "execution_count": 143,
   "id": "356e77f3",
   "metadata": {},
   "outputs": [
    {
     "data": {
      "text/html": [
       "<table>\n",
       "<thead><tr><th scope=col>Spokane.St..Bridge.Total</th><th scope=col>Carbon Monoxide (Trace CO)</th><th scope=col>Pm2.5 MetOne Bam</th><th scope=col>Temperature 10 m</th><th scope=col>Relative Humidity</th></tr></thead>\n",
       "<tbody>\n",
       "\t<tr><td>7    </td><td>119.3</td><td>9    </td><td>50   </td><td>92   </td></tr>\n",
       "\t<tr><td>7    </td><td>120.2</td><td>8    </td><td>50   </td><td>91   </td></tr>\n",
       "\t<tr><td>7    </td><td>132.6</td><td>9    </td><td>42   </td><td>95   </td></tr>\n",
       "\t<tr><td>7    </td><td>131.2</td><td>7    </td><td>50   </td><td>88   </td></tr>\n",
       "\t<tr><td>7    </td><td>115.0</td><td>8    </td><td>50   </td><td>89   </td></tr>\n",
       "\t<tr><td>7    </td><td>115.4</td><td>9    </td><td>51   </td><td>91   </td></tr>\n",
       "</tbody>\n",
       "</table>\n"
      ],
      "text/latex": [
       "\\begin{tabular}{lllll}\n",
       " Spokane.St..Bridge.Total & Carbon Monoxide (Trace CO) & Pm2.5 MetOne Bam & Temperature 10 m & Relative Humidity\\\\\n",
       "\\hline\n",
       "\t 7     & 119.3 & 9     & 50    & 92   \\\\\n",
       "\t 7     & 120.2 & 8     & 50    & 91   \\\\\n",
       "\t 7     & 132.6 & 9     & 42    & 95   \\\\\n",
       "\t 7     & 131.2 & 7     & 50    & 88   \\\\\n",
       "\t 7     & 115.0 & 8     & 50    & 89   \\\\\n",
       "\t 7     & 115.4 & 9     & 51    & 91   \\\\\n",
       "\\end{tabular}\n"
      ],
      "text/markdown": [
       "\n",
       "| Spokane.St..Bridge.Total | Carbon Monoxide (Trace CO) | Pm2.5 MetOne Bam | Temperature 10 m | Relative Humidity |\n",
       "|---|---|---|---|---|\n",
       "| 7     | 119.3 | 9     | 50    | 92    |\n",
       "| 7     | 120.2 | 8     | 50    | 91    |\n",
       "| 7     | 132.6 | 9     | 42    | 95    |\n",
       "| 7     | 131.2 | 7     | 50    | 88    |\n",
       "| 7     | 115.0 | 8     | 50    | 89    |\n",
       "| 7     | 115.4 | 9     | 51    | 91    |\n",
       "\n"
      ],
      "text/plain": [
       "     Spokane.St..Bridge.Total Carbon Monoxide (Trace CO) Pm2.5 MetOne Bam\n",
       "[1,] 7                        119.3                      9               \n",
       "[2,] 7                        120.2                      8               \n",
       "[3,] 7                        132.6                      9               \n",
       "[4,] 7                        131.2                      7               \n",
       "[5,] 7                        115.0                      8               \n",
       "[6,] 7                        115.4                      9               \n",
       "     Temperature 10 m Relative Humidity\n",
       "[1,] 50               92               \n",
       "[2,] 50               91               \n",
       "[3,] 42               95               \n",
       "[4,] 50               88               \n",
       "[5,] 50               89               \n",
       "[6,] 51               91               "
      ]
     },
     "metadata": {},
     "output_type": "display_data"
    }
   ],
   "source": [
    "saq2= saq %>% \n",
    "  select('Spokane.St..Bridge.Total',  'Carbon Monoxide (Trace CO)', 'Pm2.5 MetOne Bam', 'Temperature 10 m', 'Relative Humidity')\n",
    "\n",
    "saq2= sapply(saq2, as.numeric)\n",
    "head(saq2)"
   ]
  },
  {
   "cell_type": "code",
   "execution_count": 149,
   "id": "812b50b9",
   "metadata": {},
   "outputs": [
    {
     "name": "stderr",
     "output_type": "stream",
     "text": [
      "Warning message:\n",
      "“Removed 84672 rows containing missing values (geom_path).”"
     ]
    },
    {
     "data": {
      "image/png": "[encoded data removed]",
      "text/plain": [
       "plot without title"
      ]
     },
     "metadata": {},
     "output_type": "display_data"
    }
   ],
   "source": [
    "ggplot(data = saq, aes(x = Spokane.St..Bridge.Total, y = 'Wind Speed Propeller'))+\n",
    "  geom_line(color = \"#00AFBB\", size = 2)"
   ]
  },
  {
   "cell_type": "code",
   "execution_count": 141,
   "id": "5e5e7a64",
   "metadata": {},
   "outputs": [
    {
     "data": {
      "text/html": [
       "<table>\n",
       "<thead><tr><th></th><th scope=col>Spokane.St..Bridge.Total</th><th scope=col>Carbon Monoxide (Trace CO)</th><th scope=col>Pm2.5 MetOne Bam</th><th scope=col>Temperature 10 m</th><th scope=col>Relative Humidity</th></tr></thead>\n",
       "<tbody>\n",
       "\t<tr><th scope=row>Spokane.St..Bridge.Total</th><td> 1</td><td>NA</td><td>NA</td><td>NA</td><td>NA</td></tr>\n",
       "\t<tr><th scope=row>Carbon Monoxide (Trace CO)</th><td>NA</td><td> 1</td><td>NA</td><td>NA</td><td>NA</td></tr>\n",
       "\t<tr><th scope=row>Pm2.5 MetOne Bam</th><td>NA</td><td>NA</td><td> 1</td><td>NA</td><td>NA</td></tr>\n",
       "\t<tr><th scope=row>Temperature 10 m</th><td>NA</td><td>NA</td><td>NA</td><td> 1</td><td>NA</td></tr>\n",
       "\t<tr><th scope=row>Relative Humidity</th><td>NA</td><td>NA</td><td>NA</td><td>NA</td><td> 1</td></tr>\n",
       "</tbody>\n",
       "</table>\n"
      ],
      "text/latex": [
       "\\begin{tabular}{r|lllll}\n",
       "  & Spokane.St..Bridge.Total & Carbon Monoxide (Trace CO) & Pm2.5 MetOne Bam & Temperature 10 m & Relative Humidity\\\\\n",
       "\\hline\n",
       "\tSpokane.St..Bridge.Total &  1 & NA & NA & NA & NA\\\\\n",
       "\tCarbon Monoxide (Trace CO) & NA &  1 & NA & NA & NA\\\\\n",
       "\tPm2.5 MetOne Bam & NA & NA &  1 & NA & NA\\\\\n",
       "\tTemperature 10 m & NA & NA & NA &  1 & NA\\\\\n",
       "\tRelative Humidity & NA & NA & NA & NA &  1\\\\\n",
       "\\end{tabular}\n"
      ],
      "text/markdown": [
       "\n",
       "| <!--/--> | Spokane.St..Bridge.Total | Carbon Monoxide (Trace CO) | Pm2.5 MetOne Bam | Temperature 10 m | Relative Humidity |\n",
       "|---|---|---|---|---|---|\n",
       "| Spokane.St..Bridge.Total |  1 | NA | NA | NA | NA |\n",
       "| Carbon Monoxide (Trace CO) | NA |  1 | NA | NA | NA |\n",
       "| Pm2.5 MetOne Bam | NA | NA |  1 | NA | NA |\n",
       "| Temperature 10 m | NA | NA | NA |  1 | NA |\n",
       "| Relative Humidity | NA | NA | NA | NA |  1 |\n",
       "\n"
      ],
      "text/plain": [
       "                           Spokane.St..Bridge.Total Carbon Monoxide (Trace CO)\n",
       "Spokane.St..Bridge.Total    1                       NA                        \n",
       "Carbon Monoxide (Trace CO) NA                        1                        \n",
       "Pm2.5 MetOne Bam           NA                       NA                        \n",
       "Temperature 10 m           NA                       NA                        \n",
       "Relative Humidity          NA                       NA                        \n",
       "                           Pm2.5 MetOne Bam Temperature 10 m Relative Humidity\n",
       "Spokane.St..Bridge.Total   NA               NA               NA               \n",
       "Carbon Monoxide (Trace CO) NA               NA               NA               \n",
       "Pm2.5 MetOne Bam            1               NA               NA               \n",
       "Temperature 10 m           NA                1               NA               \n",
       "Relative Humidity          NA               NA                1               "
      ]
     },
     "metadata": {},
     "output_type": "display_data"
    }
   ],
   "source": [
    "\n"
   ]
  },
  {
   "cell_type": "code",
   "execution_count": null,
   "id": "0132caaa",
   "metadata": {},
   "outputs": [],
   "source": []
  },
  {
   "cell_type": "code",
   "execution_count": null,
   "id": "9c669072",
   "metadata": {},
   "outputs": [],
   "source": []
  },
  {
   "cell_type": "code",
   "execution_count": null,
   "id": "c92224e0",
   "metadata": {},
   "outputs": [],
   "source": []
  }
 ],
 "metadata": {
  "kernelspec": {
   "display_name": "R",
   "language": "R",
   "name": "ir"
  },
  "language_info": {
   "codemirror_mode": "r",
   "file_extension": ".r",
   "mimetype": "text/x-r-source",
   "name": "R",
   "pygments_lexer": "r",
   "version": "3.6.1"
  }
 },
 "nbformat": 4,
 "nbformat_minor": 5
}
