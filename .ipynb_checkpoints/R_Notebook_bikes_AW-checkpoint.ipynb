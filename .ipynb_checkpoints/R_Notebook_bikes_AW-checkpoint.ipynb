{
 "cells": [
  {
   "cell_type": "markdown",
   "id": "d64169b8",
   "metadata": {},
   "source": [
    "## Amanda Worthy's Bike AQ project notebook in R"
   ]
  },
  {
   "cell_type": "markdown",
   "id": "a1445cbe",
   "metadata": {},
   "source": [
    "## Load packages"
   ]
  },
  {
   "cell_type": "code",
   "execution_count": 1,
   "id": "4b55a431",
   "metadata": {},
   "outputs": [
    {
     "name": "stderr",
     "output_type": "stream",
     "text": [
      "\n",
      "Attaching package: ‘lubridate’\n",
      "\n",
      "The following objects are masked from ‘package:data.table’:\n",
      "\n",
      "    hour, isoweek, mday, minute, month, quarter, second, wday, week,\n",
      "    yday, year\n",
      "\n",
      "The following object is masked from ‘package:base’:\n",
      "\n",
      "    date\n",
      "\n",
      "Registered S3 methods overwritten by 'ggplot2':\n",
      "  method         from \n",
      "  [.quosures     rlang\n",
      "  c.quosures     rlang\n",
      "  print.quosures rlang\n",
      "\n",
      "Attaching package: ‘reshape2’\n",
      "\n",
      "The following objects are masked from ‘package:data.table’:\n",
      "\n",
      "    dcast, melt\n",
      "\n",
      "\n",
      "Attaching package: ‘zoo’\n",
      "\n",
      "The following objects are masked from ‘package:base’:\n",
      "\n",
      "    as.Date, as.Date.numeric\n",
      "\n",
      "\n",
      "Attaching package: ‘plyr’\n",
      "\n",
      "The following object is masked from ‘package:lubridate’:\n",
      "\n",
      "    here\n",
      "\n",
      "\n",
      "Attaching package: ‘readr’\n",
      "\n",
      "The following object is masked from ‘package:scales’:\n",
      "\n",
      "    col_factor\n",
      "\n",
      "Loading required package: xts\n",
      "Registered S3 method overwritten by 'xts':\n",
      "  method     from\n",
      "  as.zoo.xts zoo \n",
      "\n",
      "Attaching package: ‘xts’\n",
      "\n",
      "The following objects are masked from ‘package:data.table’:\n",
      "\n",
      "    first, last\n",
      "\n",
      "Loading required package: TTR\n",
      "Registered S3 method overwritten by 'quantmod':\n",
      "  method            from\n",
      "  as.zoo.data.frame zoo \n",
      "Version 0.4-0 included new data defaults. See ?getSymbols.\n",
      "\n",
      "Attaching package: ‘dplyr’\n",
      "\n",
      "The following objects are masked from ‘package:xts’:\n",
      "\n",
      "    first, last\n",
      "\n",
      "The following objects are masked from ‘package:plyr’:\n",
      "\n",
      "    arrange, count, desc, failwith, id, mutate, rename, summarise,\n",
      "    summarize\n",
      "\n",
      "The following objects are masked from ‘package:lubridate’:\n",
      "\n",
      "    intersect, setdiff, union\n",
      "\n",
      "The following objects are masked from ‘package:data.table’:\n",
      "\n",
      "    between, first, last\n",
      "\n",
      "The following objects are masked from ‘package:stats’:\n",
      "\n",
      "    filter, lag\n",
      "\n",
      "The following objects are masked from ‘package:base’:\n",
      "\n",
      "    intersect, setdiff, setequal, union\n",
      "\n",
      "Registered S3 method overwritten by 'rvest':\n",
      "  method            from\n",
      "  read_xml.response xml2\n",
      "── Attaching packages ─────────────────────────────────────── tidyverse 1.2.1 ──\n",
      "✔ tibble  2.1.1     ✔ purrr   0.3.2\n",
      "✔ tidyr   0.8.3     ✔ stringr 1.4.0\n",
      "✔ tibble  2.1.1     ✔ forcats 0.4.0\n",
      "── Conflicts ────────────────────────────────────────── tidyverse_conflicts() ──\n",
      "✖ dplyr::arrange()         masks plyr::arrange()\n",
      "✖ lubridate::as.difftime() masks base::as.difftime()\n",
      "✖ dplyr::between()         masks data.table::between()\n",
      "✖ readr::col_factor()      masks scales::col_factor()\n",
      "✖ purrr::compact()         masks plyr::compact()\n",
      "✖ dplyr::count()           masks plyr::count()\n",
      "✖ lubridate::date()        masks base::date()\n",
      "✖ purrr::discard()         masks scales::discard()\n",
      "✖ dplyr::failwith()        masks plyr::failwith()\n",
      "✖ dplyr::filter()          masks stats::filter()\n",
      "✖ dplyr::first()           masks xts::first(), data.table::first()\n",
      "✖ plyr::here()             masks lubridate::here()\n",
      "✖ lubridate::hour()        masks data.table::hour()\n",
      "✖ dplyr::id()              masks plyr::id()\n",
      "✖ lubridate::intersect()   masks base::intersect()\n",
      "✖ lubridate::isoweek()     masks data.table::isoweek()\n",
      "✖ dplyr::lag()             masks stats::lag()\n",
      "✖ dplyr::last()            masks xts::last(), data.table::last()\n",
      "✖ lubridate::mday()        masks data.table::mday()\n",
      "✖ lubridate::minute()      masks data.table::minute()\n",
      "✖ lubridate::month()       masks data.table::month()\n",
      "✖ dplyr::mutate()          masks plyr::mutate()\n",
      "✖ lubridate::quarter()     masks data.table::quarter()\n",
      "✖ dplyr::rename()          masks plyr::rename()\n",
      "✖ lubridate::second()      masks data.table::second()\n",
      "✖ lubridate::setdiff()     masks base::setdiff()\n",
      "✖ dplyr::summarise()       masks plyr::summarise()\n",
      "✖ dplyr::summarize()       masks plyr::summarize()\n",
      "✖ purrr::transpose()       masks data.table::transpose()\n",
      "✖ lubridate::union()       masks base::union()\n",
      "✖ lubridate::wday()        masks data.table::wday()\n",
      "✖ lubridate::week()        masks data.table::week()\n",
      "✖ lubridate::yday()        masks data.table::yday()\n",
      "✖ lubridate::year()        masks data.table::year()\n"
     ]
    }
   ],
   "source": [
    "library(data.table)\n",
    "library(lubridate)\n",
    "library(ggplot2)\n",
    "library(reshape2)\n",
    "library(scales)\n",
    "library(zoo)\n",
    "library(plyr)\n",
    "library(readr)\n",
    "library(stats)\n",
    "library(quantmod)\n",
    "library(dplyr)\n",
    "library(readxl)\n",
    "library(ggplot2)\n",
    "library(tidyverse)\n",
    "library(data.table)\n",
    "library(lubridate)\n",
    "library(ggplot2)\n",
    "library(reshape2)\n",
    "library(scales)\n",
    "library(zoo)\n",
    "library(plyr)\n",
    "library(readr)\n",
    "library(lubridate)\n",
    "library(reshape2)\n",
    "library(scales)\n",
    "library(broom)\n",
    "invisible(1:13) # hides it\n",
    "library(repr)\n",
    "library(tibble)\n",
    "\n",
    "options(repr.plot.width=5, repr.plot.height=4) #controls plot size in jupyter"
   ]
  },
  {
   "cell_type": "markdown",
   "id": "82b65b36",
   "metadata": {},
   "source": [
    "# Air Quality Dataset "
   ]
  },
  {
   "cell_type": "markdown",
   "id": "24d1456a",
   "metadata": {},
   "source": [
    "Locations of the AQ monitering sites: \n",
    "\n",
    "10th & Weller: 47.597222, -122.319722, 42\n",
    "Beacon Hill: 47.568214, -122.308619, 334"
   ]
  },
  {
   "cell_type": "markdown",
   "id": "a0baa53a",
   "metadata": {},
   "source": [
    "Locations of the Bike Counters: \n",
    "\n",
    "10th & Weller: 47.597222, -122.319722, 42\n",
    "Beacon Hill: 47.568214, -122.308619, 334"
   ]
  },
  {
   "cell_type": "code",
   "execution_count": 82,
   "id": "ea8ca31a",
   "metadata": {},
   "outputs": [
    {
     "data": {
      "text/html": [
       "<table>\n",
       "<thead><tr><th scope=col>Site</th><th scope=col>Date</th><th scope=col>ParameterType</th><th scope=col>ParameterName</th><th scope=col>Units</th><th scope=col>UnitsFull</th><th scope=col>Value</th></tr></thead>\n",
       "<tbody>\n",
       "\t<tr><td>Seattle 10th &amp; Weller </td><td>6/11/14 4:00              </td><td>CO                        </td><td>Carbon Monoxide (Trace CO)</td><td>ppb                       </td><td>Parts per Million         </td><td>250.1                     </td></tr>\n",
       "\t<tr><td>Seattle 10th &amp; Weller </td><td>6/11/14 5:00              </td><td>CO                        </td><td>Carbon Monoxide (Trace CO)</td><td>ppb                       </td><td>Parts per Million         </td><td>399.0                     </td></tr>\n",
       "\t<tr><td>Seattle 10th &amp; Weller </td><td>6/11/14 6:00              </td><td>CO                        </td><td>Carbon Monoxide (Trace CO)</td><td>ppb                       </td><td>Parts per Million         </td><td>637.3                     </td></tr>\n",
       "\t<tr><td>Seattle 10th &amp; Weller </td><td>6/11/14 7:00              </td><td>CO                        </td><td>Carbon Monoxide (Trace CO)</td><td>ppb                       </td><td>Parts per Million         </td><td>722.8                     </td></tr>\n",
       "\t<tr><td>Seattle 10th &amp; Weller </td><td>6/11/14 8:00              </td><td>CO                        </td><td>Carbon Monoxide (Trace CO)</td><td>ppb                       </td><td>Parts per Million         </td><td>673.2                     </td></tr>\n",
       "\t<tr><td>Seattle 10th &amp; Weller </td><td>6/11/14 9:00              </td><td>CO                        </td><td>Carbon Monoxide (Trace CO)</td><td>ppb                       </td><td>Parts per Million         </td><td>594.3                     </td></tr>\n",
       "</tbody>\n",
       "</table>\n"
      ],
      "text/latex": [
       "\\begin{tabular}{r|lllllll}\n",
       " Site & Date & ParameterType & ParameterName & Units & UnitsFull & Value\\\\\n",
       "\\hline\n",
       "\t Seattle 10th \\& Weller    & 6/11/14 4:00               & CO                         & Carbon Monoxide (Trace CO) & ppb                        & Parts per Million          & 250.1                     \\\\\n",
       "\t Seattle 10th \\& Weller    & 6/11/14 5:00               & CO                         & Carbon Monoxide (Trace CO) & ppb                        & Parts per Million          & 399.0                     \\\\\n",
       "\t Seattle 10th \\& Weller    & 6/11/14 6:00               & CO                         & Carbon Monoxide (Trace CO) & ppb                        & Parts per Million          & 637.3                     \\\\\n",
       "\t Seattle 10th \\& Weller    & 6/11/14 7:00               & CO                         & Carbon Monoxide (Trace CO) & ppb                        & Parts per Million          & 722.8                     \\\\\n",
       "\t Seattle 10th \\& Weller    & 6/11/14 8:00               & CO                         & Carbon Monoxide (Trace CO) & ppb                        & Parts per Million          & 673.2                     \\\\\n",
       "\t Seattle 10th \\& Weller    & 6/11/14 9:00               & CO                         & Carbon Monoxide (Trace CO) & ppb                        & Parts per Million          & 594.3                     \\\\\n",
       "\\end{tabular}\n"
      ],
      "text/markdown": [
       "\n",
       "| Site | Date | ParameterType | ParameterName | Units | UnitsFull | Value |\n",
       "|---|---|---|---|---|---|---|\n",
       "| Seattle 10th & Weller      | 6/11/14 4:00               | CO                         | Carbon Monoxide (Trace CO) | ppb                        | Parts per Million          | 250.1                      |\n",
       "| Seattle 10th & Weller      | 6/11/14 5:00               | CO                         | Carbon Monoxide (Trace CO) | ppb                        | Parts per Million          | 399.0                      |\n",
       "| Seattle 10th & Weller      | 6/11/14 6:00               | CO                         | Carbon Monoxide (Trace CO) | ppb                        | Parts per Million          | 637.3                      |\n",
       "| Seattle 10th & Weller      | 6/11/14 7:00               | CO                         | Carbon Monoxide (Trace CO) | ppb                        | Parts per Million          | 722.8                      |\n",
       "| Seattle 10th & Weller      | 6/11/14 8:00               | CO                         | Carbon Monoxide (Trace CO) | ppb                        | Parts per Million          | 673.2                      |\n",
       "| Seattle 10th & Weller      | 6/11/14 9:00               | CO                         | Carbon Monoxide (Trace CO) | ppb                        | Parts per Million          | 594.3                      |\n",
       "\n"
      ],
      "text/plain": [
       "  Site                  Date         ParameterType ParameterName             \n",
       "1 Seattle 10th & Weller 6/11/14 4:00 CO            Carbon Monoxide (Trace CO)\n",
       "2 Seattle 10th & Weller 6/11/14 5:00 CO            Carbon Monoxide (Trace CO)\n",
       "3 Seattle 10th & Weller 6/11/14 6:00 CO            Carbon Monoxide (Trace CO)\n",
       "4 Seattle 10th & Weller 6/11/14 7:00 CO            Carbon Monoxide (Trace CO)\n",
       "5 Seattle 10th & Weller 6/11/14 8:00 CO            Carbon Monoxide (Trace CO)\n",
       "6 Seattle 10th & Weller 6/11/14 9:00 CO            Carbon Monoxide (Trace CO)\n",
       "  Units UnitsFull         Value\n",
       "1 ppb   Parts per Million 250.1\n",
       "2 ppb   Parts per Million 399.0\n",
       "3 ppb   Parts per Million 637.3\n",
       "4 ppb   Parts per Million 722.8\n",
       "5 ppb   Parts per Million 673.2\n",
       "6 ppb   Parts per Million 594.3"
      ]
     },
     "metadata": {},
     "output_type": "display_data"
    },
    {
     "data": {
      "text/html": [
       "<ol class=list-inline>\n",
       "\t<li>'Site'</li>\n",
       "\t<li>'Date'</li>\n",
       "\t<li>'ParameterType'</li>\n",
       "\t<li>'ParameterName'</li>\n",
       "\t<li>'Units'</li>\n",
       "\t<li>'UnitsFull'</li>\n",
       "\t<li>'Value'</li>\n",
       "</ol>\n"
      ],
      "text/latex": [
       "\\begin{enumerate*}\n",
       "\\item 'Site'\n",
       "\\item 'Date'\n",
       "\\item 'ParameterType'\n",
       "\\item 'ParameterName'\n",
       "\\item 'Units'\n",
       "\\item 'UnitsFull'\n",
       "\\item 'Value'\n",
       "\\end{enumerate*}\n"
      ],
      "text/markdown": [
       "1. 'Site'\n",
       "2. 'Date'\n",
       "3. 'ParameterType'\n",
       "4. 'ParameterName'\n",
       "5. 'Units'\n",
       "6. 'UnitsFull'\n",
       "7. 'Value'\n",
       "\n",
       "\n"
      ],
      "text/plain": [
       "[1] \"Site\"          \"Date\"          \"ParameterType\" \"ParameterName\"\n",
       "[5] \"Units\"         \"UnitsFull\"     \"Value\"        "
      ]
     },
     "metadata": {},
     "output_type": "display_data"
    }
   ],
   "source": [
    "#import dataset \n",
    "df<- read.csv(\"Data/AW_DataDownload_11_14_22.csv\")\n",
    "head(df)\n",
    "colnames(df)"
   ]
  },
  {
   "cell_type": "code",
   "execution_count": 62,
   "id": "bb6a3597",
   "metadata": {},
   "outputs": [
    {
     "data": {
      "text/html": [
       "<ol class=list-inline>\n",
       "\t<li>CO</li>\n",
       "\t<li>NO2</li>\n",
       "\t<li>Pm25</li>\n",
       "\t<li>Temperature</li>\n",
       "\t<li>WindDirection</li>\n",
       "\t<li>WindSpeed</li>\n",
       "\t<li>Ozone</li>\n",
       "\t<li>SO2</li>\n",
       "\t<li>RelativeHumidity</li>\n",
       "</ol>\n",
       "\n",
       "<details>\n",
       "\t<summary style=display:list-item;cursor:pointer>\n",
       "\t\t<strong>Levels</strong>:\n",
       "\t</summary>\n",
       "\t<ol class=list-inline>\n",
       "\t\t<li>'CO'</li>\n",
       "\t\t<li>'NO2'</li>\n",
       "\t\t<li>'Ozone'</li>\n",
       "\t\t<li>'Pm25'</li>\n",
       "\t\t<li>'RelativeHumidity'</li>\n",
       "\t\t<li>'SO2'</li>\n",
       "\t\t<li>'Temperature'</li>\n",
       "\t\t<li>'WindDirection'</li>\n",
       "\t\t<li>'WindSpeed'</li>\n",
       "\t</ol>\n",
       "</details>"
      ],
      "text/latex": [
       "\\begin{enumerate*}\n",
       "\\item CO\n",
       "\\item NO2\n",
       "\\item Pm25\n",
       "\\item Temperature\n",
       "\\item WindDirection\n",
       "\\item WindSpeed\n",
       "\\item Ozone\n",
       "\\item SO2\n",
       "\\item RelativeHumidity\n",
       "\\end{enumerate*}\n",
       "\n",
       "\\emph{Levels}: \\begin{enumerate*}\n",
       "\\item 'CO'\n",
       "\\item 'NO2'\n",
       "\\item 'Ozone'\n",
       "\\item 'Pm25'\n",
       "\\item 'RelativeHumidity'\n",
       "\\item 'SO2'\n",
       "\\item 'Temperature'\n",
       "\\item 'WindDirection'\n",
       "\\item 'WindSpeed'\n",
       "\\end{enumerate*}\n"
      ],
      "text/markdown": [
       "1. CO\n",
       "2. NO2\n",
       "3. Pm25\n",
       "4. Temperature\n",
       "5. WindDirection\n",
       "6. WindSpeed\n",
       "7. Ozone\n",
       "8. SO2\n",
       "9. RelativeHumidity\n",
       "\n",
       "\n",
       "\n",
       "**Levels**: 1. 'CO'\n",
       "2. 'NO2'\n",
       "3. 'Ozone'\n",
       "4. 'Pm25'\n",
       "5. 'RelativeHumidity'\n",
       "6. 'SO2'\n",
       "7. 'Temperature'\n",
       "8. 'WindDirection'\n",
       "9. 'WindSpeed'\n",
       "\n",
       "\n"
      ],
      "text/plain": [
       "[1] CO               NO2              Pm25             Temperature     \n",
       "[5] WindDirection    WindSpeed        Ozone            SO2             \n",
       "[9] RelativeHumidity\n",
       "9 Levels: CO NO2 Ozone Pm25 RelativeHumidity SO2 Temperature ... WindSpeed"
      ]
     },
     "metadata": {},
     "output_type": "display_data"
    }
   ],
   "source": [
    "unique(df$ParameterType)"
   ]
  },
  {
   "cell_type": "code",
   "execution_count": 63,
   "id": "cf33b2c7",
   "metadata": {},
   "outputs": [
    {
     "data": {
      "text/html": [
       "<ol class=list-inline>\n",
       "\t<li>Carbon Monoxide (Trace CO)</li>\n",
       "\t<li>Nitrogen Dioxide (NO2)</li>\n",
       "\t<li>Pm2.5 MetOne Bam</li>\n",
       "\t<li>Pm2.5 Teom FEM</li>\n",
       "\t<li>Temperature 10 m</li>\n",
       "\t<li>Wind Direction Sonic</li>\n",
       "\t<li>Wind Speed Sonic</li>\n",
       "\t<li>Nitrogen Dioxide(NO2_CAPS)</li>\n",
       "\t<li>Ozone (uv abs)</li>\n",
       "\t<li>Sulfur Dioxide (Trace SO2)</li>\n",
       "\t<li>Relative Humidity</li>\n",
       "\t<li>Temperature</li>\n",
       "\t<li>Wind Direction Vane</li>\n",
       "\t<li>Wind Speed Propeller</li>\n",
       "</ol>\n",
       "\n",
       "<details>\n",
       "\t<summary style=display:list-item;cursor:pointer>\n",
       "\t\t<strong>Levels</strong>:\n",
       "\t</summary>\n",
       "\t<ol class=list-inline>\n",
       "\t\t<li>'Carbon Monoxide (Trace CO)'</li>\n",
       "\t\t<li>'Nitrogen Dioxide (NO2)'</li>\n",
       "\t\t<li>'Nitrogen Dioxide(NO2_CAPS)'</li>\n",
       "\t\t<li>'Ozone (uv abs)'</li>\n",
       "\t\t<li>'Pm2.5 MetOne Bam'</li>\n",
       "\t\t<li>'Pm2.5 Teom FEM'</li>\n",
       "\t\t<li>'Relative Humidity'</li>\n",
       "\t\t<li>'Sulfur Dioxide (Trace SO2)'</li>\n",
       "\t\t<li>'Temperature'</li>\n",
       "\t\t<li>'Temperature 10 m'</li>\n",
       "\t\t<li>'Wind Direction Sonic'</li>\n",
       "\t\t<li>'Wind Direction Vane'</li>\n",
       "\t\t<li>'Wind Speed Propeller'</li>\n",
       "\t\t<li>'Wind Speed Sonic'</li>\n",
       "\t</ol>\n",
       "</details>"
      ],
      "text/latex": [
       "\\begin{enumerate*}\n",
       "\\item Carbon Monoxide (Trace CO)\n",
       "\\item Nitrogen Dioxide (NO2)\n",
       "\\item Pm2.5 MetOne Bam\n",
       "\\item Pm2.5 Teom FEM\n",
       "\\item Temperature 10 m\n",
       "\\item Wind Direction Sonic\n",
       "\\item Wind Speed Sonic\n",
       "\\item Nitrogen Dioxide(NO2\\_CAPS)\n",
       "\\item Ozone (uv abs)\n",
       "\\item Sulfur Dioxide (Trace SO2)\n",
       "\\item Relative Humidity\n",
       "\\item Temperature\n",
       "\\item Wind Direction Vane\n",
       "\\item Wind Speed Propeller\n",
       "\\end{enumerate*}\n",
       "\n",
       "\\emph{Levels}: \\begin{enumerate*}\n",
       "\\item 'Carbon Monoxide (Trace CO)'\n",
       "\\item 'Nitrogen Dioxide (NO2)'\n",
       "\\item 'Nitrogen Dioxide(NO2\\_CAPS)'\n",
       "\\item 'Ozone (uv abs)'\n",
       "\\item 'Pm2.5 MetOne Bam'\n",
       "\\item 'Pm2.5 Teom FEM'\n",
       "\\item 'Relative Humidity'\n",
       "\\item 'Sulfur Dioxide (Trace SO2)'\n",
       "\\item 'Temperature'\n",
       "\\item 'Temperature 10 m'\n",
       "\\item 'Wind Direction Sonic'\n",
       "\\item 'Wind Direction Vane'\n",
       "\\item 'Wind Speed Propeller'\n",
       "\\item 'Wind Speed Sonic'\n",
       "\\end{enumerate*}\n"
      ],
      "text/markdown": [
       "1. Carbon Monoxide (Trace CO)\n",
       "2. Nitrogen Dioxide (NO2)\n",
       "3. Pm2.5 MetOne Bam\n",
       "4. Pm2.5 Teom FEM\n",
       "5. Temperature 10 m\n",
       "6. Wind Direction Sonic\n",
       "7. Wind Speed Sonic\n",
       "8. Nitrogen Dioxide(NO2_CAPS)\n",
       "9. Ozone (uv abs)\n",
       "10. Sulfur Dioxide (Trace SO2)\n",
       "11. Relative Humidity\n",
       "12. Temperature\n",
       "13. Wind Direction Vane\n",
       "14. Wind Speed Propeller\n",
       "\n",
       "\n",
       "\n",
       "**Levels**: 1. 'Carbon Monoxide (Trace CO)'\n",
       "2. 'Nitrogen Dioxide (NO2)'\n",
       "3. 'Nitrogen Dioxide(NO2_CAPS)'\n",
       "4. 'Ozone (uv abs)'\n",
       "5. 'Pm2.5 MetOne Bam'\n",
       "6. 'Pm2.5 Teom FEM'\n",
       "7. 'Relative Humidity'\n",
       "8. 'Sulfur Dioxide (Trace SO2)'\n",
       "9. 'Temperature'\n",
       "10. 'Temperature 10 m'\n",
       "11. 'Wind Direction Sonic'\n",
       "12. 'Wind Direction Vane'\n",
       "13. 'Wind Speed Propeller'\n",
       "14. 'Wind Speed Sonic'\n",
       "\n",
       "\n"
      ],
      "text/plain": [
       " [1] Carbon Monoxide (Trace CO) Nitrogen Dioxide (NO2)    \n",
       " [3] Pm2.5 MetOne Bam           Pm2.5 Teom FEM            \n",
       " [5] Temperature 10 m           Wind Direction Sonic      \n",
       " [7] Wind Speed Sonic           Nitrogen Dioxide(NO2_CAPS)\n",
       " [9] Ozone (uv abs)             Sulfur Dioxide (Trace SO2)\n",
       "[11] Relative Humidity          Temperature               \n",
       "[13] Wind Direction Vane        Wind Speed Propeller      \n",
       "14 Levels: Carbon Monoxide (Trace CO) ... Wind Speed Sonic"
      ]
     },
     "metadata": {},
     "output_type": "display_data"
    }
   ],
   "source": [
    "unique(df$ParameterName)"
   ]
  },
  {
   "cell_type": "code",
   "execution_count": 96,
   "id": "2f70529e",
   "metadata": {},
   "outputs": [
    {
     "data": {
      "text/html": [
       "<table>\n",
       "<thead><tr><th scope=col>Site</th><th scope=col>Date</th><th scope=col>ParameterName</th><th scope=col>Value</th></tr></thead>\n",
       "<tbody>\n",
       "\t<tr><td>Seattle 10th &amp; Weller </td><td>6/11/14 4:00              </td><td>Carbon Monoxide (Trace CO)</td><td>250.1                     </td></tr>\n",
       "\t<tr><td>Seattle 10th &amp; Weller </td><td>6/11/14 5:00              </td><td>Carbon Monoxide (Trace CO)</td><td>399.0                     </td></tr>\n",
       "\t<tr><td>Seattle 10th &amp; Weller </td><td>6/11/14 6:00              </td><td>Carbon Monoxide (Trace CO)</td><td>637.3                     </td></tr>\n",
       "\t<tr><td>Seattle 10th &amp; Weller </td><td>6/11/14 7:00              </td><td>Carbon Monoxide (Trace CO)</td><td>722.8                     </td></tr>\n",
       "\t<tr><td>Seattle 10th &amp; Weller </td><td>6/11/14 8:00              </td><td>Carbon Monoxide (Trace CO)</td><td>673.2                     </td></tr>\n",
       "\t<tr><td>Seattle 10th &amp; Weller </td><td>6/11/14 9:00              </td><td>Carbon Monoxide (Trace CO)</td><td>594.3                     </td></tr>\n",
       "</tbody>\n",
       "</table>\n"
      ],
      "text/latex": [
       "\\begin{tabular}{r|llll}\n",
       " Site & Date & ParameterName & Value\\\\\n",
       "\\hline\n",
       "\t Seattle 10th \\& Weller    & 6/11/14 4:00               & Carbon Monoxide (Trace CO) & 250.1                     \\\\\n",
       "\t Seattle 10th \\& Weller    & 6/11/14 5:00               & Carbon Monoxide (Trace CO) & 399.0                     \\\\\n",
       "\t Seattle 10th \\& Weller    & 6/11/14 6:00               & Carbon Monoxide (Trace CO) & 637.3                     \\\\\n",
       "\t Seattle 10th \\& Weller    & 6/11/14 7:00               & Carbon Monoxide (Trace CO) & 722.8                     \\\\\n",
       "\t Seattle 10th \\& Weller    & 6/11/14 8:00               & Carbon Monoxide (Trace CO) & 673.2                     \\\\\n",
       "\t Seattle 10th \\& Weller    & 6/11/14 9:00               & Carbon Monoxide (Trace CO) & 594.3                     \\\\\n",
       "\\end{tabular}\n"
      ],
      "text/markdown": [
       "\n",
       "| Site | Date | ParameterName | Value |\n",
       "|---|---|---|---|\n",
       "| Seattle 10th & Weller      | 6/11/14 4:00               | Carbon Monoxide (Trace CO) | 250.1                      |\n",
       "| Seattle 10th & Weller      | 6/11/14 5:00               | Carbon Monoxide (Trace CO) | 399.0                      |\n",
       "| Seattle 10th & Weller      | 6/11/14 6:00               | Carbon Monoxide (Trace CO) | 637.3                      |\n",
       "| Seattle 10th & Weller      | 6/11/14 7:00               | Carbon Monoxide (Trace CO) | 722.8                      |\n",
       "| Seattle 10th & Weller      | 6/11/14 8:00               | Carbon Monoxide (Trace CO) | 673.2                      |\n",
       "| Seattle 10th & Weller      | 6/11/14 9:00               | Carbon Monoxide (Trace CO) | 594.3                      |\n",
       "\n"
      ],
      "text/plain": [
       "  Site                  Date         ParameterName              Value\n",
       "1 Seattle 10th & Weller 6/11/14 4:00 Carbon Monoxide (Trace CO) 250.1\n",
       "2 Seattle 10th & Weller 6/11/14 5:00 Carbon Monoxide (Trace CO) 399.0\n",
       "3 Seattle 10th & Weller 6/11/14 6:00 Carbon Monoxide (Trace CO) 637.3\n",
       "4 Seattle 10th & Weller 6/11/14 7:00 Carbon Monoxide (Trace CO) 722.8\n",
       "5 Seattle 10th & Weller 6/11/14 8:00 Carbon Monoxide (Trace CO) 673.2\n",
       "6 Seattle 10th & Weller 6/11/14 9:00 Carbon Monoxide (Trace CO) 594.3"
      ]
     },
     "metadata": {},
     "output_type": "display_data"
    }
   ],
   "source": [
    "df2= df %>% select(Site, Date, ParameterName, Value)\n",
    "head(df2)"
   ]
  },
  {
   "cell_type": "code",
   "execution_count": 97,
   "id": "e0ca6e29",
   "metadata": {
    "scrolled": false
   },
   "outputs": [
    {
     "data": {
      "text/html": [
       "<table>\n",
       "<thead><tr><th scope=col>Site</th><th scope=col>Date</th><th scope=col>Carbon Monoxide (Trace CO)</th><th scope=col>Nitrogen Dioxide (NO2)</th><th scope=col>Nitrogen Dioxide(NO2_CAPS)</th><th scope=col>Ozone (uv abs)</th><th scope=col>Pm2.5 MetOne Bam</th><th scope=col>Pm2.5 Teom FEM</th><th scope=col>Relative Humidity</th><th scope=col>Sulfur Dioxide (Trace SO2)</th><th scope=col>Temperature</th><th scope=col>Temperature 10 m</th><th scope=col>Wind Direction Sonic</th><th scope=col>Wind Direction Vane</th><th scope=col>Wind Speed Propeller</th><th scope=col>Wind Speed Sonic</th></tr></thead>\n",
       "<tbody>\n",
       "\t<tr><td>Seattle 10th &amp; Weller</td><td>1/1/15 0:00              </td><td> 699.3                   </td><td>27.86                    </td><td>NA                       </td><td>NA                       </td><td>NA                       </td><td>25.5                     </td><td>NA                       </td><td>NA                       </td><td>NA                       </td><td>32                       </td><td> 26                      </td><td>NA                       </td><td>NA                       </td><td>2.8                      </td></tr>\n",
       "\t<tr><td>Seattle 10th &amp; Weller</td><td>1/1/15 10:00             </td><td> 572.9                   </td><td>13.06                    </td><td>NA                       </td><td>NA                       </td><td>NA                       </td><td> 8.6                     </td><td>NA                       </td><td>NA                       </td><td>NA                       </td><td>34                       </td><td>106                      </td><td>NA                       </td><td>NA                       </td><td>2.9                      </td></tr>\n",
       "\t<tr><td>Seattle 10th &amp; Weller</td><td>1/1/15 11:00             </td><td> 738.8                   </td><td>20.25                    </td><td>NA                       </td><td>NA                       </td><td>NA                       </td><td>12.8                     </td><td>NA                       </td><td>NA                       </td><td>NA                       </td><td>37                       </td><td>127                      </td><td>NA                       </td><td>NA                       </td><td>2.9                      </td></tr>\n",
       "\t<tr><td>Seattle 10th &amp; Weller</td><td>1/1/15 12:00             </td><td>1055.1                   </td><td>31.14                    </td><td>NA                       </td><td>NA                       </td><td>NA                       </td><td>19.8                     </td><td>NA                       </td><td>NA                       </td><td>NA                       </td><td>39                       </td><td>221                      </td><td>NA                       </td><td>NA                       </td><td>3.0                      </td></tr>\n",
       "\t<tr><td>Seattle 10th &amp; Weller</td><td>1/1/15 13:00             </td><td> 989.5                   </td><td>34.18                    </td><td>NA                       </td><td>NA                       </td><td>NA                       </td><td>16.3                     </td><td>NA                       </td><td>NA                       </td><td>NA                       </td><td>41                       </td><td>226                      </td><td>NA                       </td><td>NA                       </td><td>3.2                      </td></tr>\n",
       "\t<tr><td>Seattle 10th &amp; Weller</td><td>1/1/15 14:00             </td><td> 992.7                   </td><td>31.02                    </td><td>NA                       </td><td>NA                       </td><td>NA                       </td><td>15.3                     </td><td>NA                       </td><td>NA                       </td><td>NA                       </td><td>42                       </td><td>225                      </td><td>NA                       </td><td>NA                       </td><td>3.0                      </td></tr>\n",
       "</tbody>\n",
       "</table>\n"
      ],
      "text/latex": [
       "\\begin{tabular}{r|llllllllllllllll}\n",
       " Site & Date & Carbon Monoxide (Trace CO) & Nitrogen Dioxide (NO2) & Nitrogen Dioxide(NO2\\_CAPS) & Ozone (uv abs) & Pm2.5 MetOne Bam & Pm2.5 Teom FEM & Relative Humidity & Sulfur Dioxide (Trace SO2) & Temperature & Temperature 10 m & Wind Direction Sonic & Wind Direction Vane & Wind Speed Propeller & Wind Speed Sonic\\\\\n",
       "\\hline\n",
       "\t Seattle 10th \\& Weller & 1/1/15 0:00             &  699.3                  & 27.86                   & NA                      & NA                      & NA                      & 25.5                    & NA                      & NA                      & NA                      & 32                      &  26                     & NA                      & NA                      & 2.8                    \\\\\n",
       "\t Seattle 10th \\& Weller & 1/1/15 10:00            &  572.9                  & 13.06                   & NA                      & NA                      & NA                      &  8.6                    & NA                      & NA                      & NA                      & 34                      & 106                     & NA                      & NA                      & 2.9                    \\\\\n",
       "\t Seattle 10th \\& Weller & 1/1/15 11:00            &  738.8                  & 20.25                   & NA                      & NA                      & NA                      & 12.8                    & NA                      & NA                      & NA                      & 37                      & 127                     & NA                      & NA                      & 2.9                    \\\\\n",
       "\t Seattle 10th \\& Weller & 1/1/15 12:00            & 1055.1                  & 31.14                   & NA                      & NA                      & NA                      & 19.8                    & NA                      & NA                      & NA                      & 39                      & 221                     & NA                      & NA                      & 3.0                    \\\\\n",
       "\t Seattle 10th \\& Weller & 1/1/15 13:00            &  989.5                  & 34.18                   & NA                      & NA                      & NA                      & 16.3                    & NA                      & NA                      & NA                      & 41                      & 226                     & NA                      & NA                      & 3.2                    \\\\\n",
       "\t Seattle 10th \\& Weller & 1/1/15 14:00            &  992.7                  & 31.02                   & NA                      & NA                      & NA                      & 15.3                    & NA                      & NA                      & NA                      & 42                      & 225                     & NA                      & NA                      & 3.0                    \\\\\n",
       "\\end{tabular}\n"
      ],
      "text/markdown": [
       "\n",
       "| Site | Date | Carbon Monoxide (Trace CO) | Nitrogen Dioxide (NO2) | Nitrogen Dioxide(NO2_CAPS) | Ozone (uv abs) | Pm2.5 MetOne Bam | Pm2.5 Teom FEM | Relative Humidity | Sulfur Dioxide (Trace SO2) | Temperature | Temperature 10 m | Wind Direction Sonic | Wind Direction Vane | Wind Speed Propeller | Wind Speed Sonic |\n",
       "|---|---|---|---|---|---|---|---|---|---|---|---|---|---|---|---|\n",
       "| Seattle 10th & Weller | 1/1/15 0:00           |  699.3                | 27.86                 | NA                    | NA                    | NA                    | 25.5                  | NA                    | NA                    | NA                    | 32                    |  26                   | NA                    | NA                    | 2.8                   |\n",
       "| Seattle 10th & Weller | 1/1/15 10:00          |  572.9                | 13.06                 | NA                    | NA                    | NA                    |  8.6                  | NA                    | NA                    | NA                    | 34                    | 106                   | NA                    | NA                    | 2.9                   |\n",
       "| Seattle 10th & Weller | 1/1/15 11:00          |  738.8                | 20.25                 | NA                    | NA                    | NA                    | 12.8                  | NA                    | NA                    | NA                    | 37                    | 127                   | NA                    | NA                    | 2.9                   |\n",
       "| Seattle 10th & Weller | 1/1/15 12:00          | 1055.1                | 31.14                 | NA                    | NA                    | NA                    | 19.8                  | NA                    | NA                    | NA                    | 39                    | 221                   | NA                    | NA                    | 3.0                   |\n",
       "| Seattle 10th & Weller | 1/1/15 13:00          |  989.5                | 34.18                 | NA                    | NA                    | NA                    | 16.3                  | NA                    | NA                    | NA                    | 41                    | 226                   | NA                    | NA                    | 3.2                   |\n",
       "| Seattle 10th & Weller | 1/1/15 14:00          |  992.7                | 31.02                 | NA                    | NA                    | NA                    | 15.3                  | NA                    | NA                    | NA                    | 42                    | 225                   | NA                    | NA                    | 3.0                   |\n",
       "\n"
      ],
      "text/plain": [
       "  Site                  Date         Carbon Monoxide (Trace CO)\n",
       "1 Seattle 10th & Weller 1/1/15 0:00   699.3                    \n",
       "2 Seattle 10th & Weller 1/1/15 10:00  572.9                    \n",
       "3 Seattle 10th & Weller 1/1/15 11:00  738.8                    \n",
       "4 Seattle 10th & Weller 1/1/15 12:00 1055.1                    \n",
       "5 Seattle 10th & Weller 1/1/15 13:00  989.5                    \n",
       "6 Seattle 10th & Weller 1/1/15 14:00  992.7                    \n",
       "  Nitrogen Dioxide (NO2) Nitrogen Dioxide(NO2_CAPS) Ozone (uv abs)\n",
       "1 27.86                  NA                         NA            \n",
       "2 13.06                  NA                         NA            \n",
       "3 20.25                  NA                         NA            \n",
       "4 31.14                  NA                         NA            \n",
       "5 34.18                  NA                         NA            \n",
       "6 31.02                  NA                         NA            \n",
       "  Pm2.5 MetOne Bam Pm2.5 Teom FEM Relative Humidity Sulfur Dioxide (Trace SO2)\n",
       "1 NA               25.5           NA                NA                        \n",
       "2 NA                8.6           NA                NA                        \n",
       "3 NA               12.8           NA                NA                        \n",
       "4 NA               19.8           NA                NA                        \n",
       "5 NA               16.3           NA                NA                        \n",
       "6 NA               15.3           NA                NA                        \n",
       "  Temperature Temperature 10 m Wind Direction Sonic Wind Direction Vane\n",
       "1 NA          32                26                  NA                 \n",
       "2 NA          34               106                  NA                 \n",
       "3 NA          37               127                  NA                 \n",
       "4 NA          39               221                  NA                 \n",
       "5 NA          41               226                  NA                 \n",
       "6 NA          42               225                  NA                 \n",
       "  Wind Speed Propeller Wind Speed Sonic\n",
       "1 NA                   2.8             \n",
       "2 NA                   2.9             \n",
       "3 NA                   2.9             \n",
       "4 NA                   3.0             \n",
       "5 NA                   3.2             \n",
       "6 NA                   3.0             "
      ]
     },
     "metadata": {},
     "output_type": "display_data"
    },
    {
     "data": {
      "text/html": [
       "<table>\n",
       "<thead><tr><th scope=col>Site</th><th scope=col>Date</th><th scope=col>CO</th><th scope=col>NO2</th><th scope=col>NO2_caps</th><th scope=col>ozone</th><th scope=col>PM2.5_MO</th><th scope=col>PM2.5_FEM</th><th scope=col>RH</th><th scope=col>SO2</th><th scope=col>Temperature</th><th scope=col>Temperature_10_m</th><th scope=col>Wind_Direction_s</th><th scope=col>Wind_Direction_v</th><th scope=col>Wind_Speed_p</th><th scope=col>Wind_Speed_s</th></tr></thead>\n",
       "<tbody>\n",
       "\t<tr><td>Seattle 10th &amp; Weller</td><td>1/1/15 0:00              </td><td> 699.3                   </td><td>27.86                    </td><td>NA                       </td><td>NA                       </td><td>NA                       </td><td>25.5                     </td><td>NA                       </td><td>NA                       </td><td>NA                       </td><td>32                       </td><td> 26                      </td><td>NA                       </td><td>NA                       </td><td>2.8                      </td></tr>\n",
       "\t<tr><td>Seattle 10th &amp; Weller</td><td>1/1/15 10:00             </td><td> 572.9                   </td><td>13.06                    </td><td>NA                       </td><td>NA                       </td><td>NA                       </td><td> 8.6                     </td><td>NA                       </td><td>NA                       </td><td>NA                       </td><td>34                       </td><td>106                      </td><td>NA                       </td><td>NA                       </td><td>2.9                      </td></tr>\n",
       "\t<tr><td>Seattle 10th &amp; Weller</td><td>1/1/15 11:00             </td><td> 738.8                   </td><td>20.25                    </td><td>NA                       </td><td>NA                       </td><td>NA                       </td><td>12.8                     </td><td>NA                       </td><td>NA                       </td><td>NA                       </td><td>37                       </td><td>127                      </td><td>NA                       </td><td>NA                       </td><td>2.9                      </td></tr>\n",
       "\t<tr><td>Seattle 10th &amp; Weller</td><td>1/1/15 12:00             </td><td>1055.1                   </td><td>31.14                    </td><td>NA                       </td><td>NA                       </td><td>NA                       </td><td>19.8                     </td><td>NA                       </td><td>NA                       </td><td>NA                       </td><td>39                       </td><td>221                      </td><td>NA                       </td><td>NA                       </td><td>3.0                      </td></tr>\n",
       "\t<tr><td>Seattle 10th &amp; Weller</td><td>1/1/15 13:00             </td><td> 989.5                   </td><td>34.18                    </td><td>NA                       </td><td>NA                       </td><td>NA                       </td><td>16.3                     </td><td>NA                       </td><td>NA                       </td><td>NA                       </td><td>41                       </td><td>226                      </td><td>NA                       </td><td>NA                       </td><td>3.2                      </td></tr>\n",
       "\t<tr><td>Seattle 10th &amp; Weller</td><td>1/1/15 14:00             </td><td> 992.7                   </td><td>31.02                    </td><td>NA                       </td><td>NA                       </td><td>NA                       </td><td>15.3                     </td><td>NA                       </td><td>NA                       </td><td>NA                       </td><td>42                       </td><td>225                      </td><td>NA                       </td><td>NA                       </td><td>3.0                      </td></tr>\n",
       "</tbody>\n",
       "</table>\n"
      ],
      "text/latex": [
       "\\begin{tabular}{r|llllllllllllllll}\n",
       " Site & Date & CO & NO2 & NO2\\_caps & ozone & PM2.5\\_MO & PM2.5\\_FEM & RH & SO2 & Temperature & Temperature\\_10\\_m & Wind\\_Direction\\_s & Wind\\_Direction\\_v & Wind\\_Speed\\_p & Wind\\_Speed\\_s\\\\\n",
       "\\hline\n",
       "\t Seattle 10th \\& Weller & 1/1/15 0:00             &  699.3                  & 27.86                   & NA                      & NA                      & NA                      & 25.5                    & NA                      & NA                      & NA                      & 32                      &  26                     & NA                      & NA                      & 2.8                    \\\\\n",
       "\t Seattle 10th \\& Weller & 1/1/15 10:00            &  572.9                  & 13.06                   & NA                      & NA                      & NA                      &  8.6                    & NA                      & NA                      & NA                      & 34                      & 106                     & NA                      & NA                      & 2.9                    \\\\\n",
       "\t Seattle 10th \\& Weller & 1/1/15 11:00            &  738.8                  & 20.25                   & NA                      & NA                      & NA                      & 12.8                    & NA                      & NA                      & NA                      & 37                      & 127                     & NA                      & NA                      & 2.9                    \\\\\n",
       "\t Seattle 10th \\& Weller & 1/1/15 12:00            & 1055.1                  & 31.14                   & NA                      & NA                      & NA                      & 19.8                    & NA                      & NA                      & NA                      & 39                      & 221                     & NA                      & NA                      & 3.0                    \\\\\n",
       "\t Seattle 10th \\& Weller & 1/1/15 13:00            &  989.5                  & 34.18                   & NA                      & NA                      & NA                      & 16.3                    & NA                      & NA                      & NA                      & 41                      & 226                     & NA                      & NA                      & 3.2                    \\\\\n",
       "\t Seattle 10th \\& Weller & 1/1/15 14:00            &  992.7                  & 31.02                   & NA                      & NA                      & NA                      & 15.3                    & NA                      & NA                      & NA                      & 42                      & 225                     & NA                      & NA                      & 3.0                    \\\\\n",
       "\\end{tabular}\n"
      ],
      "text/markdown": [
       "\n",
       "| Site | Date | CO | NO2 | NO2_caps | ozone | PM2.5_MO | PM2.5_FEM | RH | SO2 | Temperature | Temperature_10_m | Wind_Direction_s | Wind_Direction_v | Wind_Speed_p | Wind_Speed_s |\n",
       "|---|---|---|---|---|---|---|---|---|---|---|---|---|---|---|---|\n",
       "| Seattle 10th & Weller | 1/1/15 0:00           |  699.3                | 27.86                 | NA                    | NA                    | NA                    | 25.5                  | NA                    | NA                    | NA                    | 32                    |  26                   | NA                    | NA                    | 2.8                   |\n",
       "| Seattle 10th & Weller | 1/1/15 10:00          |  572.9                | 13.06                 | NA                    | NA                    | NA                    |  8.6                  | NA                    | NA                    | NA                    | 34                    | 106                   | NA                    | NA                    | 2.9                   |\n",
       "| Seattle 10th & Weller | 1/1/15 11:00          |  738.8                | 20.25                 | NA                    | NA                    | NA                    | 12.8                  | NA                    | NA                    | NA                    | 37                    | 127                   | NA                    | NA                    | 2.9                   |\n",
       "| Seattle 10th & Weller | 1/1/15 12:00          | 1055.1                | 31.14                 | NA                    | NA                    | NA                    | 19.8                  | NA                    | NA                    | NA                    | 39                    | 221                   | NA                    | NA                    | 3.0                   |\n",
       "| Seattle 10th & Weller | 1/1/15 13:00          |  989.5                | 34.18                 | NA                    | NA                    | NA                    | 16.3                  | NA                    | NA                    | NA                    | 41                    | 226                   | NA                    | NA                    | 3.2                   |\n",
       "| Seattle 10th & Weller | 1/1/15 14:00          |  992.7                | 31.02                 | NA                    | NA                    | NA                    | 15.3                  | NA                    | NA                    | NA                    | 42                    | 225                   | NA                    | NA                    | 3.0                   |\n",
       "\n"
      ],
      "text/plain": [
       "  Site                  Date         CO     NO2   NO2_caps ozone PM2.5_MO\n",
       "1 Seattle 10th & Weller 1/1/15 0:00   699.3 27.86 NA       NA    NA      \n",
       "2 Seattle 10th & Weller 1/1/15 10:00  572.9 13.06 NA       NA    NA      \n",
       "3 Seattle 10th & Weller 1/1/15 11:00  738.8 20.25 NA       NA    NA      \n",
       "4 Seattle 10th & Weller 1/1/15 12:00 1055.1 31.14 NA       NA    NA      \n",
       "5 Seattle 10th & Weller 1/1/15 13:00  989.5 34.18 NA       NA    NA      \n",
       "6 Seattle 10th & Weller 1/1/15 14:00  992.7 31.02 NA       NA    NA      \n",
       "  PM2.5_FEM RH SO2 Temperature Temperature_10_m Wind_Direction_s\n",
       "1 25.5      NA NA  NA          32                26             \n",
       "2  8.6      NA NA  NA          34               106             \n",
       "3 12.8      NA NA  NA          37               127             \n",
       "4 19.8      NA NA  NA          39               221             \n",
       "5 16.3      NA NA  NA          41               226             \n",
       "6 15.3      NA NA  NA          42               225             \n",
       "  Wind_Direction_v Wind_Speed_p Wind_Speed_s\n",
       "1 NA               NA           2.8         \n",
       "2 NA               NA           2.9         \n",
       "3 NA               NA           2.9         \n",
       "4 NA               NA           3.0         \n",
       "5 NA               NA           3.2         \n",
       "6 NA               NA           3.0         "
      ]
     },
     "metadata": {},
     "output_type": "display_data"
    }
   ],
   "source": [
    "wide = df2 %>% \n",
    "    spread(ParameterName, Value)\n",
    "head(wide)\n",
    "names(wide)[3] <- \"CO\"\n",
    "names(wide)[4] <- \"NO2\"\n",
    "names(wide)[5] <- \"NO2_caps\"\n",
    "names(wide)[6] <- \"ozone\"\n",
    "names(wide)[7] <- \"PM2.5_MO\"\n",
    "names(wide)[8] <- \"PM2.5_FEM\"\n",
    "names(wide)[9] <- \"RH\"\n",
    "names(wide)[10] <- \"SO2\"\n",
    "names(wide)[11] <- \"Temperature\"\n",
    "names(wide)[12] <- \"Temperature_10_m\"\n",
    "names(wide)[13] <- \"Wind_Direction_s\"\n",
    "names(wide)[14] <- \"Wind_Direction_v\"\n",
    "names(wide)[15] <- \"Wind_Speed_p\"\n",
    "names(wide)[16] <- \"Wind_Speed_s\"\n",
    "head(wide)"
   ]
  },
  {
   "cell_type": "markdown",
   "id": "8c506ad7",
   "metadata": {},
   "source": [
    "# subset weller data (closer to freemont) \n"
   ]
  },
  {
   "cell_type": "code",
   "execution_count": 98,
   "id": "4aa1d4a5",
   "metadata": {},
   "outputs": [
    {
     "data": {
      "text/html": [
       "<table>\n",
       "<thead><tr><th scope=col>Site</th><th scope=col>Date</th><th scope=col>CO</th><th scope=col>NO2</th><th scope=col>PM2.5_MO</th><th scope=col>PM2.5_FEM</th><th scope=col>Temperature_10_m</th><th scope=col>Wind_Direction_s</th><th scope=col>Wind_Speed_s</th></tr></thead>\n",
       "<tbody>\n",
       "\t<tr><td>Seattle 10th &amp; Weller</td><td>1/1/15 0:00              </td><td> 699.3                   </td><td>27.86                    </td><td>NA                       </td><td>25.5                     </td><td>32                       </td><td> 26                      </td><td>2.8                      </td></tr>\n",
       "\t<tr><td>Seattle 10th &amp; Weller</td><td>1/1/15 10:00             </td><td> 572.9                   </td><td>13.06                    </td><td>NA                       </td><td> 8.6                     </td><td>34                       </td><td>106                      </td><td>2.9                      </td></tr>\n",
       "\t<tr><td>Seattle 10th &amp; Weller</td><td>1/1/15 11:00             </td><td> 738.8                   </td><td>20.25                    </td><td>NA                       </td><td>12.8                     </td><td>37                       </td><td>127                      </td><td>2.9                      </td></tr>\n",
       "\t<tr><td>Seattle 10th &amp; Weller</td><td>1/1/15 12:00             </td><td>1055.1                   </td><td>31.14                    </td><td>NA                       </td><td>19.8                     </td><td>39                       </td><td>221                      </td><td>3.0                      </td></tr>\n",
       "\t<tr><td>Seattle 10th &amp; Weller</td><td>1/1/15 13:00             </td><td> 989.5                   </td><td>34.18                    </td><td>NA                       </td><td>16.3                     </td><td>41                       </td><td>226                      </td><td>3.2                      </td></tr>\n",
       "\t<tr><td>Seattle 10th &amp; Weller</td><td>1/1/15 14:00             </td><td> 992.7                   </td><td>31.02                    </td><td>NA                       </td><td>15.3                     </td><td>42                       </td><td>225                      </td><td>3.0                      </td></tr>\n",
       "</tbody>\n",
       "</table>\n"
      ],
      "text/latex": [
       "\\begin{tabular}{r|lllllllll}\n",
       " Site & Date & CO & NO2 & PM2.5\\_MO & PM2.5\\_FEM & Temperature\\_10\\_m & Wind\\_Direction\\_s & Wind\\_Speed\\_s\\\\\n",
       "\\hline\n",
       "\t Seattle 10th \\& Weller & 1/1/15 0:00             &  699.3                  & 27.86                   & NA                      & 25.5                    & 32                      &  26                     & 2.8                    \\\\\n",
       "\t Seattle 10th \\& Weller & 1/1/15 10:00            &  572.9                  & 13.06                   & NA                      &  8.6                    & 34                      & 106                     & 2.9                    \\\\\n",
       "\t Seattle 10th \\& Weller & 1/1/15 11:00            &  738.8                  & 20.25                   & NA                      & 12.8                    & 37                      & 127                     & 2.9                    \\\\\n",
       "\t Seattle 10th \\& Weller & 1/1/15 12:00            & 1055.1                  & 31.14                   & NA                      & 19.8                    & 39                      & 221                     & 3.0                    \\\\\n",
       "\t Seattle 10th \\& Weller & 1/1/15 13:00            &  989.5                  & 34.18                   & NA                      & 16.3                    & 41                      & 226                     & 3.2                    \\\\\n",
       "\t Seattle 10th \\& Weller & 1/1/15 14:00            &  992.7                  & 31.02                   & NA                      & 15.3                    & 42                      & 225                     & 3.0                    \\\\\n",
       "\\end{tabular}\n"
      ],
      "text/markdown": [
       "\n",
       "| Site | Date | CO | NO2 | PM2.5_MO | PM2.5_FEM | Temperature_10_m | Wind_Direction_s | Wind_Speed_s |\n",
       "|---|---|---|---|---|---|---|---|---|\n",
       "| Seattle 10th & Weller | 1/1/15 0:00           |  699.3                | 27.86                 | NA                    | 25.5                  | 32                    |  26                   | 2.8                   |\n",
       "| Seattle 10th & Weller | 1/1/15 10:00          |  572.9                | 13.06                 | NA                    |  8.6                  | 34                    | 106                   | 2.9                   |\n",
       "| Seattle 10th & Weller | 1/1/15 11:00          |  738.8                | 20.25                 | NA                    | 12.8                  | 37                    | 127                   | 2.9                   |\n",
       "| Seattle 10th & Weller | 1/1/15 12:00          | 1055.1                | 31.14                 | NA                    | 19.8                  | 39                    | 221                   | 3.0                   |\n",
       "| Seattle 10th & Weller | 1/1/15 13:00          |  989.5                | 34.18                 | NA                    | 16.3                  | 41                    | 226                   | 3.2                   |\n",
       "| Seattle 10th & Weller | 1/1/15 14:00          |  992.7                | 31.02                 | NA                    | 15.3                  | 42                    | 225                   | 3.0                   |\n",
       "\n"
      ],
      "text/plain": [
       "  Site                  Date         CO     NO2   PM2.5_MO PM2.5_FEM\n",
       "1 Seattle 10th & Weller 1/1/15 0:00   699.3 27.86 NA       25.5     \n",
       "2 Seattle 10th & Weller 1/1/15 10:00  572.9 13.06 NA        8.6     \n",
       "3 Seattle 10th & Weller 1/1/15 11:00  738.8 20.25 NA       12.8     \n",
       "4 Seattle 10th & Weller 1/1/15 12:00 1055.1 31.14 NA       19.8     \n",
       "5 Seattle 10th & Weller 1/1/15 13:00  989.5 34.18 NA       16.3     \n",
       "6 Seattle 10th & Weller 1/1/15 14:00  992.7 31.02 NA       15.3     \n",
       "  Temperature_10_m Wind_Direction_s Wind_Speed_s\n",
       "1 32                26              2.8         \n",
       "2 34               106              2.9         \n",
       "3 37               127              2.9         \n",
       "4 39               221              3.0         \n",
       "5 41               226              3.2         \n",
       "6 42               225              3.0         "
      ]
     },
     "metadata": {},
     "output_type": "display_data"
    }
   ],
   "source": [
    "weller <-subset(wide, Site == 'Seattle 10th & Weller')\n",
    "weller= weller %>% select_if(~ !all(is.na(.)))\n",
    "\n",
    "head(weller)"
   ]
  },
  {
   "cell_type": "code",
   "execution_count": 99,
   "id": "9fc383bd",
   "metadata": {},
   "outputs": [
    {
     "data": {
      "text/html": [
       "<ol class=list-inline>\n",
       "\t<li>'Date'</li>\n",
       "\t<li>'Fremont.Bridge.Total'</li>\n",
       "\t<li>'Fremont.Bridge.East.Sidewalk'</li>\n",
       "\t<li>'Fremont.Bridge.West.Sidewalk'</li>\n",
       "</ol>\n"
      ],
      "text/latex": [
       "\\begin{enumerate*}\n",
       "\\item 'Date'\n",
       "\\item 'Fremont.Bridge.Total'\n",
       "\\item 'Fremont.Bridge.East.Sidewalk'\n",
       "\\item 'Fremont.Bridge.West.Sidewalk'\n",
       "\\end{enumerate*}\n"
      ],
      "text/markdown": [
       "1. 'Date'\n",
       "2. 'Fremont.Bridge.Total'\n",
       "3. 'Fremont.Bridge.East.Sidewalk'\n",
       "4. 'Fremont.Bridge.West.Sidewalk'\n",
       "\n",
       "\n"
      ],
      "text/plain": [
       "[1] \"Date\"                         \"Fremont.Bridge.Total\"        \n",
       "[3] \"Fremont.Bridge.East.Sidewalk\" \"Fremont.Bridge.West.Sidewalk\""
      ]
     },
     "metadata": {},
     "output_type": "display_data"
    },
    {
     "data": {
      "text/html": [
       "<table>\n",
       "<thead><tr><th scope=col>Date</th><th scope=col>Fremont.Bridge.Total</th><th scope=col>Fremont.Bridge.East.Sidewalk</th><th scope=col>Fremont.Bridge.West.Sidewalk</th></tr></thead>\n",
       "<tbody>\n",
       "\t<tr><td>8/1/22 0:00</td><td>23         </td><td>7          </td><td>16         </td></tr>\n",
       "\t<tr><td>8/1/22 1:00</td><td>12         </td><td>5          </td><td> 7         </td></tr>\n",
       "\t<tr><td>8/1/22 2:00</td><td> 3         </td><td>0          </td><td> 3         </td></tr>\n",
       "\t<tr><td>8/1/22 3:00</td><td> 5         </td><td>2          </td><td> 3         </td></tr>\n",
       "\t<tr><td>8/1/22 4:00</td><td>10         </td><td>2          </td><td> 8         </td></tr>\n",
       "\t<tr><td>8/1/22 5:00</td><td>27         </td><td>5          </td><td>22         </td></tr>\n",
       "</tbody>\n",
       "</table>\n"
      ],
      "text/latex": [
       "\\begin{tabular}{r|llll}\n",
       " Date & Fremont.Bridge.Total & Fremont.Bridge.East.Sidewalk & Fremont.Bridge.West.Sidewalk\\\\\n",
       "\\hline\n",
       "\t 8/1/22 0:00 & 23          & 7           & 16         \\\\\n",
       "\t 8/1/22 1:00 & 12          & 5           &  7         \\\\\n",
       "\t 8/1/22 2:00 &  3          & 0           &  3         \\\\\n",
       "\t 8/1/22 3:00 &  5          & 2           &  3         \\\\\n",
       "\t 8/1/22 4:00 & 10          & 2           &  8         \\\\\n",
       "\t 8/1/22 5:00 & 27          & 5           & 22         \\\\\n",
       "\\end{tabular}\n"
      ],
      "text/markdown": [
       "\n",
       "| Date | Fremont.Bridge.Total | Fremont.Bridge.East.Sidewalk | Fremont.Bridge.West.Sidewalk |\n",
       "|---|---|---|---|\n",
       "| 8/1/22 0:00 | 23          | 7           | 16          |\n",
       "| 8/1/22 1:00 | 12          | 5           |  7          |\n",
       "| 8/1/22 2:00 |  3          | 0           |  3          |\n",
       "| 8/1/22 3:00 |  5          | 2           |  3          |\n",
       "| 8/1/22 4:00 | 10          | 2           |  8          |\n",
       "| 8/1/22 5:00 | 27          | 5           | 22          |\n",
       "\n"
      ],
      "text/plain": [
       "  Date        Fremont.Bridge.Total Fremont.Bridge.East.Sidewalk\n",
       "1 8/1/22 0:00 23                   7                           \n",
       "2 8/1/22 1:00 12                   5                           \n",
       "3 8/1/22 2:00  3                   0                           \n",
       "4 8/1/22 3:00  5                   2                           \n",
       "5 8/1/22 4:00 10                   2                           \n",
       "6 8/1/22 5:00 27                   5                           \n",
       "  Fremont.Bridge.West.Sidewalk\n",
       "1 16                          \n",
       "2  7                          \n",
       "3  3                          \n",
       "4  3                          \n",
       "5  8                          \n",
       "6 22                          "
      ]
     },
     "metadata": {},
     "output_type": "display_data"
    }
   ],
   "source": [
    "#Import Freemont Bike Dataset \n",
    "\n",
    "fbike<- read.csv(\"Data/Fremont_Bridge_Bicycle_Counter.csv\")\n",
    "colnames(fbike)\n",
    "\n",
    "\n",
    "head(fbike)"
   ]
  },
  {
   "cell_type": "markdown",
   "id": "0d12d4da",
   "metadata": {},
   "source": [
    "# Freemont Bridge and AQ in FAQ"
   ]
  },
  {
   "cell_type": "code",
   "execution_count": 100,
   "id": "b8c49408",
   "metadata": {},
   "outputs": [
    {
     "data": {
      "text/html": [
       "<table>\n",
       "<thead><tr><th scope=col>Date</th><th scope=col>Fremont.Bridge.Total</th><th scope=col>Fremont.Bridge.East.Sidewalk</th><th scope=col>Fremont.Bridge.West.Sidewalk</th><th scope=col>Site</th><th scope=col>CO</th><th scope=col>NO2</th><th scope=col>PM2.5_MO</th><th scope=col>PM2.5_FEM</th><th scope=col>Temperature_10_m</th><th scope=col>Wind_Direction_s</th><th scope=col>Wind_Speed_s</th></tr></thead>\n",
       "<tbody>\n",
       "\t<tr><td>1/1/15 0:00              </td><td> 13                      </td><td> 4                       </td><td> 9                       </td><td>Seattle 10th &amp; Weller</td><td> 699.3                   </td><td>27.86                    </td><td>NA                       </td><td>25.5                     </td><td>32                       </td><td> 26                      </td><td>2.8                      </td></tr>\n",
       "\t<tr><td>1/1/15 10:00             </td><td> 30                      </td><td>23                       </td><td> 7                       </td><td>Seattle 10th &amp; Weller</td><td> 572.9                   </td><td>13.06                    </td><td>NA                       </td><td> 8.6                     </td><td>34                       </td><td>106                      </td><td>2.9                      </td></tr>\n",
       "\t<tr><td>1/1/15 11:00             </td><td> 46                      </td><td>26                       </td><td>20                       </td><td>Seattle 10th &amp; Weller</td><td> 738.8                   </td><td>20.25                    </td><td>NA                       </td><td>12.8                     </td><td>37                       </td><td>127                      </td><td>2.9                      </td></tr>\n",
       "\t<tr><td>1/1/15 12:00             </td><td> 58                      </td><td>33                       </td><td>25                       </td><td>Seattle 10th &amp; Weller</td><td>1055.1                   </td><td>31.14                    </td><td>NA                       </td><td>19.8                     </td><td>39                       </td><td>221                      </td><td>3.0                      </td></tr>\n",
       "\t<tr><td>1/1/15 13:00             </td><td> 88                      </td><td>65                       </td><td>23                       </td><td>Seattle 10th &amp; Weller</td><td> 989.5                   </td><td>34.18                    </td><td>NA                       </td><td>16.3                     </td><td>41                       </td><td>226                      </td><td>3.2                      </td></tr>\n",
       "\t<tr><td>1/1/15 14:00             </td><td>119                      </td><td>66                       </td><td>53                       </td><td>Seattle 10th &amp; Weller</td><td> 992.7                   </td><td>31.02                    </td><td>NA                       </td><td>15.3                     </td><td>42                       </td><td>225                      </td><td>3.0                      </td></tr>\n",
       "</tbody>\n",
       "</table>\n"
      ],
      "text/latex": [
       "\\begin{tabular}{r|llllllllllll}\n",
       " Date & Fremont.Bridge.Total & Fremont.Bridge.East.Sidewalk & Fremont.Bridge.West.Sidewalk & Site & CO & NO2 & PM2.5\\_MO & PM2.5\\_FEM & Temperature\\_10\\_m & Wind\\_Direction\\_s & Wind\\_Speed\\_s\\\\\n",
       "\\hline\n",
       "\t 1/1/15 0:00             &  13                     &  4                      &  9                      & Seattle 10th \\& Weller &  699.3                  & 27.86                   & NA                      & 25.5                    & 32                      &  26                     & 2.8                    \\\\\n",
       "\t 1/1/15 10:00            &  30                     & 23                      &  7                      & Seattle 10th \\& Weller &  572.9                  & 13.06                   & NA                      &  8.6                    & 34                      & 106                     & 2.9                    \\\\\n",
       "\t 1/1/15 11:00            &  46                     & 26                      & 20                      & Seattle 10th \\& Weller &  738.8                  & 20.25                   & NA                      & 12.8                    & 37                      & 127                     & 2.9                    \\\\\n",
       "\t 1/1/15 12:00            &  58                     & 33                      & 25                      & Seattle 10th \\& Weller & 1055.1                  & 31.14                   & NA                      & 19.8                    & 39                      & 221                     & 3.0                    \\\\\n",
       "\t 1/1/15 13:00            &  88                     & 65                      & 23                      & Seattle 10th \\& Weller &  989.5                  & 34.18                   & NA                      & 16.3                    & 41                      & 226                     & 3.2                    \\\\\n",
       "\t 1/1/15 14:00            & 119                     & 66                      & 53                      & Seattle 10th \\& Weller &  992.7                  & 31.02                   & NA                      & 15.3                    & 42                      & 225                     & 3.0                    \\\\\n",
       "\\end{tabular}\n"
      ],
      "text/markdown": [
       "\n",
       "| Date | Fremont.Bridge.Total | Fremont.Bridge.East.Sidewalk | Fremont.Bridge.West.Sidewalk | Site | CO | NO2 | PM2.5_MO | PM2.5_FEM | Temperature_10_m | Wind_Direction_s | Wind_Speed_s |\n",
       "|---|---|---|---|---|---|---|---|---|---|---|---|\n",
       "| 1/1/15 0:00           |  13                   |  4                    |  9                    | Seattle 10th & Weller |  699.3                | 27.86                 | NA                    | 25.5                  | 32                    |  26                   | 2.8                   |\n",
       "| 1/1/15 10:00          |  30                   | 23                    |  7                    | Seattle 10th & Weller |  572.9                | 13.06                 | NA                    |  8.6                  | 34                    | 106                   | 2.9                   |\n",
       "| 1/1/15 11:00          |  46                   | 26                    | 20                    | Seattle 10th & Weller |  738.8                | 20.25                 | NA                    | 12.8                  | 37                    | 127                   | 2.9                   |\n",
       "| 1/1/15 12:00          |  58                   | 33                    | 25                    | Seattle 10th & Weller | 1055.1                | 31.14                 | NA                    | 19.8                  | 39                    | 221                   | 3.0                   |\n",
       "| 1/1/15 13:00          |  88                   | 65                    | 23                    | Seattle 10th & Weller |  989.5                | 34.18                 | NA                    | 16.3                  | 41                    | 226                   | 3.2                   |\n",
       "| 1/1/15 14:00          | 119                   | 66                    | 53                    | Seattle 10th & Weller |  992.7                | 31.02                 | NA                    | 15.3                  | 42                    | 225                   | 3.0                   |\n",
       "\n"
      ],
      "text/plain": [
       "  Date         Fremont.Bridge.Total Fremont.Bridge.East.Sidewalk\n",
       "1 1/1/15 0:00   13                   4                          \n",
       "2 1/1/15 10:00  30                  23                          \n",
       "3 1/1/15 11:00  46                  26                          \n",
       "4 1/1/15 12:00  58                  33                          \n",
       "5 1/1/15 13:00  88                  65                          \n",
       "6 1/1/15 14:00 119                  66                          \n",
       "  Fremont.Bridge.West.Sidewalk Site                  CO     NO2   PM2.5_MO\n",
       "1  9                           Seattle 10th & Weller  699.3 27.86 NA      \n",
       "2  7                           Seattle 10th & Weller  572.9 13.06 NA      \n",
       "3 20                           Seattle 10th & Weller  738.8 20.25 NA      \n",
       "4 25                           Seattle 10th & Weller 1055.1 31.14 NA      \n",
       "5 23                           Seattle 10th & Weller  989.5 34.18 NA      \n",
       "6 53                           Seattle 10th & Weller  992.7 31.02 NA      \n",
       "  PM2.5_FEM Temperature_10_m Wind_Direction_s Wind_Speed_s\n",
       "1 25.5      32                26              2.8         \n",
       "2  8.6      34               106              2.9         \n",
       "3 12.8      37               127              2.9         \n",
       "4 19.8      39               221              3.0         \n",
       "5 16.3      41               226              3.2         \n",
       "6 15.3      42               225              3.0         "
      ]
     },
     "metadata": {},
     "output_type": "display_data"
    }
   ],
   "source": [
    "# Merge Bike and Weather Data for Freemont\n",
    "\n",
    "faq <- merge(fbike, weller, by=\"Date\")\n",
    "head(faq)"
   ]
  },
  {
   "cell_type": "code",
   "execution_count": 101,
   "id": "832374f0",
   "metadata": {},
   "outputs": [
    {
     "data": {
      "text/html": [
       "<table>\n",
       "<thead><tr><th scope=col>Date</th><th scope=col>Fremont.Bridge.Total</th><th scope=col>Fremont.Bridge.East.Sidewalk</th><th scope=col>Fremont.Bridge.West.Sidewalk</th><th scope=col>Site</th><th scope=col>CO</th><th scope=col>NO2</th><th scope=col>PM2.5_MO</th><th scope=col>PM2.5_FEM</th><th scope=col>Temperature_10_m</th><th scope=col>Wind_Direction_s</th><th scope=col>Wind_Speed_s</th></tr></thead>\n",
       "<tbody>\n",
       "\t<tr><td>1/1/15 0:00              </td><td> 13                      </td><td> 4                       </td><td> 9                       </td><td>Seattle 10th &amp; Weller</td><td> 699.3                   </td><td>27.86                    </td><td>NA                       </td><td>25.5                     </td><td>32                       </td><td> 26                      </td><td>2.8                      </td></tr>\n",
       "\t<tr><td>1/1/15 10:00             </td><td> 30                      </td><td>23                       </td><td> 7                       </td><td>Seattle 10th &amp; Weller</td><td> 572.9                   </td><td>13.06                    </td><td>NA                       </td><td> 8.6                     </td><td>34                       </td><td>106                      </td><td>2.9                      </td></tr>\n",
       "\t<tr><td>1/1/15 11:00             </td><td> 46                      </td><td>26                       </td><td>20                       </td><td>Seattle 10th &amp; Weller</td><td> 738.8                   </td><td>20.25                    </td><td>NA                       </td><td>12.8                     </td><td>37                       </td><td>127                      </td><td>2.9                      </td></tr>\n",
       "\t<tr><td>1/1/15 12:00             </td><td> 58                      </td><td>33                       </td><td>25                       </td><td>Seattle 10th &amp; Weller</td><td>1055.1                   </td><td>31.14                    </td><td>NA                       </td><td>19.8                     </td><td>39                       </td><td>221                      </td><td>3.0                      </td></tr>\n",
       "\t<tr><td>1/1/15 13:00             </td><td> 88                      </td><td>65                       </td><td>23                       </td><td>Seattle 10th &amp; Weller</td><td> 989.5                   </td><td>34.18                    </td><td>NA                       </td><td>16.3                     </td><td>41                       </td><td>226                      </td><td>3.2                      </td></tr>\n",
       "\t<tr><td>1/1/15 14:00             </td><td>119                      </td><td>66                       </td><td>53                       </td><td>Seattle 10th &amp; Weller</td><td> 992.7                   </td><td>31.02                    </td><td>NA                       </td><td>15.3                     </td><td>42                       </td><td>225                      </td><td>3.0                      </td></tr>\n",
       "</tbody>\n",
       "</table>\n"
      ],
      "text/latex": [
       "\\begin{tabular}{r|llllllllllll}\n",
       " Date & Fremont.Bridge.Total & Fremont.Bridge.East.Sidewalk & Fremont.Bridge.West.Sidewalk & Site & CO & NO2 & PM2.5\\_MO & PM2.5\\_FEM & Temperature\\_10\\_m & Wind\\_Direction\\_s & Wind\\_Speed\\_s\\\\\n",
       "\\hline\n",
       "\t 1/1/15 0:00             &  13                     &  4                      &  9                      & Seattle 10th \\& Weller &  699.3                  & 27.86                   & NA                      & 25.5                    & 32                      &  26                     & 2.8                    \\\\\n",
       "\t 1/1/15 10:00            &  30                     & 23                      &  7                      & Seattle 10th \\& Weller &  572.9                  & 13.06                   & NA                      &  8.6                    & 34                      & 106                     & 2.9                    \\\\\n",
       "\t 1/1/15 11:00            &  46                     & 26                      & 20                      & Seattle 10th \\& Weller &  738.8                  & 20.25                   & NA                      & 12.8                    & 37                      & 127                     & 2.9                    \\\\\n",
       "\t 1/1/15 12:00            &  58                     & 33                      & 25                      & Seattle 10th \\& Weller & 1055.1                  & 31.14                   & NA                      & 19.8                    & 39                      & 221                     & 3.0                    \\\\\n",
       "\t 1/1/15 13:00            &  88                     & 65                      & 23                      & Seattle 10th \\& Weller &  989.5                  & 34.18                   & NA                      & 16.3                    & 41                      & 226                     & 3.2                    \\\\\n",
       "\t 1/1/15 14:00            & 119                     & 66                      & 53                      & Seattle 10th \\& Weller &  992.7                  & 31.02                   & NA                      & 15.3                    & 42                      & 225                     & 3.0                    \\\\\n",
       "\\end{tabular}\n"
      ],
      "text/markdown": [
       "\n",
       "| Date | Fremont.Bridge.Total | Fremont.Bridge.East.Sidewalk | Fremont.Bridge.West.Sidewalk | Site | CO | NO2 | PM2.5_MO | PM2.5_FEM | Temperature_10_m | Wind_Direction_s | Wind_Speed_s |\n",
       "|---|---|---|---|---|---|---|---|---|---|---|---|\n",
       "| 1/1/15 0:00           |  13                   |  4                    |  9                    | Seattle 10th & Weller |  699.3                | 27.86                 | NA                    | 25.5                  | 32                    |  26                   | 2.8                   |\n",
       "| 1/1/15 10:00          |  30                   | 23                    |  7                    | Seattle 10th & Weller |  572.9                | 13.06                 | NA                    |  8.6                  | 34                    | 106                   | 2.9                   |\n",
       "| 1/1/15 11:00          |  46                   | 26                    | 20                    | Seattle 10th & Weller |  738.8                | 20.25                 | NA                    | 12.8                  | 37                    | 127                   | 2.9                   |\n",
       "| 1/1/15 12:00          |  58                   | 33                    | 25                    | Seattle 10th & Weller | 1055.1                | 31.14                 | NA                    | 19.8                  | 39                    | 221                   | 3.0                   |\n",
       "| 1/1/15 13:00          |  88                   | 65                    | 23                    | Seattle 10th & Weller |  989.5                | 34.18                 | NA                    | 16.3                  | 41                    | 226                   | 3.2                   |\n",
       "| 1/1/15 14:00          | 119                   | 66                    | 53                    | Seattle 10th & Weller |  992.7                | 31.02                 | NA                    | 15.3                  | 42                    | 225                   | 3.0                   |\n",
       "\n"
      ],
      "text/plain": [
       "  Date         Fremont.Bridge.Total Fremont.Bridge.East.Sidewalk\n",
       "1 1/1/15 0:00   13                   4                          \n",
       "2 1/1/15 10:00  30                  23                          \n",
       "3 1/1/15 11:00  46                  26                          \n",
       "4 1/1/15 12:00  58                  33                          \n",
       "5 1/1/15 13:00  88                  65                          \n",
       "6 1/1/15 14:00 119                  66                          \n",
       "  Fremont.Bridge.West.Sidewalk Site                  CO     NO2   PM2.5_MO\n",
       "1  9                           Seattle 10th & Weller  699.3 27.86 NA      \n",
       "2  7                           Seattle 10th & Weller  572.9 13.06 NA      \n",
       "3 20                           Seattle 10th & Weller  738.8 20.25 NA      \n",
       "4 25                           Seattle 10th & Weller 1055.1 31.14 NA      \n",
       "5 23                           Seattle 10th & Weller  989.5 34.18 NA      \n",
       "6 53                           Seattle 10th & Weller  992.7 31.02 NA      \n",
       "  PM2.5_FEM Temperature_10_m Wind_Direction_s Wind_Speed_s\n",
       "1 25.5      32                26              2.8         \n",
       "2  8.6      34               106              2.9         \n",
       "3 12.8      37               127              2.9         \n",
       "4 19.8      39               221              3.0         \n",
       "5 16.3      41               226              3.2         \n",
       "6 15.3      42               225              3.0         "
      ]
     },
     "metadata": {},
     "output_type": "display_data"
    }
   ],
   "source": [
    "faq[, c(2:4,6:12)] <- sapply(faq [, c(2:4,6:12)], as.numeric)\n",
    "head(faq)"
   ]
  },
  {
   "cell_type": "code",
   "execution_count": 102,
   "id": "9975309c",
   "metadata": {},
   "outputs": [
    {
     "name": "stderr",
     "output_type": "stream",
     "text": [
      "Warning message:\n",
      "“Removed 24967 rows containing missing values (geom_point).”"
     ]
    },
    {
     "data": {
      "image/png": "[encoded data removed]",
      "text/plain": [
       "plot without title"
      ]
     },
     "metadata": {},
     "output_type": "display_data"
    }
   ],
   "source": [
    "ggplot(data = faq, aes(x = Fremont.Bridge.Total, y = PM2.5_MO))+\n",
    "  geom_point(color = \"#00AFBB\", size = 2)"
   ]
  },
  {
   "cell_type": "markdown",
   "id": "7df08fde",
   "metadata": {},
   "source": [
    "# subset beacon data (closer to SS) \n"
   ]
  },
  {
   "cell_type": "code",
   "execution_count": 103,
   "id": "73a1a5e1",
   "metadata": {},
   "outputs": [
    {
     "data": {
      "text/html": [
       "<table>\n",
       "<thead><tr><th></th><th scope=col>Site</th><th scope=col>Date</th><th scope=col>CO</th><th scope=col>NO2_caps</th><th scope=col>ozone</th><th scope=col>PM2.5_MO</th><th scope=col>PM2.5_FEM</th><th scope=col>RH</th><th scope=col>SO2</th><th scope=col>Temperature</th><th scope=col>Temperature_10_m</th><th scope=col>Wind_Direction_s</th><th scope=col>Wind_Direction_v</th><th scope=col>Wind_Speed_p</th><th scope=col>Wind_Speed_s</th></tr></thead>\n",
       "<tbody>\n",
       "\t<tr><th scope=row>73523</th><td>Seattle Beacon Hill</td><td>1/1/12 0:00        </td><td>NA                 </td><td>NA                 </td><td>0.01               </td><td>NA                 </td><td>10.3               </td><td>71                 </td><td>NA                 </td><td>40                 </td><td>NA                 </td><td>NA                 </td><td>114                </td><td>3.0                </td><td>NA                 </td></tr>\n",
       "\t<tr><th scope=row>73524</th><td>Seattle Beacon Hill</td><td>1/1/12 10:00       </td><td>NA                 </td><td>NA                 </td><td>0.00               </td><td>NA                 </td><td> 6.9               </td><td>69                 </td><td>NA                 </td><td>46                 </td><td>NA                 </td><td>NA                 </td><td>318                </td><td>2.4                </td><td>NA                 </td></tr>\n",
       "\t<tr><th scope=row>73525</th><td>Seattle Beacon Hill</td><td>1/1/12 11:00       </td><td>NA                 </td><td>NA                 </td><td>0.00               </td><td>NA                 </td><td> 5.1               </td><td>67                 </td><td>NA                 </td><td>47                 </td><td>NA                 </td><td>NA                 </td><td>314                </td><td>3.6                </td><td>NA                 </td></tr>\n",
       "\t<tr><th scope=row>73526</th><td>Seattle Beacon Hill</td><td>1/1/12 12:00       </td><td>NA                 </td><td>NA                 </td><td>0.01               </td><td>NA                 </td><td> 5.4               </td><td>58                 </td><td>NA                 </td><td>50                 </td><td>NA                 </td><td>NA                 </td><td>306                </td><td>3.4                </td><td>NA                 </td></tr>\n",
       "\t<tr><th scope=row>73527</th><td>Seattle Beacon Hill</td><td>1/1/12 13:00       </td><td>NA                 </td><td>NA                 </td><td>0.01               </td><td>NA                 </td><td> 3.9               </td><td>51                 </td><td>NA                 </td><td>53                 </td><td>NA                 </td><td>NA                 </td><td>354                </td><td>1.7                </td><td>NA                 </td></tr>\n",
       "\t<tr><th scope=row>73528</th><td>Seattle Beacon Hill</td><td>1/1/12 14:00       </td><td>NA                 </td><td>NA                 </td><td>0.01               </td><td>NA                 </td><td> 3.5               </td><td>51                 </td><td>NA                 </td><td>53                 </td><td>NA                 </td><td>NA                 </td><td>350                </td><td>1.8                </td><td>NA                 </td></tr>\n",
       "</tbody>\n",
       "</table>\n"
      ],
      "text/latex": [
       "\\begin{tabular}{r|lllllllllllllll}\n",
       "  & Site & Date & CO & NO2\\_caps & ozone & PM2.5\\_MO & PM2.5\\_FEM & RH & SO2 & Temperature & Temperature\\_10\\_m & Wind\\_Direction\\_s & Wind\\_Direction\\_v & Wind\\_Speed\\_p & Wind\\_Speed\\_s\\\\\n",
       "\\hline\n",
       "\t73523 & Seattle Beacon Hill & 1/1/12 0:00         & NA                  & NA                  & 0.01                & NA                  & 10.3                & 71                  & NA                  & 40                  & NA                  & NA                  & 114                 & 3.0                 & NA                 \\\\\n",
       "\t73524 & Seattle Beacon Hill & 1/1/12 10:00        & NA                  & NA                  & 0.00                & NA                  &  6.9                & 69                  & NA                  & 46                  & NA                  & NA                  & 318                 & 2.4                 & NA                 \\\\\n",
       "\t73525 & Seattle Beacon Hill & 1/1/12 11:00        & NA                  & NA                  & 0.00                & NA                  &  5.1                & 67                  & NA                  & 47                  & NA                  & NA                  & 314                 & 3.6                 & NA                 \\\\\n",
       "\t73526 & Seattle Beacon Hill & 1/1/12 12:00        & NA                  & NA                  & 0.01                & NA                  &  5.4                & 58                  & NA                  & 50                  & NA                  & NA                  & 306                 & 3.4                 & NA                 \\\\\n",
       "\t73527 & Seattle Beacon Hill & 1/1/12 13:00        & NA                  & NA                  & 0.01                & NA                  &  3.9                & 51                  & NA                  & 53                  & NA                  & NA                  & 354                 & 1.7                 & NA                 \\\\\n",
       "\t73528 & Seattle Beacon Hill & 1/1/12 14:00        & NA                  & NA                  & 0.01                & NA                  &  3.5                & 51                  & NA                  & 53                  & NA                  & NA                  & 350                 & 1.8                 & NA                 \\\\\n",
       "\\end{tabular}\n"
      ],
      "text/markdown": [
       "\n",
       "| <!--/--> | Site | Date | CO | NO2_caps | ozone | PM2.5_MO | PM2.5_FEM | RH | SO2 | Temperature | Temperature_10_m | Wind_Direction_s | Wind_Direction_v | Wind_Speed_p | Wind_Speed_s |\n",
       "|---|---|---|---|---|---|---|---|---|---|---|---|---|---|---|---|\n",
       "| 73523 | Seattle Beacon Hill | 1/1/12 0:00         | NA                  | NA                  | 0.01                | NA                  | 10.3                | 71                  | NA                  | 40                  | NA                  | NA                  | 114                 | 3.0                 | NA                  |\n",
       "| 73524 | Seattle Beacon Hill | 1/1/12 10:00        | NA                  | NA                  | 0.00                | NA                  |  6.9                | 69                  | NA                  | 46                  | NA                  | NA                  | 318                 | 2.4                 | NA                  |\n",
       "| 73525 | Seattle Beacon Hill | 1/1/12 11:00        | NA                  | NA                  | 0.00                | NA                  |  5.1                | 67                  | NA                  | 47                  | NA                  | NA                  | 314                 | 3.6                 | NA                  |\n",
       "| 73526 | Seattle Beacon Hill | 1/1/12 12:00        | NA                  | NA                  | 0.01                | NA                  |  5.4                | 58                  | NA                  | 50                  | NA                  | NA                  | 306                 | 3.4                 | NA                  |\n",
       "| 73527 | Seattle Beacon Hill | 1/1/12 13:00        | NA                  | NA                  | 0.01                | NA                  |  3.9                | 51                  | NA                  | 53                  | NA                  | NA                  | 354                 | 1.7                 | NA                  |\n",
       "| 73528 | Seattle Beacon Hill | 1/1/12 14:00        | NA                  | NA                  | 0.01                | NA                  |  3.5                | 51                  | NA                  | 53                  | NA                  | NA                  | 350                 | 1.8                 | NA                  |\n",
       "\n"
      ],
      "text/plain": [
       "      Site                Date         CO NO2_caps ozone PM2.5_MO PM2.5_FEM RH\n",
       "73523 Seattle Beacon Hill 1/1/12 0:00  NA NA       0.01  NA       10.3      71\n",
       "73524 Seattle Beacon Hill 1/1/12 10:00 NA NA       0.00  NA        6.9      69\n",
       "73525 Seattle Beacon Hill 1/1/12 11:00 NA NA       0.00  NA        5.1      67\n",
       "73526 Seattle Beacon Hill 1/1/12 12:00 NA NA       0.01  NA        5.4      58\n",
       "73527 Seattle Beacon Hill 1/1/12 13:00 NA NA       0.01  NA        3.9      51\n",
       "73528 Seattle Beacon Hill 1/1/12 14:00 NA NA       0.01  NA        3.5      51\n",
       "      SO2 Temperature Temperature_10_m Wind_Direction_s Wind_Direction_v\n",
       "73523 NA  40          NA               NA               114             \n",
       "73524 NA  46          NA               NA               318             \n",
       "73525 NA  47          NA               NA               314             \n",
       "73526 NA  50          NA               NA               306             \n",
       "73527 NA  53          NA               NA               354             \n",
       "73528 NA  53          NA               NA               350             \n",
       "      Wind_Speed_p Wind_Speed_s\n",
       "73523 3.0          NA          \n",
       "73524 2.4          NA          \n",
       "73525 3.6          NA          \n",
       "73526 3.4          NA          \n",
       "73527 1.7          NA          \n",
       "73528 1.8          NA          "
      ]
     },
     "metadata": {},
     "output_type": "display_data"
    }
   ],
   "source": [
    "beacon <-subset(wide, Site == 'Seattle Beacon Hill')\n",
    "beacon= beacon %>% select_if(~ !all(is.na(.)))\n",
    "#beacon$Date<- as.Date(beacon$Date, format = \"%m/%d/%y\")\n",
    "#beacon$Date= as.POSIXct(beacon$Date, format = \"%Y-%m-%d %H:%M:%S\")\n",
    "\n",
    "head(beacon)"
   ]
  },
  {
   "cell_type": "code",
   "execution_count": 105,
   "id": "47f911a9",
   "metadata": {},
   "outputs": [
    {
     "data": {
      "text/html": [
       "<table>\n",
       "<thead><tr><th scope=col>Date</th><th scope=col>Spokane.St..Bridge.Total</th><th scope=col>West</th><th scope=col>East</th></tr></thead>\n",
       "<tbody>\n",
       "\t<tr><td>6/1/20 0:00</td><td> 2         </td><td>2          </td><td> 0         </td></tr>\n",
       "\t<tr><td>6/1/20 1:00</td><td> 1         </td><td>0          </td><td> 1         </td></tr>\n",
       "\t<tr><td>6/1/20 2:00</td><td> 2         </td><td>2          </td><td> 0         </td></tr>\n",
       "\t<tr><td>6/1/20 3:00</td><td> 1         </td><td>0          </td><td> 1         </td></tr>\n",
       "\t<tr><td>6/1/20 4:00</td><td> 3         </td><td>1          </td><td> 2         </td></tr>\n",
       "\t<tr><td>6/1/20 5:00</td><td>36         </td><td>5          </td><td>31         </td></tr>\n",
       "</tbody>\n",
       "</table>\n"
      ],
      "text/latex": [
       "\\begin{tabular}{r|llll}\n",
       " Date & Spokane.St..Bridge.Total & West & East\\\\\n",
       "\\hline\n",
       "\t 6/1/20 0:00 &  2          & 2           &  0         \\\\\n",
       "\t 6/1/20 1:00 &  1          & 0           &  1         \\\\\n",
       "\t 6/1/20 2:00 &  2          & 2           &  0         \\\\\n",
       "\t 6/1/20 3:00 &  1          & 0           &  1         \\\\\n",
       "\t 6/1/20 4:00 &  3          & 1           &  2         \\\\\n",
       "\t 6/1/20 5:00 & 36          & 5           & 31         \\\\\n",
       "\\end{tabular}\n"
      ],
      "text/markdown": [
       "\n",
       "| Date | Spokane.St..Bridge.Total | West | East |\n",
       "|---|---|---|---|\n",
       "| 6/1/20 0:00 |  2          | 2           |  0          |\n",
       "| 6/1/20 1:00 |  1          | 0           |  1          |\n",
       "| 6/1/20 2:00 |  2          | 2           |  0          |\n",
       "| 6/1/20 3:00 |  1          | 0           |  1          |\n",
       "| 6/1/20 4:00 |  3          | 1           |  2          |\n",
       "| 6/1/20 5:00 | 36          | 5           | 31          |\n",
       "\n"
      ],
      "text/plain": [
       "  Date        Spokane.St..Bridge.Total West East\n",
       "1 6/1/20 0:00  2                       2     0  \n",
       "2 6/1/20 1:00  1                       0     1  \n",
       "3 6/1/20 2:00  2                       2     0  \n",
       "4 6/1/20 3:00  1                       0     1  \n",
       "5 6/1/20 4:00  3                       1     2  \n",
       "6 6/1/20 5:00 36                       5    31  "
      ]
     },
     "metadata": {},
     "output_type": "display_data"
    },
    {
     "data": {
      "text/html": [
       "<ol class=list-inline>\n",
       "\t<li>'Date'</li>\n",
       "\t<li>'Spokane.St..Bridge.Total'</li>\n",
       "\t<li>'West'</li>\n",
       "\t<li>'East'</li>\n",
       "</ol>\n"
      ],
      "text/latex": [
       "\\begin{enumerate*}\n",
       "\\item 'Date'\n",
       "\\item 'Spokane.St..Bridge.Total'\n",
       "\\item 'West'\n",
       "\\item 'East'\n",
       "\\end{enumerate*}\n"
      ],
      "text/markdown": [
       "1. 'Date'\n",
       "2. 'Spokane.St..Bridge.Total'\n",
       "3. 'West'\n",
       "4. 'East'\n",
       "\n",
       "\n"
      ],
      "text/plain": [
       "[1] \"Date\"                     \"Spokane.St..Bridge.Total\"\n",
       "[3] \"West\"                     \"East\"                    "
      ]
     },
     "metadata": {},
     "output_type": "display_data"
    }
   ],
   "source": [
    "#Import Spokane Street Bike Dataset \n",
    "\n",
    "\n",
    "ssbike<- read.csv(\"Data/Spokane_St_Bridge_Bicycle_Counter.csv\")\n",
    "\n",
    "\n",
    "head(ssbike)\n",
    "colnames(ssbike)\n"
   ]
  },
  {
   "cell_type": "markdown",
   "id": "5abe21de",
   "metadata": {},
   "source": [
    "# Spoakane Bridge and AQ in SAQ"
   ]
  },
  {
   "cell_type": "code",
   "execution_count": 117,
   "id": "71fef0a2",
   "metadata": {},
   "outputs": [
    {
     "data": {
      "text/html": [
       "<ol class=list-inline>\n",
       "\t<li>'Date'</li>\n",
       "\t<li>'Spokane.St..Bridge.Total'</li>\n",
       "\t<li>'West'</li>\n",
       "\t<li>'East'</li>\n",
       "\t<li>'Site'</li>\n",
       "\t<li>'CO'</li>\n",
       "\t<li>'NO2_caps'</li>\n",
       "\t<li>'ozone'</li>\n",
       "\t<li>'PM2.5_MO'</li>\n",
       "\t<li>'PM2.5_FEM'</li>\n",
       "\t<li>'RH'</li>\n",
       "\t<li>'SO2'</li>\n",
       "\t<li>'Temperature'</li>\n",
       "\t<li>'Temperature_10_m'</li>\n",
       "\t<li>'Wind_Direction_s'</li>\n",
       "\t<li>'Wind_Direction_v'</li>\n",
       "\t<li>'Wind_Speed_p'</li>\n",
       "\t<li>'Wind_Speed_s'</li>\n",
       "</ol>\n"
      ],
      "text/latex": [
       "\\begin{enumerate*}\n",
       "\\item 'Date'\n",
       "\\item 'Spokane.St..Bridge.Total'\n",
       "\\item 'West'\n",
       "\\item 'East'\n",
       "\\item 'Site'\n",
       "\\item 'CO'\n",
       "\\item 'NO2\\_caps'\n",
       "\\item 'ozone'\n",
       "\\item 'PM2.5\\_MO'\n",
       "\\item 'PM2.5\\_FEM'\n",
       "\\item 'RH'\n",
       "\\item 'SO2'\n",
       "\\item 'Temperature'\n",
       "\\item 'Temperature\\_10\\_m'\n",
       "\\item 'Wind\\_Direction\\_s'\n",
       "\\item 'Wind\\_Direction\\_v'\n",
       "\\item 'Wind\\_Speed\\_p'\n",
       "\\item 'Wind\\_Speed\\_s'\n",
       "\\end{enumerate*}\n"
      ],
      "text/markdown": [
       "1. 'Date'\n",
       "2. 'Spokane.St..Bridge.Total'\n",
       "3. 'West'\n",
       "4. 'East'\n",
       "5. 'Site'\n",
       "6. 'CO'\n",
       "7. 'NO2_caps'\n",
       "8. 'ozone'\n",
       "9. 'PM2.5_MO'\n",
       "10. 'PM2.5_FEM'\n",
       "11. 'RH'\n",
       "12. 'SO2'\n",
       "13. 'Temperature'\n",
       "14. 'Temperature_10_m'\n",
       "15. 'Wind_Direction_s'\n",
       "16. 'Wind_Direction_v'\n",
       "17. 'Wind_Speed_p'\n",
       "18. 'Wind_Speed_s'\n",
       "\n",
       "\n"
      ],
      "text/plain": [
       " [1] \"Date\"                     \"Spokane.St..Bridge.Total\"\n",
       " [3] \"West\"                     \"East\"                    \n",
       " [5] \"Site\"                     \"CO\"                      \n",
       " [7] \"NO2_caps\"                 \"ozone\"                   \n",
       " [9] \"PM2.5_MO\"                 \"PM2.5_FEM\"               \n",
       "[11] \"RH\"                       \"SO2\"                     \n",
       "[13] \"Temperature\"              \"Temperature_10_m\"        \n",
       "[15] \"Wind_Direction_s\"         \"Wind_Direction_v\"        \n",
       "[17] \"Wind_Speed_p\"             \"Wind_Speed_s\"            "
      ]
     },
     "metadata": {},
     "output_type": "display_data"
    },
    {
     "name": "stderr",
     "output_type": "stream",
     "text": [
      "Warning message in matrix(value, n, p):\n",
      "“data length [1196704] is not a sub-multiple or multiple of the number of columns [10]”"
     ]
    },
    {
     "data": {
      "text/html": [
       "<table>\n",
       "<thead><tr><th scope=col>Date</th><th scope=col>Spokane.St..Bridge.Total</th><th scope=col>West</th><th scope=col>East</th><th scope=col>Site</th><th scope=col>CO</th><th scope=col>NO2_caps</th><th scope=col>ozone</th><th scope=col>PM2.5_MO</th><th scope=col>PM2.5_FEM</th><th scope=col>RH</th><th scope=col>SO2</th><th scope=col>Temperature</th><th scope=col>Temperature_10_m</th><th scope=col>Wind_Direction_s</th><th scope=col>Wind_Direction_v</th><th scope=col>Wind_Speed_p</th><th scope=col>Wind_Speed_s</th></tr></thead>\n",
       "<tbody>\n",
       "\t<tr><td>1/1/14 0:00        </td><td> 0                 </td><td> 0                 </td><td> 0                 </td><td>Seattle Beacon Hill</td><td>NA                 </td><td>NA                 </td><td>  NA               </td><td>NA                 </td><td>11.3               </td><td> NA                </td><td>NA                 </td><td>NA                 </td><td>NA                 </td><td>NA                 </td><td> NA                </td><td> NA                </td><td>NA                 </td></tr>\n",
       "\t<tr><td>1/1/14 10:00       </td><td>17                 </td><td> 6                 </td><td>11                 </td><td>Seattle Beacon Hill</td><td>NA                 </td><td>NA                 </td><td>0.01               </td><td>NA                 </td><td> 5.1               </td><td>100                </td><td>NA                 </td><td>39                 </td><td>NA                 </td><td>NA                 </td><td> 54                </td><td>0.8                </td><td>NA                 </td></tr>\n",
       "\t<tr><td>1/1/14 11:00       </td><td>35                 </td><td>18                 </td><td>17                 </td><td>Seattle Beacon Hill</td><td>NA                 </td><td>NA                 </td><td>0.00               </td><td>NA                 </td><td> 8.3               </td><td>100                </td><td>NA                 </td><td>40                 </td><td>NA                 </td><td>NA                 </td><td> 70                </td><td>1.2                </td><td>NA                 </td></tr>\n",
       "\t<tr><td>1/1/14 12:00       </td><td>28                 </td><td>12                 </td><td>16                 </td><td>Seattle Beacon Hill</td><td>NA                 </td><td>NA                 </td><td>0.01               </td><td>NA                 </td><td> 9.3               </td><td>100                </td><td>NA                 </td><td>41                 </td><td>NA                 </td><td>NA                 </td><td>125                </td><td>1.2                </td><td>NA                 </td></tr>\n",
       "\t<tr><td>1/1/14 13:00       </td><td>24                 </td><td>12                 </td><td>12                 </td><td>Seattle Beacon Hill</td><td>NA                 </td><td>NA                 </td><td>0.00               </td><td>NA                 </td><td>11.8               </td><td>100                </td><td>NA                 </td><td>42                 </td><td>NA                 </td><td>NA                 </td><td>360                </td><td>1.3                </td><td>NA                 </td></tr>\n",
       "\t<tr><td>1/1/14 14:00       </td><td>40                 </td><td>18                 </td><td>22                 </td><td>Seattle Beacon Hill</td><td>NA                 </td><td>NA                 </td><td>0.00               </td><td>NA                 </td><td>13.3               </td><td>100                </td><td>NA                 </td><td>42                 </td><td>NA                 </td><td>NA                 </td><td>329                </td><td>2.0                </td><td>NA                 </td></tr>\n",
       "</tbody>\n",
       "</table>\n"
      ],
      "text/latex": [
       "\\begin{tabular}{r|llllllllllllllllll}\n",
       " Date & Spokane.St..Bridge.Total & West & East & Site & CO & NO2\\_caps & ozone & PM2.5\\_MO & PM2.5\\_FEM & RH & SO2 & Temperature & Temperature\\_10\\_m & Wind\\_Direction\\_s & Wind\\_Direction\\_v & Wind\\_Speed\\_p & Wind\\_Speed\\_s\\\\\n",
       "\\hline\n",
       "\t 1/1/14 0:00         &  0                  &  0                  &  0                  & Seattle Beacon Hill & NA                  & NA                  &   NA                & NA                  & 11.3                &  NA                 & NA                  & NA                  & NA                  & NA                  &  NA                 &  NA                 & NA                 \\\\\n",
       "\t 1/1/14 10:00        & 17                  &  6                  & 11                  & Seattle Beacon Hill & NA                  & NA                  & 0.01                & NA                  &  5.1                & 100                 & NA                  & 39                  & NA                  & NA                  &  54                 & 0.8                 & NA                 \\\\\n",
       "\t 1/1/14 11:00        & 35                  & 18                  & 17                  & Seattle Beacon Hill & NA                  & NA                  & 0.00                & NA                  &  8.3                & 100                 & NA                  & 40                  & NA                  & NA                  &  70                 & 1.2                 & NA                 \\\\\n",
       "\t 1/1/14 12:00        & 28                  & 12                  & 16                  & Seattle Beacon Hill & NA                  & NA                  & 0.01                & NA                  &  9.3                & 100                 & NA                  & 41                  & NA                  & NA                  & 125                 & 1.2                 & NA                 \\\\\n",
       "\t 1/1/14 13:00        & 24                  & 12                  & 12                  & Seattle Beacon Hill & NA                  & NA                  & 0.00                & NA                  & 11.8                & 100                 & NA                  & 42                  & NA                  & NA                  & 360                 & 1.3                 & NA                 \\\\\n",
       "\t 1/1/14 14:00        & 40                  & 18                  & 22                  & Seattle Beacon Hill & NA                  & NA                  & 0.00                & NA                  & 13.3                & 100                 & NA                  & 42                  & NA                  & NA                  & 329                 & 2.0                 & NA                 \\\\\n",
       "\\end{tabular}\n"
      ],
      "text/markdown": [
       "\n",
       "| Date | Spokane.St..Bridge.Total | West | East | Site | CO | NO2_caps | ozone | PM2.5_MO | PM2.5_FEM | RH | SO2 | Temperature | Temperature_10_m | Wind_Direction_s | Wind_Direction_v | Wind_Speed_p | Wind_Speed_s |\n",
       "|---|---|---|---|---|---|---|---|---|---|---|---|---|---|---|---|---|---|\n",
       "| 1/1/14 0:00         |  0                  |  0                  |  0                  | Seattle Beacon Hill | NA                  | NA                  |   NA                | NA                  | 11.3                |  NA                 | NA                  | NA                  | NA                  | NA                  |  NA                 |  NA                 | NA                  |\n",
       "| 1/1/14 10:00        | 17                  |  6                  | 11                  | Seattle Beacon Hill | NA                  | NA                  | 0.01                | NA                  |  5.1                | 100                 | NA                  | 39                  | NA                  | NA                  |  54                 | 0.8                 | NA                  |\n",
       "| 1/1/14 11:00        | 35                  | 18                  | 17                  | Seattle Beacon Hill | NA                  | NA                  | 0.00                | NA                  |  8.3                | 100                 | NA                  | 40                  | NA                  | NA                  |  70                 | 1.2                 | NA                  |\n",
       "| 1/1/14 12:00        | 28                  | 12                  | 16                  | Seattle Beacon Hill | NA                  | NA                  | 0.01                | NA                  |  9.3                | 100                 | NA                  | 41                  | NA                  | NA                  | 125                 | 1.2                 | NA                  |\n",
       "| 1/1/14 13:00        | 24                  | 12                  | 12                  | Seattle Beacon Hill | NA                  | NA                  | 0.00                | NA                  | 11.8                | 100                 | NA                  | 42                  | NA                  | NA                  | 360                 | 1.3                 | NA                  |\n",
       "| 1/1/14 14:00        | 40                  | 18                  | 22                  | Seattle Beacon Hill | NA                  | NA                  | 0.00                | NA                  | 13.3                | 100                 | NA                  | 42                  | NA                  | NA                  | 329                 | 2.0                 | NA                  |\n",
       "\n"
      ],
      "text/plain": [
       "  Date         Spokane.St..Bridge.Total West East Site                CO\n",
       "1 1/1/14 0:00   0                        0    0   Seattle Beacon Hill NA\n",
       "2 1/1/14 10:00 17                        6   11   Seattle Beacon Hill NA\n",
       "3 1/1/14 11:00 35                       18   17   Seattle Beacon Hill NA\n",
       "4 1/1/14 12:00 28                       12   16   Seattle Beacon Hill NA\n",
       "5 1/1/14 13:00 24                       12   12   Seattle Beacon Hill NA\n",
       "6 1/1/14 14:00 40                       18   22   Seattle Beacon Hill NA\n",
       "  NO2_caps ozone PM2.5_MO PM2.5_FEM RH  SO2 Temperature Temperature_10_m\n",
       "1 NA         NA  NA       11.3       NA NA  NA          NA              \n",
       "2 NA       0.01  NA        5.1      100 NA  39          NA              \n",
       "3 NA       0.00  NA        8.3      100 NA  40          NA              \n",
       "4 NA       0.01  NA        9.3      100 NA  41          NA              \n",
       "5 NA       0.00  NA       11.8      100 NA  42          NA              \n",
       "6 NA       0.00  NA       13.3      100 NA  42          NA              \n",
       "  Wind_Direction_s Wind_Direction_v Wind_Speed_p Wind_Speed_s\n",
       "1 NA                NA               NA          NA          \n",
       "2 NA                54              0.8          NA          \n",
       "3 NA                70              1.2          NA          \n",
       "4 NA               125              1.2          NA          \n",
       "5 NA               360              1.3          NA          \n",
       "6 NA               329              2.0          NA          "
      ]
     },
     "metadata": {},
     "output_type": "display_data"
    }
   ],
   "source": [
    "saq <- merge(ssbike,beacon, by=\"Date\")\n",
    "#head(saq)\n",
    "colnames(saq)\n",
    "\n",
    "saq[, c(2:4,6:12)] <- sapply(saq [, c(2:4,6:18)], as.numeric)\n",
    "head(saq)"
   ]
  },
  {
   "cell_type": "code",
   "execution_count": 116,
   "id": "2eb6682b",
   "metadata": {},
   "outputs": [
    {
     "data": {
      "text/html": [
       "<ol class=list-inline>\n",
       "\t<li>74794</li>\n",
       "\t<li>18</li>\n",
       "</ol>\n"
      ],
      "text/latex": [
       "\\begin{enumerate*}\n",
       "\\item 74794\n",
       "\\item 18\n",
       "\\end{enumerate*}\n"
      ],
      "text/markdown": [
       "1. 74794\n",
       "2. 18\n",
       "\n",
       "\n"
      ],
      "text/plain": [
       "[1] 74794    18"
      ]
     },
     "metadata": {},
     "output_type": "display_data"
    }
   ],
   "source": [
    "dim(saq)"
   ]
  },
  {
   "cell_type": "code",
   "execution_count": 112,
   "id": "bf79ebc6",
   "metadata": {},
   "outputs": [
    {
     "name": "stderr",
     "output_type": "stream",
     "text": [
      "Warning message:\n",
      "“Removed 53280 rows containing missing values (geom_point).”"
     ]
    },
    {
     "data": {
      "image/png": "[encoded data removed]",
      "text/plain": [
       "plot without title"
      ]
     },
     "metadata": {},
     "output_type": "display_data"
    }
   ],
   "source": [
    "ggplot(data = saq, aes(x = Spokane.St..Bridge.Total, y = PM2.5_MO))+\n",
    "  geom_point(color = \"#00AFBB\", size = 2)"
   ]
  },
  {
   "cell_type": "code",
   "execution_count": null,
   "id": "b40528cf",
   "metadata": {},
   "outputs": [],
   "source": []
  },
  {
   "cell_type": "code",
   "execution_count": null,
   "id": "9c669072",
   "metadata": {},
   "outputs": [],
   "source": []
  },
  {
   "cell_type": "code",
   "execution_count": null,
   "id": "f168a31d",
   "metadata": {},
   "outputs": [],
   "source": []
  }
 ],
 "metadata": {
  "kernelspec": {
   "display_name": "R",
   "language": "R",
   "name": "ir"
  },
  "language_info": {
   "codemirror_mode": "r",
   "file_extension": ".r",
   "mimetype": "text/x-r-source",
   "name": "R",
   "pygments_lexer": "r",
   "version": "3.6.1"
  }
 },
 "nbformat": 4,
 "nbformat_minor": 5
}
